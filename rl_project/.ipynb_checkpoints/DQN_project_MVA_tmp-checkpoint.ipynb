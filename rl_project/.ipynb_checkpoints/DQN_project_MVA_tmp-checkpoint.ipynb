{
 "cells": [
  {
   "cell_type": "markdown",
   "metadata": {},
   "source": [
    "**You may need to install [OpenCV](https://pypi.python.org/pypi/opencv-python) and [scikit-video](http://www.scikit-video.org/stable/).**"
   ]
  },
  {
   "cell_type": "code",
   "execution_count": 1,
   "metadata": {},
   "outputs": [
    {
     "name": "stderr",
     "output_type": "stream",
     "text": [
      "Using TensorFlow backend.\n",
      "/home/jores/anaconda3/lib/python3.7/site-packages/tensorflow/python/framework/dtypes.py:516: FutureWarning: Passing (type, 1) or '1type' as a synonym of type is deprecated; in a future version of numpy, it will be understood as (type, (1,)) / '(1,)type'.\n",
      "  _np_qint8 = np.dtype([(\"qint8\", np.int8, 1)])\n",
      "/home/jores/anaconda3/lib/python3.7/site-packages/tensorflow/python/framework/dtypes.py:517: FutureWarning: Passing (type, 1) or '1type' as a synonym of type is deprecated; in a future version of numpy, it will be understood as (type, (1,)) / '(1,)type'.\n",
      "  _np_quint8 = np.dtype([(\"quint8\", np.uint8, 1)])\n",
      "/home/jores/anaconda3/lib/python3.7/site-packages/tensorflow/python/framework/dtypes.py:518: FutureWarning: Passing (type, 1) or '1type' as a synonym of type is deprecated; in a future version of numpy, it will be understood as (type, (1,)) / '(1,)type'.\n",
      "  _np_qint16 = np.dtype([(\"qint16\", np.int16, 1)])\n",
      "/home/jores/anaconda3/lib/python3.7/site-packages/tensorflow/python/framework/dtypes.py:519: FutureWarning: Passing (type, 1) or '1type' as a synonym of type is deprecated; in a future version of numpy, it will be understood as (type, (1,)) / '(1,)type'.\n",
      "  _np_quint16 = np.dtype([(\"quint16\", np.uint16, 1)])\n",
      "/home/jores/anaconda3/lib/python3.7/site-packages/tensorflow/python/framework/dtypes.py:520: FutureWarning: Passing (type, 1) or '1type' as a synonym of type is deprecated; in a future version of numpy, it will be understood as (type, (1,)) / '(1,)type'.\n",
      "  _np_qint32 = np.dtype([(\"qint32\", np.int32, 1)])\n",
      "/home/jores/anaconda3/lib/python3.7/site-packages/tensorflow/python/framework/dtypes.py:525: FutureWarning: Passing (type, 1) or '1type' as a synonym of type is deprecated; in a future version of numpy, it will be understood as (type, (1,)) / '(1,)type'.\n",
      "  np_resource = np.dtype([(\"resource\", np.ubyte, 1)])\n",
      "/home/jores/anaconda3/lib/python3.7/site-packages/tensorboard/compat/tensorflow_stub/dtypes.py:541: FutureWarning: Passing (type, 1) or '1type' as a synonym of type is deprecated; in a future version of numpy, it will be understood as (type, (1,)) / '(1,)type'.\n",
      "  _np_qint8 = np.dtype([(\"qint8\", np.int8, 1)])\n",
      "/home/jores/anaconda3/lib/python3.7/site-packages/tensorboard/compat/tensorflow_stub/dtypes.py:542: FutureWarning: Passing (type, 1) or '1type' as a synonym of type is deprecated; in a future version of numpy, it will be understood as (type, (1,)) / '(1,)type'.\n",
      "  _np_quint8 = np.dtype([(\"quint8\", np.uint8, 1)])\n",
      "/home/jores/anaconda3/lib/python3.7/site-packages/tensorboard/compat/tensorflow_stub/dtypes.py:543: FutureWarning: Passing (type, 1) or '1type' as a synonym of type is deprecated; in a future version of numpy, it will be understood as (type, (1,)) / '(1,)type'.\n",
      "  _np_qint16 = np.dtype([(\"qint16\", np.int16, 1)])\n",
      "/home/jores/anaconda3/lib/python3.7/site-packages/tensorboard/compat/tensorflow_stub/dtypes.py:544: FutureWarning: Passing (type, 1) or '1type' as a synonym of type is deprecated; in a future version of numpy, it will be understood as (type, (1,)) / '(1,)type'.\n",
      "  _np_quint16 = np.dtype([(\"quint16\", np.uint16, 1)])\n",
      "/home/jores/anaconda3/lib/python3.7/site-packages/tensorboard/compat/tensorflow_stub/dtypes.py:545: FutureWarning: Passing (type, 1) or '1type' as a synonym of type is deprecated; in a future version of numpy, it will be understood as (type, (1,)) / '(1,)type'.\n",
      "  _np_qint32 = np.dtype([(\"qint32\", np.int32, 1)])\n",
      "/home/jores/anaconda3/lib/python3.7/site-packages/tensorboard/compat/tensorflow_stub/dtypes.py:550: FutureWarning: Passing (type, 1) or '1type' as a synonym of type is deprecated; in a future version of numpy, it will be understood as (type, (1,)) / '(1,)type'.\n",
      "  np_resource = np.dtype([(\"resource\", np.ubyte, 1)])\n"
     ]
    }
   ],
   "source": [
    "import keras\n",
    "import numpy as np\n",
    "import io\n",
    "import base64\n",
    "from IPython.display import HTML\n",
    "import skvideo.io\n",
    "import cv2\n",
    "import json\n",
    "\n",
    "from keras.models import Sequential, model_from_json\n",
    "from keras.layers.core import Dense\n",
    "from keras.optimizers import sgd, adam\n",
    "from keras.layers import Conv2D, Flatten, Dropout"
   ]
  },
  {
   "cell_type": "markdown",
   "metadata": {},
   "source": [
    "# MiniProject on Deep Reinforcement Learning"
   ]
  },
  {
   "cell_type": "markdown",
   "metadata": {},
   "source": [
    "__Notations__: $E_p$ is the expectation under probability $p$. Please justify each of your answer and widely comment your code."
   ]
  },
  {
   "cell_type": "markdown",
   "metadata": {},
   "source": [
    "# Context"
   ]
  },
  {
   "cell_type": "markdown",
   "metadata": {},
   "source": [
    "In a reinforcement learning algorithm, we modelize each step $t$ as an action $a_t$ obtained from a state $s_t$, i.e. $\\{(a_{t},s_{t})_{t\\leq T}\\}$ having the Markov property. We consider a discount factor $\\gamma \\in [0,1]$ that ensures convergence. The goal is to find among all the policies $\\pi$, one that maximizes the expected reward:\n",
    "\n",
    "\\begin{equation*}\n",
    "R(\\pi)=\\sum_{t\\leq T}E_{p^{\\pi}}[\\gamma^t r(s_{t},a_{t})] \\> ,\n",
    "\\end{equation*}\n",
    "\n",
    "where: \n",
    "\\begin{equation*}p^{\\pi}(a_{0},a_{1},s_{1},...,a_{T},s_{T})=p(a_{0})\\prod_{t=1}^{T}\\pi(a_{t}|s_{t})p(s_{t+1}|s_{t},a_{t}) \\> .\n",
    "\\end{equation*}\n",
    "\n",
    "We note the $Q$-function:\n",
    "\n",
    "\\begin{equation*}Q^\\pi(s,a)=E_{p^{\\pi}}[\\sum_{t\\leq T}\\gamma^{t}r(s_{t},a_{t})|s_{0}=s,a_{0}=a] \\> .\n",
    "\\end{equation*}\n",
    "\n",
    "Thus, the optimal Q function is:\n",
    "\\begin{equation*}\n",
    "Q^*(s,a)=\\max_{\\pi}Q^\\pi(s,a) \\> .\n",
    "\\end{equation*}\n",
    "\n",
    "In this project, we will apply the deep reinforcement learning techniques to a simple game: an agent will have to learn from scratch a policy that will permit it maximizing a reward."
   ]
  },
  {
   "cell_type": "markdown",
   "metadata": {},
   "source": [
    "## The environment, the agent and the game"
   ]
  },
  {
   "cell_type": "markdown",
   "metadata": {},
   "source": [
    "### The environment"
   ]
  },
  {
   "cell_type": "markdown",
   "metadata": {},
   "source": [
    "```Environment``` is an abstract class that represents the states, rewards, and actions to obtain the new state."
   ]
  },
  {
   "cell_type": "code",
   "execution_count": 2,
   "metadata": {},
   "outputs": [],
   "source": [
    "class Environment(object):\n",
    "    def __init__(self):\n",
    "        pass\n",
    "\n",
    "    def act(self, act):\n",
    "        \"\"\"\n",
    "        One can act on the environment and obtain its reaction:\n",
    "        - the new state\n",
    "        - the reward of the new state\n",
    "        - should we continue the game?\n",
    "\n",
    "        :return: state, reward, game_over\n",
    "        \"\"\"\n",
    "        pass\n",
    "\n",
    "\n",
    "    def reset(self):\n",
    "        \"\"\"\n",
    "        Reinitialize the environment to a random state and returns\n",
    "        the original state\n",
    "\n",
    "        :return: state\n",
    "        \"\"\"\n",
    "        pass\n",
    "    \n",
    "    def draw(self):\n",
    "        \"\"\"\n",
    "        Visualize in the console or graphically the current state\n",
    "        \"\"\"\n",
    "        pass"
   ]
  },
  {
   "cell_type": "markdown",
   "metadata": {},
   "source": [
    "The method ```act``` allows to act on the environment at a given state $s_t$ (stored internally), via action $a_t$. The method will return the new state $s_{t+1}$, the reward $r(s_{t},a_{t})$ and determines if $t\\leq T$ (*game_over*).\n",
    "\n",
    "The method ```reset``` simply reinitializes the environment to a random state $s_0$.\n",
    "\n",
    "The method ```draw``` displays the current state $s_t$ (this is useful to check the behavior of the Agent).\n",
    "\n",
    "We modelize $s_t$ as a tensor, while $a_t$ is an integer."
   ]
  },
  {
   "cell_type": "markdown",
   "metadata": {},
   "source": [
    "### The Agent"
   ]
  },
  {
   "cell_type": "markdown",
   "metadata": {},
   "source": [
    "The goal of the ```Agent``` is to interact with the ```Environment``` by proposing actions $a_t$ obtained from a given state $s_t$ to attempt to maximize its __reward__ $r(s_t,a_t)$. We propose the following abstract class:"
   ]
  },
  {
   "cell_type": "code",
   "execution_count": 3,
   "metadata": {},
   "outputs": [],
   "source": [
    "class Agent(object):\n",
    "    def __init__(self, epsilon=0.1, n_action=4):\n",
    "        self.epsilon = epsilon\n",
    "        self.n_action = n_action\n",
    "    \n",
    "    def set_epsilon(self, e):\n",
    "        self.epsilon = e\n",
    "\n",
    "    def act(self, s, train=True):\n",
    "        \"\"\" This function should return the next action to do:\n",
    "        an integer between 0 and 4 (not included) with a random exploration of epsilon\"\"\"\n",
    "        if train:\n",
    "            if np.random.rand() <= self.epsilon:\n",
    "                a = np.random.randint(0, self.n_action, size=1)[0]\n",
    "            else:\n",
    "                a = self.learned_act(s)\n",
    "        else: # in some cases, this can improve the performance.. remove it if poor performances\n",
    "            a = self.learned_act(s)\n",
    "\n",
    "        return a\n",
    "\n",
    "    def learned_act(self,s):\n",
    "        \"\"\" Act via the policy of the agent, from a given state s\n",
    "        it proposes an action a\"\"\"\n",
    "        pass\n",
    "\n",
    "    def reinforce(self, s, n_s, a, r, game_over_):\n",
    "        \"\"\" This function is the core of the learning algorithm. \n",
    "        It takes as an input the current state s_, the next state n_s_\n",
    "        the action a_ used to move from s_ to n_s_ and the reward r_.\n",
    "        \n",
    "        Its goal is to learn a policy.\n",
    "        \"\"\"\n",
    "        pass\n",
    "\n",
    "    def save(self):\n",
    "        \"\"\" This function returns basic stats if applicable: the\n",
    "        loss and/or the model\"\"\"\n",
    "        pass\n",
    "\n",
    "    def load(self):\n",
    "        \"\"\" This function allows to restore a model\"\"\"\n",
    "        pass"
   ]
  },
  {
   "cell_type": "markdown",
   "metadata": {},
   "source": [
    "***\n",
    "__Question 1__:\n",
    "Explain the function act. Why is ```epsilon``` essential?"
   ]
  },
  {
   "cell_type": "markdown",
   "metadata": {},
   "source": [
    "Epsilon is essential because it plays the role of trade-off between exploitation and exploration. Indeed with a low value of epsilon, the agent will act by only taking into consideration what he learned. As epsilon increases, the agent will sometime explore random actions. "
   ]
  },
  {
   "cell_type": "markdown",
   "metadata": {},
   "source": [
    "***\n",
    "### The Game"
   ]
  },
  {
   "cell_type": "markdown",
   "metadata": {},
   "source": [
    "The ```Agent``` and the ```Environment``` work in an interlaced way as in the following (take some time to understand this code as it is the core of the project)\n",
    "\n",
    "```python\n",
    "\n",
    "epoch = 300\n",
    "env = Environment()\n",
    "agent = Agent()\n",
    "\n",
    "\n",
    "# Number of won games\n",
    "score = 0\n",
    "loss = 0\n",
    "\n",
    "\n",
    "for e in range(epoch):\n",
    "    # At each epoch, we restart to a fresh game and get the initial state\n",
    "    state = env.reset()\n",
    "    # This assumes that the games will end\n",
    "    game_over = False\n",
    "\n",
    "    win = 0\n",
    "    lose = 0\n",
    "    \n",
    "    while not game_over:\n",
    "        # The agent performs an action\n",
    "        action = agent.act(state)\n",
    "\n",
    "        # Apply an action to the environment, get the next state, the reward\n",
    "        # and if the games end\n",
    "        prev_state = state\n",
    "        state, reward, game_over = env.act(action)\n",
    "\n",
    "        # Update the counters\n",
    "        if reward > 0:\n",
    "            win = win + reward\n",
    "        if reward < 0:\n",
    "            lose = lose -reward\n",
    "\n",
    "        # Apply the reinforcement strategy\n",
    "        loss = agent.reinforce(prev_state, state,  action, reward, game_over)\n",
    "\n",
    "    # Save as a mp4\n",
    "    if e % 10 == 0:\n",
    "        env.draw(e)\n",
    "\n",
    "    # Update stats\n",
    "    score += win-lose\n",
    "\n",
    "    print(\"Epoch {:03d}/{:03d} | Loss {:.4f} | Win/lose count {}/{} ({})\"\n",
    "          .format(e, epoch, loss, win, lose, win-lose))\n",
    "    agent.save()\n",
    "```"
   ]
  },
  {
   "cell_type": "markdown",
   "metadata": {},
   "source": [
    "# The game, *eat cheese*"
   ]
  },
  {
   "cell_type": "markdown",
   "metadata": {},
   "source": [
    "A rat runs on an island and tries to eat as much as possible. The island is subdivided into $N\\times N$ cells, in which there are cheese (+0.5) and poisonous cells (-1). The rat has a visibility of 2 cells (thus it can see $5^2$ cells). The rat is given a time $T$ to accumulate as much food as possible. It can perform 4 actions: going up, down, left, right. \n",
    "\n",
    "The goal is to code an agent to solve this task that will learn by trial and error. We propose the following environment:"
   ]
  },
  {
   "cell_type": "code",
   "execution_count": 4,
   "metadata": {},
   "outputs": [],
   "source": [
    "class Environment(object):\n",
    "    def __init__(self, grid_size=10, max_time=500, temperature=0.1):\n",
    "        grid_size = grid_size+4\n",
    "        self.grid_size = grid_size\n",
    "        self.max_time = max_time\n",
    "        self.temperature = temperature\n",
    "\n",
    "        #board on which one plays\n",
    "        self.board = np.zeros((grid_size,grid_size))\n",
    "        self.position = np.zeros((grid_size,grid_size))\n",
    "\n",
    "        # coordinate of the cat\n",
    "        self.x = 0\n",
    "        self.y = 1\n",
    "\n",
    "        # self time\n",
    "        self.t = 0\n",
    "\n",
    "        self.scale=16\n",
    "\n",
    "        self.to_draw = np.zeros((max_time+2, grid_size*self.scale, grid_size*self.scale, 3))\n",
    "\n",
    "\n",
    "    def draw(self,e):\n",
    "        skvideo.io.vwrite(str(e) + '.mp4', self.to_draw)\n",
    "\n",
    "    def get_frame(self,t):\n",
    "        b = np.zeros((self.grid_size,self.grid_size,3))+128\n",
    "        b[self.board>0,0] = 256\n",
    "        b[self.board < 0, 2] = 256\n",
    "        b[self.x,self.y,:]=256\n",
    "        b[-2:,:,:]=0\n",
    "        b[:,-2:,:]=0\n",
    "        b[:2,:,:]=0\n",
    "        b[:,:2,:]=0\n",
    "        \n",
    "        b =  cv2.resize(b, None, fx=self.scale, fy=self.scale, interpolation=cv2.INTER_NEAREST)\n",
    "\n",
    "        self.to_draw[t,:,:,:]=b\n",
    "\n",
    "\n",
    "    def act(self, action):\n",
    "        \"\"\"This function returns the new state, reward and decides if the\n",
    "        game ends.\"\"\"\n",
    "\n",
    "        self.get_frame(int(self.t))\n",
    "\n",
    "        self.position = np.zeros((self.grid_size, self.grid_size))\n",
    "\n",
    "        self.position[0:2,:]= -1\n",
    "        self.position[:,0:2] = -1\n",
    "        self.position[-2:, :] = -1\n",
    "        self.position[-2:, :] = -1\n",
    "\n",
    "        self.position[self.x, self.y] = 1\n",
    "        if action == 0:\n",
    "            if self.x == self.grid_size-3:\n",
    "                self.x = self.x-1\n",
    "            else:\n",
    "                self.x = self.x + 1\n",
    "        elif action == 1:\n",
    "            if self.x == 2:\n",
    "                self.x = self.x+1\n",
    "            else:\n",
    "                self.x = self.x-1\n",
    "        elif action == 2:\n",
    "            if self.y == self.grid_size - 3:\n",
    "                self.y = self.y - 1\n",
    "            else:\n",
    "                self.y = self.y + 1\n",
    "        elif action == 3:\n",
    "            if self.y == 2:\n",
    "                self.y = self.y + 1\n",
    "            else:\n",
    "                self.y = self.y - 1\n",
    "        else:\n",
    "            RuntimeError('Error: action not recognized')\n",
    "\n",
    "        self.t = self.t + 1\n",
    "        reward = self.board[self.x, self.y]\n",
    "        self.board[self.x, self.y] = 0\n",
    "        game_over = self.t > self.max_time\n",
    "        state = np.concatenate((self.board.reshape(self.grid_size, self.grid_size,1),\n",
    "                        self.position.reshape(self.grid_size, self.grid_size,1)),axis=2)\n",
    "        state = state[self.x-2:self.x+3, self.y-2:self.y+3,:]\n",
    "\n",
    "        return state, reward, game_over\n",
    "\n",
    "    def reset(self):\n",
    "        \"\"\"This function resets the game and returns the initial state\"\"\"\n",
    "\n",
    "        self.x = np.random.randint(3, self.grid_size-3, size=1)[0]\n",
    "        self.y = np.random.randint(3, self.grid_size-3, size=1)[0]\n",
    "\n",
    "\n",
    "        bonus = 0.5*np.random.binomial(1,self.temperature,size=self.grid_size**2)\n",
    "        bonus = bonus.reshape(self.grid_size,self.grid_size)\n",
    "\n",
    "        malus = -1.0*np.random.binomial(1,self.temperature,size=self.grid_size**2)\n",
    "        malus = malus.reshape(self.grid_size, self.grid_size)\n",
    "\n",
    "        self.to_draw = np.zeros((self.max_time+2, self.grid_size*self.scale, self.grid_size*self.scale, 3))\n",
    "\n",
    "\n",
    "        malus[bonus>0]=0\n",
    "\n",
    "        self.board = bonus + malus\n",
    "\n",
    "        self.position = np.zeros((self.grid_size, self.grid_size))\n",
    "        self.position[0:2,:]= -1\n",
    "        self.position[:,0:2] = -1\n",
    "        self.position[-2:, :] = -1\n",
    "        self.position[-2:, :] = -1\n",
    "        self.board[self.x, self.y] = 0\n",
    "        self.t = 0\n",
    "        state = np.concatenate((\n",
    "                               self.board.reshape(self.grid_size, self.grid_size,1),\n",
    "                        self.position.reshape(self.grid_size, self.grid_size,1)),axis=2)\n",
    "\n",
    "        state = state[self.x - 2:self.x + 3, self.y - 2:self.y + 3, :]\n",
    "        return state"
   ]
  },
  {
   "cell_type": "markdown",
   "metadata": {},
   "source": [
    "The following elements are important because they correspond to the hyper parameters for this project:"
   ]
  },
  {
   "cell_type": "code",
   "execution_count": 5,
   "metadata": {},
   "outputs": [],
   "source": [
    "# parameters\n",
    "size = 13\n",
    "T=200\n",
    "temperature=0.3\n",
    "epochs_train=5 # set small when debugging\n",
    "epochs_test=5 # set small when debugging\n",
    "\n",
    "# display videos\n",
    "def display_videos(name):\n",
    "    video = io.open(name, 'r+b').read()\n",
    "    encoded = base64.b64encode(video)\n",
    "    return '''<video alt=\"test\" controls>\n",
    "                <source src=\"data:video/mp4;base64,{0}\" type=\"video/mp4\" />\n",
    "             </video>'''.format(encoded.decode('ascii'))"
   ]
  },
  {
   "cell_type": "markdown",
   "metadata": {},
   "source": [
    "__Question 2__ Explain the use of the arrays ```position``` and ```board```."
   ]
  },
  {
   "cell_type": "markdown",
   "metadata": {},
   "source": [
    "*Position*  \n",
    "Position stores the different positions of the Island accessible by the mouse. \n",
    "- A value of 0 correspond to accessible are\n",
    "- -1 is for non accessible area and 1 is the current position of the mouse\n",
    "\n",
    "*Board*  \n",
    "At each step, board stores global information about the reward of the cells of the island:\n",
    "- A value of -1 is a poison, of 1 is a cheese and 0 correspond to an empty cell\n",
    "- When the rat has already explored a cell, we set the cell to `0`\n",
    " "
   ]
  },
  {
   "cell_type": "markdown",
   "metadata": {},
   "source": [
    "## Random Agent"
   ]
  },
  {
   "cell_type": "markdown",
   "metadata": {},
   "source": [
    "***\n",
    "__Question 3__ Implement a random Agent (only ```learned_act``` needs to be implemented):"
   ]
  },
  {
   "cell_type": "code",
   "execution_count": 6,
   "metadata": {},
   "outputs": [],
   "source": [
    "class RandomAgent(Agent):\n",
    "    def __init__(self):\n",
    "        super(RandomAgent, self).__init__()\n",
    "        pass\n",
    "\n",
    "    def learned_act(self, s):\n",
    "        a = np.random.randint(0, self.n_action, size=1)[0]\n",
    "        return a"
   ]
  },
  {
   "cell_type": "markdown",
   "metadata": {},
   "source": [
    "***\n",
    "***\n",
    "__Question 4__ Visualize the game moves. You need to fill in the following function for the evaluation:"
   ]
  },
  {
   "cell_type": "code",
   "execution_count": 7,
   "metadata": {},
   "outputs": [],
   "source": [
    "def test(agent ,env, epochs,prefix=''):\n",
    "    # Number of won games\n",
    "    score = 0\n",
    "        \n",
    "    for e in range(epochs):\n",
    "        state = env.reset()\n",
    "        game_over = False\n",
    "        win = 0\n",
    "        lose = 0\n",
    "        while not game_over:\n",
    "            action = agent.act(state, train=True)\n",
    "            prev_state = state\n",
    "            state, reward, game_over = env.act(action)\n",
    "\n",
    "            # Update the counters\n",
    "            if reward > 0:\n",
    "                win = win + reward\n",
    "            if reward < 0:\n",
    "                lose = lose -reward\n",
    "        \n",
    "        # Save as a mp4\n",
    "        if e % 10 == 0:\n",
    "            env.draw(prefix+str(e))\n",
    "\n",
    "        # Update stats\n",
    "        score = score + win-lose\n",
    "\n",
    "        print(\"Win/lose count {}/{}. Average score ({})\"\n",
    "              .format(win, lose, score/(1+e)))\n",
    "    print('Final score: '+str(score/epochs))"
   ]
  },
  {
   "cell_type": "code",
   "execution_count": 8,
   "metadata": {},
   "outputs": [
    {
     "name": "stdout",
     "output_type": "stream",
     "text": [
      "Win/lose count 9.5/18.0. Average score (-8.5)\n",
      "Win/lose count 6.0/6.0. Average score (-4.25)\n",
      "Win/lose count 4.5/11.0. Average score (-5.0)\n",
      "Win/lose count 12.5/13.0. Average score (-3.875)\n",
      "Win/lose count 8.5/17.0. Average score (-4.8)\n",
      "Final score: -4.8\n"
     ]
    },
    {
     "data": {
      "text/html": [
       "<video alt=\"test\" controls>\n",
       "                <source src=\"data:video/mp4;base64,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\" type=\"video/mp4\" />\n",
       "             </video>"
      ],
      "text/plain": [
       "<IPython.core.display.HTML object>"
      ]
     },
     "execution_count": 8,
     "metadata": {},
     "output_type": "execute_result"
    }
   ],
   "source": [
    "# Initialize the game\n",
    "env = Environment(grid_size=size, max_time=T,temperature=temperature)\n",
    "\n",
    "# Initialize the agent!\n",
    "agent = RandomAgent()\n",
    "test(agent,env,epochs_test,prefix='random')\n",
    "HTML(display_videos('random0.mp4'))"
   ]
  },
  {
   "cell_type": "markdown",
   "metadata": {},
   "source": [
    "***\n",
    "## DQN"
   ]
  },
  {
   "cell_type": "markdown",
   "metadata": {},
   "source": [
    "Let us assume here that $T=\\infty$.\n",
    "\n",
    "***\n",
    "__Question 5__ Let $\\pi$ be a policy, show that:\n",
    "\n",
    "\\begin{equation*}\n",
    "Q^{\\pi}(s,a)=E_{(s',a')\\sim p(.|s,a)}[r(s,a)+\\gamma Q^{\\pi}(s',a')]\n",
    "\\end{equation*}\n",
    "\n",
    "Then, show that for the optimal policy $\\pi^*$ (we assume its existence), the following holds: \n",
    "\n",
    "\\begin{equation*}\n",
    "Q^{*}(s,a)=E_{s'\\sim \\pi^*(.|s,a)}[r(s,a)+\\gamma\\max_{a'}Q^{*}(s',a')].\n",
    "\\end{equation*}\n",
    "Finally, deduce that a plausible objective is:\n",
    "\n",
    "\\begin{equation*}\n",
    "\\mathcal{L}(\\theta)=E_{s' \\sim \\pi^*(.|s,a)}\\Vert r+\\gamma\\max\\max_{a'}Q(s',a',\\theta)-Q(s,a,\\theta)\\Vert^{2}.\n",
    "\\end{equation*}\n",
    "\n",
    "\n"
   ]
  },
  {
   "cell_type": "markdown",
   "metadata": {},
   "source": [
    "$Q^{\\pi}$ follows the Bellman equation:\n",
    "\n",
    "> \\begin{equation*}\n",
    " \\begin{aligned}\n",
    "Q^{\\pi}(s, a) &= \\mathbb{E}\\left(\\sum_{t \\le T} \\gamma^t r(s_t, a_t) | s_0 = s, a_0 = a, \\cdots, a_t=\\pi(s_t)\\right) \\\\\n",
    "            &= r(s, a) + \\mathbb{E}\\left(\\sum_{1 \\le t \\le T} \\gamma^t r(s_t, \\pi(a_t)) | s_0 = s, a_0 = a\\right)\n",
    "\\end{aligned}\n",
    "\\end{equation*}\n",
    ">\n",
    "\n",
    "Then using the distribution of total expectations:\n",
    ">\n",
    "> \n",
    ">\\begin{equation*}\n",
    "\\begin{aligned}\n",
    "Q^{\\pi}(s, a) &= r(s, a) + \\gamma \\sum_{s', a'} \\mathbb{P}\\left(s_1 = s', a_1 = a'| s_0 = s, a_0 = a\\right)\\mathbb{E}\\left(\\sum_{1 \\le t \\le T} \\gamma^{t-1} r(s_t, \\pi(s_t)) | s_1 = s', a_1 = a', \\pi\\right) \\\\\n",
    "               &= E_{(s',a')\\sim p(.|s,a)}[r(s,a)+\\gamma Q^{\\pi}(s',a')]\n",
    "\\end{aligned}\n",
    "\\end{equation*}\n",
    "\n",
    "For the second inequatily, we use the fact that $Q^* = \\max_{\\pi}Q^\\pi$ and, with similar derivations:\n",
    ">\n",
    ">\\begin{equation*}\n",
    "\\begin{aligned}\n",
    "Q^*(s, a) &= r(s, a) + \\gamma \\sum_{s'} \\max_{a'} \\mathbb{P} \\left(s_1 = s', a_1 = a'| s_0 = s, a_0 = a\\right)\\mathbb{E}\\left(\\sum_{1 \\le t \\le T} \\gamma^{t-1} r(s_t, \\pi^*(s_t)) | s_1 = s', a_1 = a', \\pi^*\\right) \\\\\n",
    "               &= E_{s'\\sim \\pi^*(.|s,a)}[r(s,a)+\\gamma \\max_{a'}Q^*(s',a')]\n",
    "\\end{aligned}\n",
    "\\end{equation*}\n",
    "\n",
    "We want to approximate $Q^{\\pi}$ using a function approximator $Q(s, a; \\theta) \\approx Q^{*}(s,a)$, where $\\theta$ is a parameter . A typical function approximator is neural networks, and in order to determine the parameters of the network, we need a loss function. The latter can be written in the form: $L_i(\\theta_i) = E_{s' \\sim \\pi^*(.|s,a)}[(y_i - Q(s, a; \\theta_i))^2]$. The target value $y_i$ must be choosen in a way that mimic the behavior of the standard Q-learning update rule, i.e. $y_i = r(s,a)+\\gamma \\max_{a'} Q(s',a'; \\theta_{i-1})$. By doing so, we ensure that, at each iteration, our $y_i$ roughly converges towards the optimal Q-value function."
   ]
  },
  {
   "cell_type": "markdown",
   "metadata": {},
   "source": [
    "***\n",
    "The DQN-learning algorithm relies on these derivations to train the parameters $\\theta$ of a Deep Neural Network:\n",
    "\n",
    "1. At the state $s_t$, select the action $a_t$ with best reward using $Q_t$ and store the results;\n",
    "\n",
    "2. Obtain the new state $s_{t+1}$ from the environment $p$;\n",
    "\n",
    "3. Store $(s_t,a_t,s_{t+1})$;\n",
    "\n",
    "4. Obtain $Q_{t+1}$ by minimizing  $\\mathcal{L}$ from a recovered batch from the previously stored results.\n",
    "\n",
    "***\n",
    "__Question 6__ Implement the class ```Memory``` that stores moves (in a replay buffer) via ```remember``` and provides a ```random_access``` to these. Specify a maximum memory size to avoid side effects. You can for example use a ```list()``` and set by default ```max_memory=100```."
   ]
  },
  {
   "cell_type": "code",
   "execution_count": 9,
   "metadata": {},
   "outputs": [],
   "source": [
    "import random\n",
    "class Memory(object):\n",
    "    def __init__(self, max_memory=100):\n",
    "        self.max_memory = max_memory\n",
    "        self.memory = list()\n",
    "\n",
    "    def remember(self, m):\n",
    "        if len(self.memory) == self.max_memory :\n",
    "            self.memory.remove(self.memory[0]) ## removing the first element if the memory is full\n",
    "        self.memory.append(m)\n",
    "\n",
    "    def random_access(self):\n",
    "        return random.choice(self.memory)"
   ]
  },
  {
   "cell_type": "markdown",
   "metadata": {},
   "source": [
    "***\n",
    "The pipeline we will use for training is given below:"
   ]
  },
  {
   "cell_type": "code",
   "execution_count": 10,
   "metadata": {},
   "outputs": [],
   "source": [
    "def train(agent, env, epoch, prefix=''):\n",
    "    # Number of won games\n",
    "    score = 0\n",
    "    loss = 0\n",
    "\n",
    "    for e in range(epoch):\n",
    "        # At each epoch, we restart to a fresh game and get the initial state\n",
    "        state = env.reset()\n",
    "        # This assumes that the games will terminate\n",
    "        game_over = False\n",
    "\n",
    "        win = 0\n",
    "        lose = 0\n",
    "\n",
    "        while not game_over:\n",
    "            # The agent performs an action\n",
    "            action = agent.act(state)\n",
    "\n",
    "            # Apply an action to the environment, get the next state, the reward\n",
    "            # and if the games end\n",
    "            prev_state = state\n",
    "            state, reward, game_over = env.act(action)\n",
    "\n",
    "            # Update the counters\n",
    "            if reward > 0:\n",
    "                win = win + reward\n",
    "            if reward < 0:\n",
    "                lose = lose -reward\n",
    "\n",
    "            # Apply the reinforcement strategy\n",
    "            loss = agent.reinforce(prev_state, state,  action, reward, game_over)\n",
    "\n",
    "        # Save as a mp4\n",
    "        if e % 10 == 0:\n",
    "            env.draw(prefix+str(e))\n",
    "\n",
    "        # Update stats\n",
    "        score += win-lose\n",
    "\n",
    "        print(\"Epoch {:03d}/{:03d} | Loss {:.4f} | Win/lose count {}/{} ({})\"\n",
    "              .format(e, epoch, loss, win, lose, win-lose))\n",
    "        agent.save(name_weights=prefix+'model.h5',name_model=prefix+'model.json')"
   ]
  },
  {
   "cell_type": "markdown",
   "metadata": {},
   "source": [
    "***\n",
    "__Question 7__ Implement the DQN training algorithm using a cascade of fully connected layers. You can use different learning rate, batch size or memory size parameters. In particular, the loss might oscillate while the player will start to win the games. You have to find a good criterium."
   ]
  },
  {
   "cell_type": "code",
   "execution_count": 11,
   "metadata": {},
   "outputs": [],
   "source": [
    "class DQN(Agent):\n",
    "    def __init__(self, grid_size,  epsilon = 0.1, memory_size=100, batch_size = 16,n_state=2):\n",
    "        super(DQN, self).__init__(epsilon = epsilon)\n",
    "\n",
    "        # Discount for Q learning\n",
    "        self.discount = 0.99\n",
    "        \n",
    "        self.grid_size = grid_size\n",
    "        \n",
    "        # number of state\n",
    "        self.n_state = n_state\n",
    "\n",
    "        # Memory\n",
    "        self.memory = Memory(memory_size)\n",
    "        \n",
    "        # Batch size when learning\n",
    "        self.batch_size = batch_size\n",
    "    def learned_act(self, s):\n",
    "        return np.argmax(self.model.predict(s[np.newaxis, :]))\n",
    "\n",
    "    def reinforce(self, s_, n_s_, a_, r_, game_over_):\n",
    "        # Two steps: first memorize the states, second learn from the pool\n",
    "\n",
    "        self.memory.remember([s_, n_s_, a_, r_, game_over_])\n",
    "        \n",
    "        input_states = np.zeros((self.batch_size, 5, 5, self.n_state))\n",
    "        target_q = np.zeros((self.batch_size, 4))\n",
    "        \n",
    "        for i in range(self.batch_size):\n",
    "            s_, n_s_, a_, r_, game_over_ = self.memory.random_access()\n",
    "            input_states[i] = s_\n",
    "            \n",
    "            target_q[i] = self.model.predict(s_[np.newaxis, :])\n",
    "            \n",
    "            if game_over_:\n",
    "                target_q[i, a_] = r_\n",
    "            else:\n",
    "                target_q[i, a_] = r_ + self.discount * np.max(self.model.predict(n_s_[np.newaxis, :]))\n",
    "        # HINT: Clip the target to avoid exploiding gradients.. -- clipping is a bit tighter\n",
    "        target_q = np.clip(target_q, -3, 3)\n",
    "        l = self.model.train_on_batch(input_states, target_q)\n",
    "\n",
    "        return l\n",
    "\n",
    "    def save(self,name_weights='model.h5',name_model='model.json'):\n",
    "        self.model.save_weights(name_weights, overwrite=True)\n",
    "        with open(name_model, \"w\") as outfile:\n",
    "            json.dump(self.model.to_json(), outfile)\n",
    "            \n",
    "    def load(self,name_weights='model.h5',name_model='model.json'):\n",
    "        with open(name_model, \"r\") as jfile:\n",
    "            model = model_from_json(json.load(jfile))\n",
    "        model.load_weights(name_weights)\n",
    "        model.compile(\"sgd\", \"mse\")\n",
    "        self.model = model\n",
    "\n",
    "            \n",
    "class DQN_FC(DQN):\n",
    "    def __init__(self, *args, lr=0.001,**kwargs):\n",
    "        super(DQN_FC, self).__init__( *args,**kwargs)\n",
    "        \n",
    "        model = Sequential()\n",
    "        model.add(Flatten())\n",
    "        model.add(Dense(16, activation='relu'))\n",
    "        model.add(Dropout(0.1))\n",
    "        model.add(Dense(4))\n",
    "        adam = Adam(lr=lr)\n",
    "        model.compile(adam, \"mse\")\n",
    "        self.model = model\n",
    "from keras.optimizers import sgd, Adam       "
   ]
  },
  {
   "cell_type": "code",
   "execution_count": null,
   "metadata": {
    "scrolled": true
   },
   "outputs": [
    {
     "name": "stdout",
     "output_type": "stream",
     "text": [
      "WARNING:tensorflow:From /home/jores/anaconda3/lib/python3.7/site-packages/keras/backend/tensorflow_backend.py:422: The name tf.global_variables is deprecated. Please use tf.compat.v1.global_variables instead.\n",
      "\n",
      "Epoch 000/021 | Loss 0.0270 | Win/lose count 4.5/8.0 (-3.5)\n",
      "Epoch 001/021 | Loss 0.0056 | Win/lose count 6.5/2.0 (4.5)\n",
      "Epoch 002/021 | Loss 0.0032 | Win/lose count 2.0/4.0 (-2.0)\n",
      "Epoch 003/021 | Loss 0.0077 | Win/lose count 10.5/8.0 (2.5)\n",
      "Epoch 004/021 | Loss 0.0074 | Win/lose count 0.5/0 (0.5)\n"
     ]
    }
   ],
   "source": [
    "epochs_train = 21 \n",
    "env = Environment(grid_size=size, max_time=T, temperature=temperature)\n",
    "agent = DQN_FC(size, lr=.001, epsilon = 0.1, memory_size=20000, batch_size = 16, n_state = 2)\n",
    "train(agent, env, epochs_train, prefix='fc_train')\n",
    "#HTML(display_videos('fc_train10.mp4'))"
   ]
  },
  {
   "cell_type": "markdown",
   "metadata": {},
   "source": [
    "***\n",
    "***\n",
    "__Question 8__ Implement the DQN training algorithm using a CNN (for example, 2 convolutional layers and one final fully connected layer)."
   ]
  },
  {
   "cell_type": "code",
   "execution_count": 218,
   "metadata": {},
   "outputs": [],
   "source": [
    "class DQN_CNN(DQN):\n",
    "    def __init__(self, *args,lr=0.1,**kwargs):\n",
    "        super(DQN_CNN, self).__init__(*args,**kwargs)\n",
    "        n = self.n_state\n",
    "        model = Sequential()\n",
    "        if self.n_state == 2 :\n",
    "            model.add(Conv2D(16, n, input_shape=(5,5,n), activation='relu'))\n",
    "            model.add(Conv2D(32, n, activation='relu') )\n",
    "            model.add(Conv2D(64, n, activation='relu'))\n",
    "            model.add(Conv2D(128, n, activation='relu'))\n",
    "        if self.n_state == 3 :\n",
    "            model.add(Conv2D(64, n, input_shape=(5,5,n), activation='relu'))\n",
    "            model.add(Conv2D(128, n, activation='relu') )\n",
    "        model.add(Flatten())\n",
    "        model.add(Dense(4, activation ='relu'))\n",
    "        model.add(Dropout(0.1))\n",
    "        model.add(Dense(4))\n",
    "        adam = Adam(lr=lr)\n",
    "        model.compile(adam, \"mse\")\n",
    "        print(model.summary())\n",
    "        self.model = model"
   ]
  },
  {
   "cell_type": "code",
   "execution_count": 93,
   "metadata": {},
   "outputs": [
    {
     "name": "stdout",
     "output_type": "stream",
     "text": [
      "Model: \"sequential_42\"\n",
      "_________________________________________________________________\n",
      "Layer (type)                 Output Shape              Param #   \n",
      "=================================================================\n",
      "conv2d_26 (Conv2D)           (None, 4, 4, 8)           72        \n",
      "_________________________________________________________________\n",
      "conv2d_27 (Conv2D)           (None, 3, 3, 16)          528       \n",
      "_________________________________________________________________\n",
      "conv2d_28 (Conv2D)           (None, 2, 2, 32)          2080      \n",
      "_________________________________________________________________\n",
      "flatten_42 (Flatten)         (None, 128)               0         \n",
      "_________________________________________________________________\n",
      "dense_92 (Dense)             (None, 16)                2064      \n",
      "_________________________________________________________________\n",
      "dropout_34 (Dropout)         (None, 16)                0         \n",
      "_________________________________________________________________\n",
      "dense_93 (Dense)             (None, 4)                 68        \n",
      "=================================================================\n",
      "Total params: 4,812\n",
      "Trainable params: 4,812\n",
      "Non-trainable params: 0\n",
      "_________________________________________________________________\n",
      "None\n",
      "Epoch 000/021 | Loss 0.0009 | Win/lose count 3.0/3.0 (0.0)\n",
      "Epoch 001/021 | Loss 0.0038 | Win/lose count 1.5/3.0 (-1.5)\n",
      "Epoch 002/021 | Loss 0.0010 | Win/lose count 2.0/4.0 (-2.0)\n",
      "Epoch 003/021 | Loss 0.0047 | Win/lose count 3.5/2.0 (1.5)\n",
      "Epoch 004/021 | Loss 0.0045 | Win/lose count 3.0/1.0 (2.0)\n",
      "Epoch 005/021 | Loss 0.0204 | Win/lose count 7.0/4.0 (3.0)\n",
      "Epoch 006/021 | Loss 0.0065 | Win/lose count 2.5/1.0 (1.5)\n",
      "Epoch 007/021 | Loss 0.0136 | Win/lose count 3.0/2.0 (1.0)\n",
      "Epoch 008/021 | Loss 0.0061 | Win/lose count 2.5/2.0 (0.5)\n",
      "Epoch 009/021 | Loss 0.0080 | Win/lose count 8.0/1.0 (7.0)\n",
      "Epoch 010/021 | Loss 0.0040 | Win/lose count 6.5/2.0 (4.5)\n",
      "Epoch 011/021 | Loss 0.0069 | Win/lose count 7.0/9.0 (-2.0)\n",
      "Epoch 012/021 | Loss 0.0186 | Win/lose count 6.5/2.0 (4.5)\n",
      "Epoch 013/021 | Loss 0.0124 | Win/lose count 10.5/3.0 (7.5)\n",
      "Epoch 014/021 | Loss 0.0055 | Win/lose count 5.0/6.0 (-1.0)\n",
      "Epoch 015/021 | Loss 0.0249 | Win/lose count 11.0/4.0 (7.0)\n",
      "Epoch 016/021 | Loss 0.0201 | Win/lose count 17.0/9.0 (8.0)\n",
      "Epoch 017/021 | Loss 0.0111 | Win/lose count 16.0/8.0 (8.0)\n",
      "Epoch 018/021 | Loss 0.0286 | Win/lose count 8.5/7.0 (1.5)\n",
      "Epoch 019/021 | Loss 0.0264 | Win/lose count 12.0/5.0 (7.0)\n",
      "Epoch 020/021 | Loss 0.0154 | Win/lose count 6.0/1.0 (5.0)\n"
     ]
    }
   ],
   "source": [
    "epochs_train = 21\n",
    "env = Environment(grid_size=size, max_time=T, temperature=temperature)\n",
    "agent = DQN_CNN(size, lr=.001, epsilon = 0.1, memory_size=20000, batch_size = 32, n_state = 2)\n",
    "train(agent, env, epochs_train, prefix='cnn_train')\n",
    "#HTML(display_videos('cnn_train10.mp4'))"
   ]
  },
  {
   "cell_type": "markdown",
   "metadata": {},
   "source": [
    "***\n",
    "***\n",
    "__Question 9__ Test both algorithms and compare their performances. Which issue(s) do you observe? Observe also different behaviors by changing the temperature."
   ]
  },
  {
   "cell_type": "code",
   "execution_count": 94,
   "metadata": {},
   "outputs": [
    {
     "name": "stdout",
     "output_type": "stream",
     "text": [
      "Model: \"sequential_43\"\n",
      "_________________________________________________________________\n",
      "Layer (type)                 Output Shape              Param #   \n",
      "=================================================================\n",
      "conv2d_29 (Conv2D)           (None, 4, 4, 8)           72        \n",
      "_________________________________________________________________\n",
      "conv2d_30 (Conv2D)           (None, 3, 3, 16)          528       \n",
      "_________________________________________________________________\n",
      "conv2d_31 (Conv2D)           (None, 2, 2, 32)          2080      \n",
      "_________________________________________________________________\n",
      "flatten_43 (Flatten)         (None, 128)               0         \n",
      "_________________________________________________________________\n",
      "dense_94 (Dense)             (None, 16)                2064      \n",
      "_________________________________________________________________\n",
      "dropout_35 (Dropout)         (None, 16)                0         \n",
      "_________________________________________________________________\n",
      "dense_95 (Dense)             (None, 4)                 68        \n",
      "=================================================================\n",
      "Total params: 4,812\n",
      "Trainable params: 4,812\n",
      "Non-trainable params: 0\n",
      "_________________________________________________________________\n",
      "None\n",
      "Test of the CNN\n",
      "Win/lose count 6.0/6.0. Average score (0.0)\n",
      "Win/lose count 3.0/0. Average score (1.5)\n",
      "Win/lose count 8.5/2.0. Average score (3.1666666666666665)\n",
      "Win/lose count 5.0/2.0. Average score (3.125)\n",
      "Win/lose count 3.0/0. Average score (3.1)\n",
      "Win/lose count 5.5/1.0. Average score (3.3333333333333335)\n",
      "Win/lose count 14.0/2.0. Average score (4.571428571428571)\n",
      "Win/lose count 5.0/1.0. Average score (4.5)\n",
      "Win/lose count 8.0/3.0. Average score (4.555555555555555)\n",
      "Win/lose count 7.0/1.0. Average score (4.7)\n",
      "Win/lose count 5.5/1.0. Average score (4.681818181818182)\n",
      "Win/lose count 9.5/0. Average score (5.083333333333333)\n",
      "Win/lose count 9.5/4.0. Average score (5.115384615384615)\n",
      "Win/lose count 7.5/1.0. Average score (5.214285714285714)\n",
      "Win/lose count 11.5/3.0. Average score (5.433333333333334)\n",
      "Win/lose count 10.0/4.0. Average score (5.46875)\n",
      "Win/lose count 8.0/6.0. Average score (5.264705882352941)\n",
      "Win/lose count 10.0/3.0. Average score (5.361111111111111)\n",
      "Win/lose count 3.5/0. Average score (5.2631578947368425)\n",
      "Win/lose count 9.0/5.0. Average score (5.2)\n",
      "Win/lose count 11.0/4.0. Average score (5.285714285714286)\n",
      "Final score: 5.285714285714286\n",
      "Test of the FC\n",
      "Win/lose count 2.5/7.0. Average score (-4.5)\n",
      "Win/lose count 2.5/3.0. Average score (-2.5)\n",
      "Win/lose count 1.5/5.0. Average score (-2.8333333333333335)\n",
      "Win/lose count 2.0/1.0. Average score (-1.875)\n",
      "Win/lose count 3.5/9.0. Average score (-2.6)\n",
      "Win/lose count 9.5/3.0. Average score (-1.0833333333333333)\n",
      "Win/lose count 3.0/3.0. Average score (-0.9285714285714286)\n",
      "Win/lose count 3.5/4.0. Average score (-0.875)\n",
      "Win/lose count 4.5/8.0. Average score (-1.1666666666666667)\n",
      "Win/lose count 5.0/6.0. Average score (-1.15)\n",
      "Win/lose count 2.0/4.0. Average score (-1.2272727272727273)\n",
      "Win/lose count 0.5/4.0. Average score (-1.4166666666666667)\n",
      "Win/lose count 2.5/4.0. Average score (-1.4230769230769231)\n",
      "Win/lose count 5.0/2.0. Average score (-1.1071428571428572)\n",
      "Win/lose count 4.5/6.0. Average score (-1.1333333333333333)\n",
      "Win/lose count 7.5/4.0. Average score (-0.84375)\n",
      "Win/lose count 3.0/7.0. Average score (-1.0294117647058822)\n",
      "Win/lose count 3.0/2.0. Average score (-0.9166666666666666)\n",
      "Win/lose count 3.0/5.0. Average score (-0.9736842105263158)\n",
      "Win/lose count 3.0/5.0. Average score (-1.025)\n",
      "Win/lose count 4.5/4.0. Average score (-0.9523809523809523)\n",
      "Final score: -0.9523809523809523\n"
     ]
    }
   ],
   "source": [
    "env = Environment(grid_size=size, max_time=T,temperature=temperature)\n",
    "agent_cnn = DQN_CNN(size, lr=.001, epsilon = 0.1, memory_size=20000, batch_size = 32)\n",
    "agent_cnn.load(name_weights='cnn_trainmodel.h5',name_model='cnn_trainmodel.json')\n",
    "\n",
    "agent_fc = DQN_FC(size, lr=.001, epsilon = 0.1, memory_size=20000, batch_size = 32)\n",
    "agent_cnn.load(name_weights='fc_trainmodel.h5',name_model='fc_trainmodel.json')\n",
    "print('Test of the CNN')\n",
    "test(agent_cnn, env,epochs_test, prefix='cnn_test')\n",
    "print('Test of the FC')\n",
    "test(agent_fc, env,epochs_test, prefix='fc_test')"
   ]
  },
  {
   "cell_type": "code",
   "execution_count": 95,
   "metadata": {},
   "outputs": [
    {
     "data": {
      "text/html": [
       "<video alt=\"test\" controls>\n",
       "                <source src=\"data:video/mp4;base64,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\" type=\"video/mp4\" />\n",
       "             </video>"
      ],
      "text/plain": [
       "<IPython.core.display.HTML object>"
      ]
     },
     "execution_count": 95,
     "metadata": {},
     "output_type": "execute_result"
    }
   ],
   "source": [
    "HTML(display_videos('cnn_test10.mp4'))"
   ]
  },
  {
   "cell_type": "code",
   "execution_count": 96,
   "metadata": {},
   "outputs": [
    {
     "data": {
      "text/html": [
       "<video alt=\"test\" controls>\n",
       "                <source src=\"data:video/mp4;base64,AAAAHGZ0eXBpc29tAAACAGlzb21pc28ybXA0MQAAAAhmcmVlAAC/S21kYXQAAAGzABAHAAABthBgUYI9t/G238bbfxtt/G238bbfxtt/G238bbfxtt/G238bbfxtt/G238bbfxtt/G238bbfxtt/G235G23/Ybg1jbb+Ntv422/I22/7DcGqG239huDXjbb+Ntv422/jbb+NtvyNtv+w3BrG238bbfsAAIiEjBHtv422/Qwdzb+w3BrkYYW2FgO5WG4VkYXm2GYJHYbg1jbb8jbb/sNwasYYW2FvYbgxcDuVhuFaGKm2BldpujUC/jJtsEcZjbb+NtvyNtv+w3Bqhtt/Ybg1yMMLbCwHcrDcK4wLg2wzBIjbb+Ntv422/QzjbB3Kw3CsWYwvNsEjpLBqCRyGoNCMMLbCwHcrDcK0MLzbDPsNwagkEYYW2FgPHabo1YxU2wMorDcKwL9YkCpDbb+U1Rpkbbf9huDVDbb+w3Brxtt+RhhbYWA8dpujVDFTbAyisNwrAviMLzbBIBI5DUGkbbfxtt+/AACRBIwR7b+Ntv2MHc2/hJBp9huDVDONsHcrDcKxYjJtsEgZ5DUGiGcbYO5WG4VixGNW2BagYPKao0QwvNsNCoNgqBHQ225yGoNMjDC2wsB3Kw3CtjFTbAyisNwrBAWJAqQybbBI7DcGowRhhbYWA8cpqjRDC82wz5DUGgI8bbfxgkW38bbfxtt/G235GGFthYDx2m6NUMLzbBI5DUGgI8bbfoZNtgkchqDQZIwvNsMwSCoNgqQzjbB2Kw3CsWjJtsEgZIwvNsMwSSoNgqYwwtsC25DUGDgMDtN0asYqbYGSVhuFYF+sSBURhebYJAI/Iag0I22/7DcGpG23/Ybg1jbb+Ntv3wAAmYSMEe2/jbb8jAx7bCwHjlNUaIYXm2GfYbg1BHI22/7DcGpG23/Ybg1YwwtsLew3Bi4HcrDcK2MLzbDLhJBoCR2G4NSNtv+w3BqRhhbYWA7lYbhWxtt3sNwYuvKao0Y22/kNQYO+03RrGF5thkCORhhbYWA8dpujUjbb/tN0axgXBthmCPG238bbfxtt+RhebYZgj8hqDRDONsHcrDcKxYjGrbAtQMArDcKyNtvysNwrYxU2wMorDcKwQFiQKiMMLbAtQfysNwrI22+9pujUjC82wzBIKg2CpjONsHcrDcKxZYkCqMatsC1AwENtv7DcGuxtt3sNwYu+U1Roxtt/Ybgxd8pqjSNtv422/QAAogSMEe2/jbb8jB3Nv+w3Bqhtt/Iag0yNtv+Q1BoRtt9Kg2CpDbb+Q1BpCNtv+Q1BpGGFthYDwRtt8Kw3CtjC82wz4SQaAkdhuDUjDC2wsB45TVGiGKm2BlFYbhWBfMbbeVhuFdWJAqY228rBUgwV5UGwVRghW2CQMRtt+wAApkSMEe2/jbb8jAx7bCwHcrDcK0MLzbDPsNwagkIbbf2G4NcjDC2wsB3Kw3CuMLzbDMEhDbb+w3BrkYYW2FgPHKao0YwvNsM+ksGoI/Iag0YwwtsLew3Bi4HcrDcKyMLzbDIEjkNQaIbbfyGoNNDbb+Q1BpsYYW2FvIagwcDuVhuFcYFwbYZAkRtt/G238bbfkYXm2GYJHIag0QzjbB3Kw3CsWQ228rDcK8jC82wSASOQ1Bohtt/Ybg10M42wdysNwrFmMLzbBI6Swagj8hqDRDONsHcrDcKxZjFTbysNwrBAWJAqQ22wSOw3BqMRtt+htt/Ybg1yMLzbDIEjkNQaRtt/G237AACuxIwR7b+NtvyMHc2/7DcGqG23SoNgq0NtuchqDTI22/7DcGqGcbYPHabo1FkMm2wR+Q1BoMoZxtg8dpujUWQybbBH5DUGgyhtt0qDYKtDONsHYrDcKxaMm2wSBljONsHcrDcKxdYkCojJtsEgY7DcGsYJFt/G238bbfxtt+RhhbYWA8dpujVjFTbAyisNwrAv1iQKiMm2wSBjsNwakYYW2FgO5WG4Vxipt4F/G236G238pqjTQ22/sNwa6GcbYO/abo1FkMm2wSCoNgqGY22/Yxq2wLbkNQYOB/Kw3Csjbbl7TdGsbbYZgjxtt+8AALdEjBHtv422/IwMe2wsB45TVGjG23SoFQDBVCsNwrI225e03RqRhebYZgkFQbBUhnG2DxymqNBWMm2wRxljB2tv4SQafYbg1QwTzbB47TdGosxtt/Kaowf9huDVjbbhWG4V1YkCqMm2wSBgjbb/kNQaRhhbYWA8RgXBthmCPG238bbfxtt+RhebYZgj8hqDRjONsHcrDcKxdYkCojGrbAtQMDlNUaEYYW2FgOxWG4VoYXm2CPyGoNASI22/IwWbbCwHcrDcK0Ntv5TVGgF+xjVtgWvIagwcBgFYbhWxtt/IagwdlYbhXGF5thkCRG235G23/Kao0jbb+Ntv3wAAv8SMEe2/jbb+Ntv0Ntv5DUGmRtt/yGoNCNtv+Q1BpG238bbfkbbf8hqDRDbb+Q1Bpkbbf8hqDQjbb/kNQaRtt/G235G23/Iag0jbb+Ntv422/jbb+Ntv422/jbb+Ntv422/jbb+Ntv422/jbb+Ntv422/jbb+Ntv422/jbb9AAABtlDwI/////+/AACIhP/////fAACRBP///+L3/gAAmYT/xe8Xv///F7xe/QAAogT//78AAKZE/////98AAK7E////xfyrUaf3AAC3RP8LgBfEwyGQX+gXBhnyrUaf/+L7qeoX/38AAL/E/////98AAAG2UWAj/////78AAIiE/////98AAJEE/////98AAJmE/////98AAKIE//+/AACmRP/////fAACuxP///+L7iaoH/gAAt0T/hcALHYF4NRmF/gFgYZDL//xfT/4AAL/E/////98AAAG2UfAj/////78AAIiE/////98AAJEE/////98AAJmE/////98AAKIE//+/AACmRP/////fAACuxP////F9O/cAALdE/8LgBY6AsMhkLxn//xYAWNRfT/0AAL/E/////98AAAG2UmAj/////78AAIiE/////98AAJEE/////98AAJmE/////98AAKIE//+/AACmRP/////fAACuxP/////fAAC3RP/iwAsZhfQjMZ//8WAFjX4AAL/E/////98AAAG2UvAj/////78AAIiE/////98AAJEE/////98AAJmE/////98AAKIE//+/AACmRP/////fAACuxP/////fAAC3RP/wuAFjUZhfOjL///cAAL/E/////98AAAG2U2Aj/////78AAIiE/////98AAJEE/////98AAJmE/////98AAKIE//+/AACmRP/////fAACuxP////4/uJqgfgAAt0T/+PACxkP4Ogw//8f3U9Qv3wAAv8T/////3wAAAbZT8CX/////vwAAREJ/////7wAASIJ/////7wAATMJ/////7wAAUQJ//98AAFMif////+8AAFdif////+8AAFuif/3AxjwAjB0GH//9AABf4n/////vAAABtlRgI/////+/AACIhP/////fAACRBP/////fAACZhP/////fAACiBP//vwAApkT/////3wAArsT/////3wAAt0T/+BBy2/5DUGjgBf//9wAAv8T/////3wAAAbZU8CP/////vwAAiIT/////3wAAkQT/////3wAAmYT/////3wAAogT//78AAKZE/////98AAK7E/////98AALdE//3AC///HwAracZ7AAC/xP/8f9q9Gv//9wAAAbZVYCP/////vwAAiIT/////3wAAkQT/////3wAAmYT/////3wAAogT//78AAKZE/////98AAK7E/////98AALdE/////DGDrbfj4AXtXo13AAC/xP/////fAAABtlXwI/////+/AACIhP/////fAACRBP/////fAACZhP/////fAACiBP//vwAApkT/////3wAArsT/////3wAAt0T////8fAC9q9GrgBe/AAC/xP/////fAAABswAQBwAAAbYWYFGCPbfxtt/G238bbfxtt/G238bbfxtt/G238bbfxtt/G238bbfxtt/G238bbfxtt/G238bbfxtt+Rtt/2G4NY22/jbb+NtvyNtv+w3Bqhtt/Ybg1422/jbb+Ntv422/jbb8jbb/sNwaxtt/G237AACIhIwR7b+Ntv0MHc2/sNwa5GGFthYDuVhuFZGF5thmCR2G4NY22/I22/7DcGrGGFthb2G4MXA7lYbhWhiptgZXabo1Av4ybbBHGY22/jbb8jbb/sNwaobbf2G4NcjDC2wsB3Kw3CuMC4NsMwSI22/jbb+Ntv0M42wdysNwrFmMLzbBI6SwagkchqDQjDC2wsB3Kw3CtDC82wz7DcGoJBGGFthYDx2m6NWMVNsDKKw3CsC/WJAqQ22/lNUaZG23/Ybg1Q22/sNwa8bbfkYYW2FgPHabo1QxU2wMorDcKwL4jC82wSASOQ1BpG238bbfvwAAkQSMEe2/jbb9jB3Nv4SQafYbg1QzjbB3Kw3CsWIybbBIGeQ1BohnG2DuVhuFYsRjVtgWoGDymqNEMLzbDQqDYKgR0NtuchqDTIwwtsLAdysNwrYxU2wMorDcKwQFiQKkMm2wSOw3BqMEYYW2FgPHKao0QwvNsM+Q1BoCPG238YJFt/G238bbfxtt+RhhbYWA8dpujVDC82wSOQ1BoCPG236GTbYJHIag0GSMLzbDMEgqDYKkM42wdisNwrFoybbBIGSMLzbDMEkqDYKmMMLbAtuQ1Bg4DA7TdGrGKm2BklYbhWBfrEgVEYXm2CQCPyGoNCNtv+w3BqRtt/2G4NY22/jbb98AAJmEjBHtv422/IwMe2wsB45TVGiGF5thn2G4NQRyNtv+w3BqRtt/2G4NWMMLbC3sNwYuB3Kw3CtjC82wy4SQaAkdhuDUjbb/sNwakYYW2FgO5WG4Vsbbd7DcGLrymqNGNtv5DUGDvtN0axhebYZAjkYYW2FgPHabo1I22/7TdGsYFwbYZgjxtt/G238bbfkYXm2GYI/Iag0QzjbB3Kw3CsWIxq2wLUDAKw3Csjbb8rDcK2MVNsDKKw3CsEBYkCojDC2wLUH8rDcKyNtvvabo1IwvNsMwSCoNgqYzjbB3Kw3CsWWJAqjGrbAtQMBDbb+w3Brsbbd7DcGLvlNUaMbbf2G4MXfKao0jbb+Ntv0AAKIEjBHtv422/Iwdzb/sNwaobbfyGoNMjbb/kNQaEbbfSoNgqQ22/kNQaQjbb/kNQaRhhbYWA8EbbfCsNwrYwvNsM+EkGgJHYbg1IwwtsLAeOU1RohiptgZRWG4VgXzG23lYbhXViQKmNtvKwVIMFeVBsFUYIVtgkDEbbfsAAKZEjBHtv422/IwMe2wsB3Kw3CtDC82wz7DcGoJCG239huDXIwwtsLAdysNwrjC82wzBIQ22/sNwa5GGFthYDxymqNGMLzbDPpLBqCPyGoNGMMLbC3sNwYuB3Kw3CsjC82wyBI5DUGiG238hqDTQ22/kNQabGGFthbyGoMHA7lYbhXGBcG2GQJEbbfxtt/G235GF5thmCRyGoNEM42wdysNwrFkNtvKw3CvIwvNsEgEjkNQaIbbf2G4NdDONsHcrDcKxZjC82wSOksGoI/Iag0QzjbB3Kw3CsWYxU28rDcKwQFiQKkNtsEjsNwajEbbfobbf2G4NcjC82wyBI5DUGkbbfxtt+wAArsSMEe2/jbb8jB3Nv+w3Bqhtt0qDYKtDbbnIag0yNtv+w3BqhnG2Dx2m6NRZDJtsEfkNQaDKGcbYPHabo1FkMm2wR+Q1BoMobbdKg2CrQzjbB2Kw3CsWjJtsEgZYzjbB3Kw3CsXWJAqIybbBIGOw3BrGCRbfxtt/G238bbfkYYW2FgPHabo1YxU2wMorDcKwL9YkCojJtsEgY7DcGpGGFthYDuVhuFcYqbeBfxtt+htt/Kao0422/QzjbB2Kw3CsWQybbBI5DUGgzG237GNW2BbchqDBwP5WG4VkbbcysNwrjbbDMEiNtv0AALdEjBHtv422/IwMe2wsB45TVGjG23SoFQDBVCsNwrI225e03RqRhebYZgkFQbBUhnG2DxymqNBWMm2wRxljbb+EkGn2G4NUNtv7DcGuxtt/CSDT7DcGpG23/Ybg1jbb8jbb/kNQaEbbf8hqDSMEi2/jbb+Ntv422/IwvNsMwR+Q1BoxnG2DuVhuFYusSBURjVtgWoGBymqNCMMLbCwHYrDcK0MLzbBH5DUGgJEbbfkYYW2FgO5WG4VoYqbYGUVhuFYF+RjVtgWoGAVhuFZG235WG4VxhebYZgkRg7W38YJJt/G238bbfgAAv8SMEe2/jbb+Ntv0Ntv5DUGmRtt/yGoNCNtv+Q1BpG238bbfkbbf8hqDRDbb+Q1Bpkbbf8hqDQjbb/kNQaRtt/G238bbfxtt/G238bbfxtt/G238bbfxtt/G238bbfxtt/G238bbfxtt/G238bbfxtt/G238bbfxtt+/AAABtlbwI/////+/AACIhP/////fAACRBP///+L3/gAAmYT/xe8Xv///F7xe/QAAogT//78AAKZE/////98AAK7E/////98AALdE/////HwAvavRq4AXvwAAv8T/////3wAAAbZXYCP/////vwAAiIT/////3wAAkQT/////3wAAmYT/////3wAAogT//78AAKZE/////98AAK7E/////98AALdE/////DGDrbfuAF4AAL/E/////98AAAG2V/Aj/////78AAIiE/////98AAJEE/////98AAJmE/////98AAKIE//+/AACmRP/////fAACuxP/////fAAC3RP////3AC3AC9wAAv8T/////3wAAAbZYYCP/////vwAAiIT/////3wAAkQT/////3wAAmYT/////3wAAogT//78AAKZE/////98AAK7E/////98AALdE/////DGDrbfuAF4AAL/E/////98AAAG2WPAj/////78AAIiE/////98AAJEE/////98AAJmE/////98AAKIE//+/AACmRP/////fAACuxP/////fAAC3RP////3AC3AC9wAAv8T/////3wAAAbZZYCP/////vwAAiIT/////3wAAkQT/////3wAAmYT/////3wAAogT//78AAKZE/////98AAK7E/////98AALdE/////DGDrbfuAF4AAL/E/////98AAAG2WfAj/////78AAIiE/////98AAJEE/////98AAJmE/////98AAKIE//+/AACmRP/////fAACuxP/////fAAC3RP////3AC3AC9wAAv8T/////3wAAAbZaYCP/////vwAAiIT/////3wAAkQT/////3wAAmYT/////3wAAogT//78AAKZE/////98AAK7E/////98AALdE/////DGDrbfuAF4AAL/E/////98AAAG2WvAj/////78AAIiE/////98AAJEE/////98AAJmE/////98AAKIE//+/AACmRP/////fAACuxP/////fAAC3RP////3AC3AC9wAAv8T/////3wAAAbZbYCP/////vwAAiIT/////3wAAkQT/////3wAAmYT/////3wAAogT//78AAKZE/////98AAK7E/////98AALdE/////DGDrbfuAF4AAL/E/////98AAAG2W/Aj/////78AAIiE/////98AAJEE/////98AAJmE/////98AAKIE//+/AACmRP/////fAACuxP/////fAAC3RP////3AC3AC9wAAv8T/////3wAAAbMAEAcAAAG2HGBRgj238bbfxtt/G238bbfxtt/G238bbfxtt/G238bbfxtt/G238bbfxtt/G238bbfxtt/G238bbfkbbf9huDWNtv422/jbb8jbb/sNwaobbf2G4NeNtv422/jbb+Ntv422/I22/7DcGsbbfxtt+wAAiISMEe2/jbb9DB3Nv7DcGuRhhbYWA7lYbhWRhebYZgkdhuDWNtvyNtv+w3BqxhhbYW9huDFwO5WG4VoYqbYGV2m6NQL+Mm2wRxmNtv422/I22/7DcGqG239huDXIwwtsLAdysNwrjAuDbDMEiNtv422/jbb9DONsHcrDcKxZjC82wSOksGoJHIag0IwwtsLAdysNwrQwvNsM+w3BqCQRhhbYWA8dpujVjFTbAyisNwrAv1iQKkNtv5TVGmRtt/2G4NUNtv7DcGvG235GGFthYDx2m6NUMVNsDKKw3CsC+IwvNsEgEjkNQaRtt/G2378AAJEEjBHtv422/Ywdzb+EkGn2G4NUM42wdysNwrFiMm2wSBnkNQaIZxtg7lYbhWLEY1bYFqBg8pqjRDC82w0Kg2CoEdDbbnIag0yMMLbCwHcrDcK2MVNsDKKw3CsEBYkCpDJtsEjsNwajBGGFthYDxymqNEMLzbDPkNQaAjxtt/GCRbfxtt/G238bbfkYYW2FgPHabo1QwvNsEjkNQaAjxtt+hk22CRyGoNBkjC82wzBIKg2CpDONsHYrDcKxaMm2wSBkjC82wzBJKg2CpjDC2wLbkNQYOAwO03RqxiptgZJWG4VgX6xIFRGF5tgkAj8hqDQjbb/sNwakbbf9huDWNtv422/fAACZhIwR7b+NtvyMDHtsLAeOU1RohhebYZ9huDUEcjbb/sNwakbbf9huDVjDC2wt7DcGLgdysNwrYwvNsMuEkGgJHYbg1I22/7DcGpGGFthYDuVhuFbG23ew3Bi68pqjRjbb+Q1Bg77TdGsYXm2GQI5GGFthYDx2m6NSNtv+03RrGBcG2GYI8bbfxtt/G235GF5thmCPyGoNEM42wdysNwrFiMatsC1AwCsNwrI22/Kw3CtjFTbAyisNwrBAWJAqIwwtsC1B/Kw3Csjbb72m6NSMLzbDMEgqDYKmM42wdysNwrFliQKoxq2wLUDAQ22/sNwa7G23ew3Bi75TVGjG239huDF3ymqNI22/jbb9AACiBIwR7b+NtvyMHc2/7DcGqG238hqDTI22/5DUGhG230qDYKkNtv5DUGkI22/5DUGkYYW2FgPBG23wrDcK2MLzbDPhJBoCR2G4NSMMLbCwHjlNUaIYqbYGUVhuFYF8xtt5WG4V1YkCpjbbysFSDBXlQbBVGCFbYJAxG237AACmRIwR7b+NtvyMDHtsLAdysNwrQwvNsM+w3BqCQhtt/Ybg1yMMLbCwHcrDcK4wvNsMwSENtv7DcGuRhhbYWA8cpqjRjC82wz6Swagj8hqDRjDC2wt7DcGLgdysNwrIwvNsMgSOQ1Bohtt/Iag00Ntv5DUGmxhhbYW8hqDBwO5WG4VxgXBthkCRG238bbfxtt+RhebYZgkchqDRDONsHcrDcKxZDbbysNwryMLzbBIBI5DUGiG239huDXQzjbB3Kw3CsWYwvNsEjpLBqCPyGoNEM42wdysNwrFmMVNvKw3CsEBYkCpDbbBI7DcGoxG236G239huDXIwvNsMgSOQ1BpG238bbfsAAK7EjBHtv422/Iwdzb/sNwaobbdKg2CrQ225yGoNMjbb/sNwaoZxtg8dpujUWQybbBH5DUGgyhnG2Dx2m6NRZDJtsEfkNQaDKG23SoNgq0M42wdisNwrFoybbBIGWM42wdysNwrF1iQKiMm2wSBjsNwaxgkW38bbfxtt/G235GGFthYDx2m6NWMVNsDKKw3CsC/WJAqIybbBIGOw3BqRhhbYWA7lYbhXGKm3gX8bbfobbfymqNONtv0M42wdisNwrFkMm2wSOQ1BoMxtt+xjVtgW3IagwcD+VhuFZG23MrDcK422wzBIjbb9AAC3RIwR7b+NtvyMDHtsLAeOU1Roxtt0qBUAwVQrDcKyNtuXtN0akYXm2GYJBUGwVIZxtg8cpqjQVjJtsEcZY22/hJBp9huDVDbb+w3Brsbbfwkg0+w3BqRtt/2G4NY22/I22/5DUGhG23/Iag0jBItv422/jbb+NtvyMLzbDMEfkNQaMZxtg7lYbhWLrEgVEY1bYFqBgcpqjQjDC2wsB2Kw3CtDC82wR+Q1BoCRG235GGFthYDuVhuFaGKm2BlFYbhWBfkY1bYFqBgFYbhWRtt+VhuFcYXm2GYJEYO1t/GCSbfxtt/G234AAL/EjBHtv422/jbb9Dbb+Q1Bpkbbf8hqDQjbb/kNQaRtt/G235G23/Iag0Q22/kNQaZG23/Iag0I22/5DUGkbbfxtt/G238bbfxtt/G238bbfxtt/G238bbfxtt/G238bbfxtt/G238bbfxtt/G238bbfxtt/G238bbfvwAAAbZoOBH/////3wAAiIT/////3wAAkQT////i9/4AAJmE/8XvF7///xe8Xv0AAKIE//+/AACmRP/////fAACuxP/////fAAC3RP////x8AL2r0auAF78AAL/E/////98AAAG2UOAj/////78AAIiE/////98AAJEE/////98AAJmE/////98AAKIE//+/AACmRP/////fAACuxP/////fAAC3RP////wxg6237gBeAAC/xP/////fAAABtlFwI/////+/AACIhP/////fAACRBP/////fAACZhP/////fAACiBP//vwAApkT/////3wAArsT/////3wAAt0T////9wAtwAvcAAL/E/////98AAAG2UeAj/////78AAIiE/////98AAJEE/////98AAJmE/////98AAKIE//+/AACmRP/////fAACuxP/////fAAC3RP////wxg6237gBeAAC/xP/////fAAABtlJwI/////+/AACIhP/////fAACRBP/////fAACZhP/////fAACiBP//vwAApkT/////3wAArsT/////3wAAt0T////9wAtwAvcAAL/E/////98AAAG2UuAj/////78AAIiE/////98AAJEE/////98AAJmE/////98AAKIE//+/AACmRP/////fAACuxP/////fAAC3RP////wxg6237gBeAAC/xP/////fAAABtlNwI/////+/AACIhP/////fAACRBP/////fAACZhP/////fAACiBP//vwAApkT/////3wAArsT/////3wAAt0T////9wAtwAvcAAL/E/////98AAAG2U+Aj/////78AAIiE/////98AAJEE/////98AAJmE/////98AAKIE//+/AACmRP/////fAACuxP/////fAAC3RP////wxg6237gBeAAC/xP/////fAAABtlRwI/////+/AACIhP/////fAACRBP/////fAACZhP/////fAACiBP//vwAApkT/////3wAArsT/////3wAAt0T////9wAtwAvcAAL/E/////98AAAG2VOAj/////78AAIiE/////98AAJEE/////98AAJmE/////98AAKIE//+/AACmRP/////fAACuxP/////fAAC3RP////wxg6237gBeAAC/xP/////fAAABtlVwI/////+/AACIhP/////fAACRBP/////fAACZhP/////fAACiBP//vwAApkT/////3wAArsT/////3wAAt0T////9wAtwAvcAAL/E/////98AAAGzABBHAAABthXgUYI9t/G238bbfxtt/G238bbfxtt/G238bbfxtt/G238bbfxtt/G238bbfxtt/G238bbfxtt/G235G23/Ybg1jbb+Ntv422/I22/7DcGqG239huDXjbb+Ntv422/jbb+NtvyNtv+w3BrG238bbfsAAIiEjBHtv422/Qwdzb+w3BrkYYW2FgO5WG4VkYXm2GYJHYbg1jbb8jbb/sNwasYYW2FvYbgxcDuVhuFaGKm2BldpujUC/jJtsEcZjbb+NtvyNtv+w3Bqhtt/Ybg1yMMLbCwHcrDcK4wLg2wzBIjbb+Ntv422/QzjbB3Kw3CsWYwvNsEjpLBqCRyGoNCMMLbCwHcrDcK0MLzbDPsNwagkEYYW2FgPHabo1YxU2wMorDcKwL9YkCpDbb+U1Rpkbbf9huDVDbb+w3Brxtt+RhhbYWA8dpujVDFTbAyisNwrAviMLzbBIBI5DUGkbbfxtt+/AACRBIwR7b+Ntv2MHc2/hJBp9huDVDONsHcrDcKxYjJtsEgZ5DUGiGcbYO5WG4VixGNW2BagYPKao0QwvNsNCoNgqBHQ225yGoNMjDC2wsB3Kw3CtjFTbAyisNwrBAWJAqQybbBI7DcGowRhhbYWA8cpqjRDC82wz5DUGgI8bbfxgkW38bbfxtt/G235GGFthYDx2m6NUMLzbBI5DUGgI8bbfoZNtgkchqDQZIwvNsMwSCoNgqQzjbB2Kw3CsWjJtsEgZIwvNsMwSSoNgqYwwtsC25DUGDgMDtN0asYqbYGSVhuFYF+sSBURhebYJAI/Iag0I22/7DcGpG23/Ybg1jbb+Ntv3wAAmYSMEe2/jbb8jAx7bCwHjlNUaIYXm2GfYbg1BHI22/7DcGpG23/Ybg1YwwtsLew3Bi4HcrDcK2MLzbDLhJBoCR2G4NSNtv+w3BqRhhbYWA7lYbhWxtt3sNwYuvKao0Y22/kNQYO+03RrGF5thkCORhhbYWA8dpujUjbb/tN0axgXBthmCPG238bbfxtt+RhebYZgj8hqDRDONsHcrDcKxYjGrbAtQMArDcKyNtvysNwrYxU2wMorDcKwQFiQKiMMLbAtQfysNwrI22+9pujUjC82wzBIKg2CpjONsHcrDcKxZYkCqMatsC1AwENtv7DcGuxtt3sNwYu+U1Roxtt/Ybgxd8pqjSNtv422/QAAogSMEe2/jbb8jB3Nv+w3Bqhtt/Iag0yNtv+Q1BoRtt9Kg2CpDbb+Q1BpCNtv+Q1BpGGFthYDwRtt8Kw3CtjC82wz4SQaAkdhuDUjDC2wsB45TVGiGKm2BlFYbhWBfMbbeVhuFdWJAqY228rBUgwV5UGwVRghW2CQMRtt+wAApkSMEe2/jbb8jAx7bCwHcrDcK0MLzbDPsNwagkIbbf2G4NcjDC2wsB3Kw3CuMLzbDMEhDbb+w3BrkYYW2FgPHKao0YwvNsM+ksGoI/Iag0YwwtsLew3Bi4HcrDcKyMLzbDIEjkNQaIbbfyGoNNDbb+Q1BpsYYW2FvIagwcDuVhuFcYFwbYZAkRtt/G238bbfkYXm2GYJHIag0QzjbB3Kw3CsWQ228rDcK8jC82wSASOQ1Bohtt/Ybg10M42wdysNwrFmMLzbBI6Swagj8hqDRDONsHcrDcKxZjFTbysNwrBAWJAqQ22wSOw3BqMRtt+htt/Ybg1yMLzbDIEjkNQaRtt/G237AACuxIwR7b+NtvyMHc2/7DcGqG23SoNgq0NtuchqDTI22/7DcGqGcbYPHabo1FkMm2wR+Q1BoMoZxtg8dpujUWQybbBH5DUGgyhtt0qDYKtDONsHYrDcKxaMm2wSBljONsHcrDcKxdYkCojJtsEgY7DcGsYJFt/G238bbfxtt+RhhbYWA8dpujVjFTbAyisNwrAv1iQKiMm2wSBjsNwakYYW2FgO5WG4Vxipt4F/G236G238pqjTjbb9DONsHYrDcKxZDJtsEjkNQaDMbbfsY1bYFtyGoMHA/lYbhWRttzKw3CuNtsMwSI22/QAAt0SMEe2/jbb8jAx7bCwHjlNUaMbbdKgVAMFUKw3Csjbbl7TdGpGF5thmCQVBsFSGcbYPHKao0FYybbBHGWNtv4SQafYbg1Q22/sNwa7G238JINPsNwakbbf9huDWNtvyNtv+Q1BoRtt/yGoNIwSLb+Ntv422/jbb8jC82wzBH5DUGjGcbYO5WG4Vi6xIFRGNW2BagYHKao0IwwtsLAdisNwrQwvNsEfkNQaAkRtt+RhhbYWA7lYbhWhiptgZRWG4VgX5GNW2BagYBWG4VkbbflYbhXGF5thmCRGDtbfxgkm38bbfxtt+AAC/xIwR7b+Ntv422/Q22/kNQaZG23/Iag0I22/5DUGkbbfxtt+Rtt/yGoNENtv5DUGmRtt/yGoNCNtv+Q1BpG238bbfxtt/G238bbfxtt/G238bbfxtt/G238bbfxtt/G238bbfxtt/G238bbfxtt/G238bbfxtt/G2378AAAG2VnAj/////78AAIiE/////98AAJEE////4vf+AACZhP/F7xe///8XvF79AACiBP//vwAApkT/////3wAArsT/////3wAAt0T////8fAC9q9GrgBe/AAC/xP/////fAAABtlbgI/////+/AACIhP/////fAACRBP/////fAACZhP/////fAACiBP//vwAApkT/////3wAArsT/////3wAAt0T////8MYOtt+4AXgAAv8T/////3wAAAbZXcCP/////vwAAiIT/////3wAAkQT/////3wAAmYT/////3wAAogT//78AAKZE/////98AAK7E/////98AALdE/////cALcAL3AAC/xP/////fAAABtlfgI/////+/AACIhP/////fAACRBP/////fAACZhP/////fAACiBP//vwAApkT/////3wAArsT/////3wAAt0T////8MYOtt+4AXgAAv8T/////3wAAAbZYcCP/////vwAAiIT/////3wAAkQT/////3wAAmYT/////3wAAogT//78AAKZE/////98AAK7E/////98AALdE/////cALcAL3AAC/xP/////fAAABtljgI/////+/AACIhP/////fAACRBP/////fAACZhP/////fAACiBP//vwAApkT/////3wAArsT/////3wAAt0T////8MYOtt+4AXgAAv8T/////3wAAAbZZcCP/////vwAAiIT/////3wAAkQT/////3wAAmYT/////3wAAogT//78AAKZE/////98AAK7E/////98AALdE/////cALcAL3AAC/xP/////fAAABtlngI/////+/AACIhP/////fAACRBP/////fAACZhP/////fAACiBP//vwAApkT/////3wAArsT/////3wAAt0T////8MYOtt+4AXgAAv8T/////3wAAAbZacCP/////vwAAiIT/////3wAAkQT/////3wAAmYT/////3wAAogT//78AAKZE/////98AAK7E/////98AALdE/////cALcAL3AAC/xP/////fAAABtlrgI/////+/AACIhP/////fAACRBP/////fAACZhP/////fAACiBP//vwAApkT/////3wAArsT/////3wAAt0T////8MYOtt+4AXgAAv8T/////3wAAAbZbcCP/////vwAAiIT/////3wAAkQT/////3wAAmYT/////3wAAogT//78AAKZE/////98AAK7E/////98AALdE/////cALcAL3AAC/xP/////fAAABswAQRwAAAbYb4FGCPbfxtt/G238bbfxtt/G238bbfxtt/G238bbfxtt/G238bbfxtt/G238bbfxtt/G238bbfxtt+Rtt/2G4NY22/jbb+NtvyNtv+w3Bqhtt/Ybg1422/jbb+Ntv422/jbb8jbb/sNwaxtt/G237AACIhIwR7b+Ntv0MHc2/sNwa5GGFthYDuVhuFZGF5thmCR2G4NY22/I22/7DcGrGGFthb2G4MXA7lYbhWhiptgZXabo1Av4ybbBHGY22/jbb8jbb/sNwaobbf2G4NcjDC2wsB3Kw3CuMC4NsMwSI22/jbb+Ntv0M42wdysNwrFmMLzbBI6SwagkchqDQjDC2wsB3Kw3CtDC82wz7DcGoJBGGFthYDx2m6NWMVNsDKKw3CsC/WJAqQ22/lNUaZG23/Ybg1Q22/sNwa8bbfkYYW2FgPHabo1QxU2wMorDcKwL4jC82wSASOQ1BpG238bbfvwAAkQSMEe2/jbb9jB3Nv4SQafYbg1QzjbB3Kw3CsWIybbBIGeQ1BohnG2DuVhuFYsRjVtgWoGDymqNEMLzbDQqDYKgR0NtuchqDTIwwtsLAdysNwrYxU2wMorDcKwQFiQKkMm2wSOw3BqMEYYW2FgPHKao0QwvNsM+Q1BoCPG238YJFt/G238bbfxtt+RhhbYWA8dpujVDC82wSOQ1BoCPG236GTbYJHIag0GSMLzbDMEgqDYKkM42wdisNwrFoybbBIGSMLzbDMEkqDYKmMMLbAtuQ1Bg4DA7TdGrGKm2BklYbhWBfrEgVEYXm2CQCPyGoNCNtv+w3BqRtt/2G4NY22/jbb98AAJmEjBHtv422/IwMe2wsB45TVGiGF5thn2G4NQRyNtv+w3BqRtt/2G4NWMMLbC3sNwYuB3Kw3CtjC82wy4SQaAkdhuDUjbb/sNwakYYW2FgO5WG4Vsbbd7DcGLrymqNGNtv5DUGDvtN0axhebYZAjkYYW2FgPHabo1I22/7TdGsYFwbYZgjxtt/G238bbfkYXm2GYI/Iag0QzjbB3Kw3CsWIxq2wLUDAKw3Csjbb8rDcK2MVNsDKKw3CsEBYkCojDC2wLUH8rDcKyNtvvabo1IwvNsMwSCoNgqYzjbB3Kw3CsWWJAqjGrbAtQMBDbb+w3Brsbbd7DcGLvlNUaMbbf2G4MXfKao0jbb+Ntv0AAKIEjBHtv422/Iwdzb/sNwaobbfyGoNMjbb/kNQaEbbfSoNgqQ22/kNQaQjbb/kNQaRhhbYWA8EbbfCsNwrYwvNsM+EkGgJHYbg1IwwtsLAeOU1RohiptgZRWG4VgXzG23lYbhXViQKmNtvKwVIMFeVBsFUYIVtgkDEbbfsAAKZEjBHtv422/IwMe2wsB3Kw3CtDC82wz7DcGoJCG239huDXIwwtsLAdysNwrjC82wzBIQ22/sNwa5GGFthYDxymqNGMLzbDPpLBqCPyGoNGMMLbC3sNwYuB3Kw3CsjC82wyBI5DUGiG238hqDTQ22/kNQabGGFthbyGoMHA7lYbhXGBcG2GQJEbbfxtt/G235GF5thmCRyGoNEM42wdysNwrFkNtvKw3CvIwvNsEgEjkNQaIbbf2G4NdDONsHcrDcKxZjC82wSOksGoI/Iag0QzjbB3Kw3CsWYxU28rDcKwQFiQKkNtsEjsNwajEbbfobbf2G4NcjC82wyBI5DUGkbbfxtt+wAArsSMEe2/jbb8jB3Nv+w3Bqhtt0qDYKtDbbnIag0yNtv+w3BqhnG2Dx2m6NRZDJtsEfkNQaDKGcbYPHabo1FkMm2wR+Q1BoMobbdKg2CrQzjbB2Kw3CsWjJtsEgZYzjbB3Kw3CsXWJAqIybbBIGOw3BrGCRbfxtt/G238bbfkYYW2FgPHabo1YxU2wMorDcKwL9YkCojJtsEgY7DcGpGGFthYDuVhuFcYqbeBfxtt+htt/Kao0422/QzjbB2Kw3CsWQybbBI5DUGgzG237GNW2BbchqDBwP5WG4VkbbcysNwrjbbDMEiNtv0AALdEjBHtv422/IwMe2wsB45TVGjG23SoFQDBVCsNwrI225e03RqRhebYZgkFQbBUhnG2DxymqNBWMm2wRxljbb+EkGn2G4NUNtv7DcGuxtt/CSDT7DcGpG23/Ybg1jbb8jbb/kNQaEbbf8hqDSMEi2/jbb+Ntv422/IwvNsMwR+Q1BoxnG2DuVhuFYusSBURjVtgWoGBymqNCMMLbCwHYrDcK0MLzbBH5DUGgJEbbfkYYW2FgO5WG4VoYqbYGUVhuFYF+RjVtgWoGAVhuFZG235WG4VxhebYZgkRg7W38YJJt/G238bbfgAAv8SMEe2/jbb+Ntv0Ntv5DUGmRtt/yGoNCNtv+Q1BpG238bbfkbbf8hqDRDbb+Q1Bpkbbf8hqDQjbb/kNQaRtt/G238bbfxtt/G238bbfxtt/G238bbfxtt/G238bbfxtt/G238bbfxtt/G238bbfxtt/G238bbfxtt+/AAABtlxwI/////+/AACIhP/////fAACRBP///+L3/gAAmYT/xe8Xv///F7xe/QAAogT//78AAKZE/////98AAK7E/////98AALdE/////HwAvavRq4AXvwAAv8T/////3wAAAbZoMBH/////3wAAiIT/////3wAAkQT/////3wAAmYT/////3wAAogT//78AAKZE/////98AAK7E/////98AALdE/////DGDrbfuAF4AAL/E/////98AAAG2UPAj/////78AAIiE/////98AAJEE/////98AAJmE/////98AAKIE//+/AACmRP/////fAACuxP/////fAAC3RP////3AC3AC9wAAv8T/////3wAAAbZRYCP/////vwAAiIT/////3wAAkQT/////3wAAmYT/////3wAAogT//78AAKZE/////98AAK7E/////98AALdE/////DGDrbfuAF4AAL/E/////98AAAG2UfAj/////78AAIiE/////98AAJEE/////98AAJmE/////98AAKIE//+/AACmRP/////fAACuxP/////fAAC3RP////3AC3AC9wAAv8T/////3wAAAbZSYCP/////vwAAiIT/////3wAAkQT/////3wAAmYT/////3wAAogT//78AAKZE/////98AAK7E/////98AALdE/////DGDrbfuAF4AAL/E/////98AAAG2UvAj/////78AAIiE/////98AAJEE/////98AAJmE/////98AAKIE//+/AACmRP/////fAACuxP/////fAAC3RP////3AC3AC9wAAv8T/////3wAAAbZTYCP/////vwAAiIT/////3wAAkQT/////3wAAmYT/////3wAAogT//78AAKZE/////98AAK7E/////98AALdE/////DGDrbfuAF4AAL/E/////98AAAG2U/Aj/////78AAIiE/////98AAJEE/////98AAJmE/////98AAKIE//+/AACmRP/////fAACuxP/////fAAC3RP////3AC3AC9wAAv8T/////3wAAAbZUYCP/////vwAAiIT/////3wAAkQT/////3wAAmYT/////3wAAogT//78AAKZE/////98AAK7E/////98AALdE/////DGDrbfuAF4AAL/E/////98AAAG2VPAj/////78AAIiE/////98AAJEE/////98AAJmE/////98AAKIE//+/AACmRP/////fAACuxP/////fAAC3RP////3AC3AC9wAAv8T/////3wAAAbMAEIcAAAG2FWBRgj238bbfxtt/G238bbfxtt/G238bbfxtt/G238bbfxtt/G238bbfxtt/G238bbfxtt/G238bbfkbbf9huDWNtv422/jbb8jbb/sNwaobbf2G4NeNtv422/jbb+Ntv422/I22/7DcGsbbfxtt+wAAiISMEe2/jbb9DB3Nv7DcGuRhhbYWA7lYbhWRhebYZgkdhuDWNtvyNtv+w3BqxhhbYW9huDFwO5WG4VoYqbYGV2m6NQL+Mm2wRxmNtv422/I22/7DcGqG239huDXIwwtsLAdysNwrjAuDbDMEiNtv422/jbb9DONsHcrDcKxZjC82wSOksGoJHIag0IwwtsLAdysNwrQwvNsM+w3BqCQRhhbYWA8dpujVjFTbAyisNwrAv1iQKkNtv5TVGmRtt/2G4NUNtv7DcGvG235GGFthYDx2m6NUMVNsDKKw3CsC+IwvNsEgEjkNQaRtt/G2378AAJEEjBHtv422/Ywdzb+EkGn2G4NUM42wdysNwrFiMm2wSBnkNQaIZxtg7lYbhWLEY1bYFqBg8pqjRDC82w0Kg2CoEdDbbnIag0yMMLbCwHcrDcK2MVNsDKKw3CsEBYkCpDJtsEjsNwajBGGFthYDxymqNEMLzbDPkNQaAjxtt/GCRbfxtt/G238bbfkYYW2FgPHabo1QwvNsEjkNQaAjxtt+hk22CRyGoNBkjC82wzBIKg2CpDONsHYrDcKxaMm2wSBkjC82wzBJKg2CpjDC2wLbkNQYOAwO03RqxiptgZJWG4VgX6xIFRGF5tgkAj8hqDQjbb/sNwakbbf9huDWNtv422/fAACZhIwR7b+NtvyMDHtsLAeOU1RohhebYZ9huDUEcjbb/sNwakbbf9huDVjDC2wt7DcGLgdysNwrYwvNsMuEkGgJHYbg1I22/7DcGpGGFthYDuVhuFbG23ew3Bi68pqjRjbb+Q1Bg77TdGsYXm2GQI5GGFthYDx2m6NSNtv+03RrGBcG2GYI8bbfxtt/G235GF5thmCPyGoNEM42wdysNwrFiMatsC1AwCsNwrI22/Kw3CtjFTbAyisNwrBAWJAqIwwtsC1B/Kw3Csjbb72m6NSMLzbDMEgqDYKmM42wdysNwrFliQKoxq2wLUDAQ22/sNwa7G23ew3Bi75TVGjG239huDF3ymqNI22/jbb9AACiBIwR7b+NtvyMHc2/7DcGqG238hqDTI22/5DUGhG230qDYKkNtv5DUGkI22/5DUGkYYW2FgPBG23wrDcK2MLzbDPhJBoCR2G4NSMMLbCwHjlNUaIYqbYGUVhuFYF8xtt5WG4V1YkCpjbbysFSDBXlQbBVGCFbYJAxG237AACmRIwR7b+NtvyMDHtsLAdysNwrQwvNsM+w3BqCQhtt/Ybg1yMMLbCwHcrDcK4wvNsMwSENtv7DcGuRhhbYWA8cpqjRjC82wz6Swagj8hqDRjDC2wt7DcGLgdysNwrIwvNsMgSOQ1Bohtt/Iag00Ntv5DUGmxhhbYW8hqDBwO5WG4VxgXBthkCRG238bbfxtt+RhebYZgkchqDRDONsHcrDcKxZDbbysNwryMLzbBIBI5DUGiG239huDXQzjbB3Kw3CsWYwvNsEjpLBqCPyGoNEM42wdysNwrFmMVNvKw3CsEBYkCpDbbBI7DcGoxG236G239huDXIwvNsMgSOQ1BpG238bbfsAAK7EjBHtv422/Iwdzb/sNwaobbdKg2CrQ225yGoNMjbb/sNwaoZxtg8dpujUWQybbBH5DUGgyhnG2Dx2m6NRZDJtsEfkNQaDKG23SoNgq0M42wdisNwrFoybbBIGWM42wdysNwrF1iQKiMm2wSBjsNwaxgkW38bbfxtt/G235GGFthYDx2m6NWMVNsDKKw3CsC/WJAqIybbBIGOw3BqRhhbYWA7lYbhXGKm3gX8bbfobbfymqNONtv0M42wdisNwrFkMm2wSOQ1BoMxtt+xjVtgW3IagwcD+VhuFZG23MrDcK422wzBIjbb9AAC3RIwR7b+NtvyMDHtsLAeOU1Roxtt0qBUAwVQrDcKyNtuXtN0akYXm2GYJBUGwVIZxtg8cpqjQVjJtsEcZY22/hJBp9huDVDbb+w3Brsbbfwkg0+w3BqRtt/2G4NY22/I22/5DUGhG23/Iag0jBItv422/jbb+NtvyMLzbDMEfkNQaMZxtg7lYbhWLrEgVEY1bYFqBgcpqjQjDC2wsB2Kw3CtDC82wR+Q1BoCRG235GGFthYDuVhuFaGKm2BlFYbhWBfkY1bYFqBgFYbhWRtt+VhuFcYXm2GYJEYO1t/GCSbfxtt/G234AAL/EjBHtv422/jbb9Dbb+Q1Bpkbbf8hqDQjbb/kNQaRtt/G235G23/Iag0Q22/kNQaZG23/Iag0I22/5DUGkbbfxtt/G238bbfxtt/G238bbfxtt/G238bbfxtt/G238bbfxtt/G238bbfxtt/G238bbfxtt/G238bbfvwAAAbZV8CP/////vwAAiIT/////3wAAkQT////i9/4AAJmE/8XvF7///xe8Xv0AAKIE//+/AACmRP/////fAACuxP/////fAAC3RP/4EGDrbf8hqDT//x8AL2r0a98AAL/E/////98AAAG2VmAj/////78AAIiE/////98AAJEE/////98AAJmE/////98AAKIE//+/AACmRP/////fAACuxP/////fAAC3RP/4EHLb/kNQaOAF///3AAC/xP/////fAAABtlbwJf////+/AABEQn/////vAABIgn/////vAABMwn/////vAABRAn//3wAAUyJ/////7wAAV2J/////7wAAW6J//cDG4AR///sAAF/if////+8AAAG2V2Aj/////78AAIiE/////98AAJEE/////98AAJmE/////98AAKIE//+/AACmRP/////fAACuxP/////fAAC3RP/4EHLb/kNQaOAF///3AAC/xP/////fAAABtlfwJf////+/AABEQn/////vAABIgn/////vAABMwn/////vAABRAn//3wAAUyJ/////7wAAV2J/////7wAAW6J//cDG4AR///sAAF/if////+8AAAG2WGAj/////78AAIiE/////98AAJEE/////98AAJmE/////98AAKIE//+/AACmRP/////fAACuxP/////fAAC3RP/4EHLb/kNQaOAF///3AAC/xP/////fAAABtljwJf////+/AABEQn/////vAABIgn/////vAABMwn/////vAABRAn//3wAAUyJ/////7wAAV2J/////7wAAW6J//cDG4AR///sAAF/if////+8AAAG2WWAj/////78AAIiE/////98AAJEE/////98AAJmE/////98AAKIE//+/AACmRP/////fAACuxP/////fAAC3RP/4EHLb/kNQaOAF///3AAC/xP/////fAAABtlnwJf////+/AABEQn/////vAABIgn/////vAABMwn/////vAABRAn//3wAAUyJ/////7wAAV2J/////7wAAW6J//cDG4AR///sAAF/if////+8AAAG2WmAj/////78AAIiE/////98AAJEE/////98AAJmE/////98AAKIE//+/AACmRP/////fAACuxP/////fAAC3RP/4EHLb/kNQaOAF///3AAC/xP/////fAAABtlrwJf////+/AABEQn/////vAABIgn/////vAABMwn/////vAABRAn//3wAAUyJ/////7wAAV2J/////7wAAW6J//cDG4AR///sAAF/if////+8AAAGzABCHAAABthtgUYI9t/G238bbfxtt/G238bbfxtt/G238bbfxtt/G238bbfxtt/G238bbfxtt/G238bbfxtt/G235G23/Ybg1jbb+Ntv422/I22/7DcGqG239huDXjbb+Ntv422/jbb+NtvyNtv+w3BrG238bbfsAAIiEjBHtv422/Qwdzb+w3BrkYYW2FgO5WG4VkYXm2GYJHYbg1jbb8jbb/sNwasYYW2FvYbgxcDuVhuFaGKm2BldpujUC/jJtsEcZjbb+NtvyNtv+w3Bqhtt/Ybg1yMMLbCwHcrDcK4wLg2wzBIjbb+Ntv422/QzjbB3Kw3CsWYwvNsEjpLBqCRyGoNCMMLbCwHcrDcK0MLzbDPsNwagkEYYW2FgPHabo1YxU2wMorDcKwL9YkCpDbb+U1Rpkbbf9huDVDbb+w3Brxtt+RhhbYWA8dpujVDFTbAyisNwrAviMLzbBIBI5DUGkbbfxtt+/AACRBIwR7b+Ntv2MHc2/hJBp9huDVDONsHcrDcKxYjJtsEgZ5DUGiGcbYO5WG4VixGNW2BagYPKao0QwvNsNCoNgqBHQ225yGoNMjDC2wsB3Kw3CtjFTbAyisNwrBAWJAqQybbBI7DcGowRhhbYWA8cpqjRDC82wz5DUGgI8bbfxgkW38bbfxtt/G235GGFthYDx2m6NUMLzbBI5DUGgI8bbfoZNtgkchqDQZIwvNsMwSCoNgqQzjbB2Kw3CsWjJtsEgZIwvNsMwSSoNgqYwwtsC25DUGDgMDtN0asYqbYGSVhuFYF+sSBURhebYJAI/Iag0I22/7DcGpG23/Ybg1jbb+Ntv3wAAmYSMEe2/jbb8jAx7bCwHjlNUaIYXm2GfYbg1BHI22/7DcGpG23/Ybg1YwwtsLew3Bi4HcrDcK2MLzbDLhJBoCR2G4NSNtv+w3BqRhhbYWA7lYbhWxtt3sNwYuvKao0Y22/kNQYO+03RrGF5thkCORhhbYWA8dpujUjbb/tN0axgXBthmCPG238bbfxtt+RhebYZgj8hqDRDONsHcrDcKxYjGrbAtQMArDcKyNtvysNwrYxU2wMorDcKwQFiQKiMMLbAtQfysNwrI22+9pujUjC82wzBIKg2CpjONsHcrDcKxZYkCqMatsC1AwENtv7DcGuxtt3sNwYu+U1Roxtt/Ybgxd8pqjSNtv422/QAAogSMEe2/jbb8jB3Nv+w3Bqhtt/Iag0yNtv+Q1BoRtt9Kg2CpDbb+Q1BpCNtv+Q1BpGGFthYDwRtt8Kw3CtjC82wz4SQaAkdhuDUjDC2wsB45TVGiGKm2BlFYbhWBfMbbeVhuFdWJAqY228rBUgwV5UGwVRghW2CQMRtt+wAApkSMEe2/jbb8jAx7bCwHcrDcK0MLzbDPsNwagkIbbf2G4NcjDC2wsB3Kw3CuMLzbDMEhDbb+w3BrkYYW2FgPHKao0YwvNsM+ksGoI/Iag0YwwtsLew3Bi4HcrDcKyMLzbDIEjkNQaIbbfyGoNNDbb+Q1BpsYYW2FvIagwcDuVhuFcYFwbYZAkRtt/G238bbfkYXm2GYJHIag0QzjbB3Kw3CsWQ228rDcK8jC82wSASOQ1Bohtt/Ybg10M42wdysNwrFmMLzbBI6Swagj8hqDRDONsHcrDcKxZjFTbysNwrBAWJAqQ22wSOw3BqMRtt+htt/Ybg1yMLzbDIEjkNQaRtt/G237AACuxIwR7b+NtvyMHc2/7DcGqG23SoNgq0NtuchqDTI22/7DcGqGcbYPHabo1FkMm2wR+Q1BoMoZxtg8dpujUWQybbBH5DUGgyhtt0qDYKtDONsHYrDcKxaMm2wSBljONsHcrDcKxdYkCojJtsEgY7DcGsYJFt/G238bbfxtt+RhhbYWA8dpujVjFTbAyisNwrAv1iQKiMm2wSBjsNwakYYW2FgO5WG4Vxipt4F/G236G238pqjTjbb9DONsHYrDcKxZDJtsEjkNQaDMbbfsY1bYFtyGoMHA/lYbhWRttzKw3CuNtsMwSI22/QAAt0SMEe2/jbb8jAx7bCwHjlNUaMbbdKgVAMFUKw3Csjbbl7TdGpGF5thmCQVBsFSGcbYPHKao0FYybbBHGWNtv4SQafYbg1Q22/sNwa7G238JINPsNwakbbf9huDWNtvyNtv+Q1BoRg7W3/Iag0jAkjb+Ntv422/jbb8jC82wzBH5DUGjGcbYO5WG4Vi6xIFRGNW2BagYHKao0IwwtsLAdisNwrQwvNsEfkNQaAkRtt+RhhbYWA7lYbhWhiptgZRWG4VgX5GNW2BagYBWG4VkbbflYbhXGF5thmCRG238YJJt/G238bbfvwAAv8SMEe2/jbb+Ntv0Ntv5DUGmRtt/yGoNCNtv+Q1BpG238bbfkbbf8hqDRDbb+Q1Bpkbbf8hqDQjbb/kNQaRtt/G238bbfxtt/G238bbfxtt/G238bbfxtt/G238bbfxtt/G238bbfxtt/G238bbfxtt/G238bbfxtt+/AAABtlvwI/////+/AACIhP/////fAACRBP///+L3/gAAmYT/xe8Xv///F7xe/QAAogT//78AAKZE/////98AAK7E/////98AALdE//3AC///HwAvavRrvwAAv8T/////3wAAAbZcYCP/////vwAAiIT/////3wAAkQT/////3wAAmYT/////3wAAogT//78AAKZE/////98AAK7E/////98AALdE/////DGDrbfj4AXtXo13AAC/xP/////fAAABtmg4Ef/////fAACIhP/////fAACRBP/////fAACZhP/////fAACiBP//vwAApkT/////3wAArsT/////3wAAt0T////8fAC9q9GrgBe/AAC/xP/////fAAABtlDgI/////+/AACIhP/////fAACRBP/////fAACZhP/////fAACiBP//vwAApkT/////3wAArsT/////3wAAt0T////8MYOtt+4AXgAAv8T/////3wAAAbZRcCP/////vwAAiIT/////3wAAkQT/////3wAAmYT/////3wAAogT//78AAKZE/////98AAK7E/////98AALdE/////cALcAL3AAC/xP/////fAAABtlHgI/////+/AACIhP/////fAACRBP/////fAACZhP/////fAACiBP//vwAApkT/////3wAArsT/////3wAAt0T//Agwdbb/kNQaf/+4AXsAAL/E/////98AAAG2UnAl/////78AAERCf////+8AAEiCf////+8AAEzCf////+8AAFECf//fAABTIn/////vAABXYn/////vAABbon/9wMbgBH//+wAAX+J/////7wAAAbZS4CP/////vwAAiIT/////3wAAkQT/////3wAAmYT/////3wAAogT//78AAKZE/////98AAK7E/////98AALdE//gQctv+Q1Bo4AX///cAAL/E/////98AAAG2U3Al/////78AAERCf////+8AAEiCf////+8AAEzCf////+8AAFECf//fAABTIn/////vAABXYn/////vAABbon/9wMbgBH//+wAAX+J/////7wAAAbZT4CP/////vwAAiIT/////3wAAkQT/////3wAAmYT/////3wAAogT//78AAKZE/////98AAK7E/////98AALdE//gQctv+Q1Bo4AX///cAAL/E/////98AAAG2VHAl/////78AAERCf////+8AAEiCf////+8AAEzCf////+8AAFECf//fAABTIn/////vAABXYn/////vAABbon/9wMbgBH//+wAAX+J/////7wAAAbMAEMcAAAG2FOBRgj238bbfxtt/G238bbfxtt/G238bbfxtt/G238bbfxtt/G238bbfxtt/G238bbfxtt/G238bbfkbbf9huDWNtv422/jbb8jbb/sNwaobbf2G4NeNtv422/jbb+Ntv422/I22/7DcGsbbfxtt+wAAiISMEe2/jbb9DB3Nv7DcGuRhhbYWA7lYbhWRhebYZgkdhuDWNtvyNtv+w3BqxhhbYW9huDFwO5WG4VoYqbYGV2m6NQL+Mm2wRxmNtv422/I22/7DcGqG239huDXIwwtsLAdysNwrjAuDbDMEiNtv422/jbb9DONsHcrDcKxZjC82wSOksGoJHIag0IwwtsLAdysNwrQwvNsM+w3BqCQRhhbYWA8dpujVjFTbAyisNwrAv1iQKkNtv5TVGmRtt/2G4NUNtv7DcGvG235GGFthYDx2m6NUMVNsDKKw3CsC+IwvNsEgEjkNQaRtt/G2378AAJEEjBHtv422/Ywdzb+EkGn2G4NUM42wdysNwrFiMm2wSBnkNQaIZxtg7lYbhWLEY1bYFqBg8pqjRDC82w0Kg2CoEdDbbnIag0yMMLbCwHcrDcK2MVNsDKKw3CsEBYkCpDJtsEjsNwajBGGFthYDxymqNEMLzbDPkNQaAjxtt/GCRbfxtt/G238bbfkYYW2FgPHabo1QwvNsEjkNQaAjxtt+hk22CRyGoNBkjC82wzBIKg2CpDONsHYrDcKxaMm2wSBkjC82wzBJKg2CpjDC2wLbkNQYOAwO03RqxiptgZJWG4VgX6xIFRGF5tgkAj8hqDQjbb/sNwakbbf9huDWNtv422/fAACZhIwR7b+NtvyMDHtsLAeOU1RohhebYZ9huDUEcjbb/sNwakbbf9huDVjDC2wt7DcGLgdysNwrYwvNsMuEkGgJHYbg1I22/7DcGpGGFthYDuVhuFbG23ew3Bi68pqjRjbb+Q1Bg77TdGsYXm2GQI5GGFthYDx2m6NSNtv+03RrGBcG2GYI8bbfxtt/G235GF5thmCPyGoNEM42wdysNwrFiMatsC1AwCsNwrI22/Kw3CtjFTbAyisNwrBAWJAqIwwtsC1B/Kw3Csjbb72m6NSMLzbDMEgqDYKmM42wdysNwrFliQKoxq2wLUDAQ22/sNwa7G23ew3Bi75TVGjG239huDF3ymqNI22/jbb9AACiBIwR7b+NtvyMHc2/7DcGqG238hqDTI22/5DUGhG230qDYKkNtv5DUGkI22/5DUGkYYW2FgPBG23wrDcK2MLzbDPhJBoCR2G4NSMMLbCwHjlNUaIYqbYGUVhuFYF8xtt5WG4V1YkCpjbbysFSDBXlQbBVGCFbYJAxG237AACmRIwR7b+NtvyMDHtsLAdysNwrQwvNsM+w3BqCQhtt/Ybg1yMMLbCwHcrDcK4wvNsMwSENtv7DcGuRhhbYWA8cpqjRjC82wz6Swagj8hqDRjDC2wt7DcGLgdysNwrIwvNsMgSOQ1Bohtt/Iag00Ntv5DUGmxhhbYW8hqDBwO5WG4VxgXBthkCRG238bbfxtt+RhebYZgkchqDRDONsHcrDcKxZDbbysNwryMLzbBIBI5DUGiG239huDXQzjbB3Kw3CsWYwvNsEjpLBqCPyGoNEM42wdysNwrFmMVNvKw3CsEBYkCpDbbBI7DcGoxG236G239huDXIwvNsMgSOQ1BpG238bbfsAAK7EjBHtv422/Iwdzb/sNwaobbdKg2CrQ225yGoNMjbb/sNwaoZxtg8dpujUWQybbBH5DUGgyhnG2Dx2m6NRZDJtsEfkNQaDKG23SoNgq0M42wdisNwrFoybbBIGWM42wdysNwrF1iQKiMm2wSBjsNwaxgkW38bbfxtt/G235GGFthYDx2m6NWMVNsDKKw3CsC/WJAqIybbBIGOw3BqRhhbYWA7lYbhXGKm3gX8bbfobbfymqNONtv0M42wdisNwrFkMm2wSOQ1BoMxtt+xjVtgW3IagwcD+VhuFZG23MrDcK422wzBIjbb9AAC3RIwR7b+NtvyMDHtsLAeOU1Roxtt0qBUAwVQrDcKyNtuXtN0akYXm2GYJBUGwVIZxtg8cpqjQVjJtsEcZY22/hJBp9huDVDbb+w3Brsbbfwkg0+w3BqRtt/2G4NY22/I22/5DUGhGDtbf8hqDSMCSNv422/jbb+NtvyMLzbDMEfkNQaMZxtg7lYbhWLrEgVEY1bYFqBgcpqjQjDC2wsB2Kw3CtDC82wR+Q1BoCRG235GGFthYDuVhuFaGKm2BlFYbhWBfkY1bYFqBgFYbhWRtt+VhuFcYXm2GYJEbbfxgkm38bbfxtt+/AAC/xIwR7b+Ntv422/Q22/kNQaZG23/Iag0I22/5DUGkbbfxtt+Rtt/yGoNENtv5DUGmRtt/yGoNCNtv+Q1BpG238bbfxtt/G238bbfxtt/G238bbfxtt/G238bbfxtt/G238bbfxtt/G238bbfxtt/G238bbfxtt/G2378AAAG2VXAl/////78AAERCf////+8AAEiCf///8Xv/fwAATMJ/4veL3///i94vfgAAUQJ//98AAFMif////+8AAFdif////+8AAFuif/3AxuAEf//7AABf4n/////vAAABtlXgI/////+/AACIhP/////fAACRBP/////fAACZhP/////fAACiBP//vwAApkT/////3wAArsT/////3wAAt0T/+BBy2/5DUGjgBf//9wAAv8T/////3wAAAbZWcCX/////vwAAREJ/////7wAASIJ/////7wAATMJ/////7wAAUQJ//98AAFMif////+8AAFdif////+8AAFuif/3AxuAEf//7AABf4n/////vAAABtlbgI/////+/AACIhP/////fAACRBP/////fAACZhP/////fAACiBP//vwAApkT/////3wAArsT/////3wAAt0T/+BBy2/5DUGjgBf//9wAAv8T/////3wAAAbZXcCX/////vwAAREJ/////7wAASIJ/////7wAATMJ/////7wAAUQJ//98AAFMif////+8AAFdif////+8AAFuif/3AxuAEf//7AABf4n/////vAAABtlfgI/////+/AACIhP/////fAACRBP/////fAACZhP/////fAACiBP//vwAApkT/////3wAArsT/////3wAAt0T/+BBy2/5DUGn//j4AXtXo178AAL/E/////98AAAG2WHAj/////78AAIiE/////98AAJEE/////98AAJmE/////98AAKIE//+/AACmRP/////fAACuxP/////fAAC3RP////x8AL2r0auAF78AAL/E/////98AAAG2WOAj/////78AAIiE/////98AAJEE/////98AAJmE/////98AAKIE//+/AACmRP/////fAACuxP/////fAAC3RP////wxg6237gBeAAC/xP/////fAAABtllwI/////+/AACIhP/////fAACRBP/////fAACZhP/////fAACiBP//vwAApkT/////3wAArsT/////3wAAt0T////9wAtwAvcAAL/E/////98AAAG2WeAj/////78AAIiE/////98AAJEE/////98AAJmE/////98AAKIE//+/AACmRP/////fAACuxP/////fAAC3RP////wxg6237gBeAAC/xP/////fAAABtlpwI/////+/AACIhP/////fAACRBP/////fAACZhP/////fAACiBP//vwAApkT/////3wAArsT/////3wAAt0T////9wAtwAvcAAL/E/////98AAAGzABDHAAABthrgUYI9t/G238bbfxtt/G238bbfxtt/G238bbfxtt/G238bbfxtt/G238bbfxtt/G238bbfxtt/G235G23/Ybg1jbb+Ntv422/I22/7DcGqG239huDXjbb+Ntv422/jbb+NtvyNtv+w3BrG238bbfsAAIiEjBHtv422/Qwdzb+w3BrkYYW2FgO5WG4VkYXm2GYJHYbg1jbb8jbb/sNwasYYW2FvYbgxcDuVhuFaGKm2BldpujUC/jJtsEcZjbb+NtvyNtv+w3Bqhtt/Ybg1yMMLbCwHcrDcK4wLg2wzBIjbb+Ntv422/QzjbB3Kw3CsWYwvNsEjpLBqCRyGoNCMMLbCwHcrDcK0MLzbDPsNwagkEYYW2FgPHabo1YxU2wMorDcKwL9YkCpDbb+U1Rpkbbf9huDVDbb+w3Brxtt+RhhbYWA8dpujVDFTbAyisNwrAviMLzbBIBI5DUGkbbfxtt+/AACRBIwR7b+Ntv2MHc2/hJBp9huDVDONsHcrDcKxYjJtsEgZ5DUGiGcbYO5WG4VixGNW2BagYPKao0QwvNsNCoNgqBHQ225yGoNMjDC2wsB3Kw3CtjFTbAyisNwrBAWJAqQybbBI7DcGowRhhbYWA8cpqjRDC82wz5DUGgI8bbfxgkW38bbfxtt/G235GGFthYDx2m6NUMLzbBI5DUGgI8bbfoZNtgkchqDQZIwvNsMwSCoNgqQzjbB2Kw3CsWjJtsEgZIwvNsMwSSoNgqYwwtsC25DUGDgMDtN0asYqbYGSVhuFYF+sSBURhebYJAI/Iag0I22/7DcGpG23/Ybg1jbb+Ntv3wAAmYSMEe2/jbb8jAx7bCwHjlNUaIYXm2GfYbg1BHI22/7DcGpG23/Ybg1YwwtsLew3Bi4HcrDcK2MLzbDLhJBoCR2G4NSNtv+w3BqRhhbYWA7lYbhWxtt3sNwYuvKao0Y22/kNQYO+03RrGF5thkCORhhbYWA8dpujUjbb/tN0axgXBthmCPG238bbfxtt+RhebYZgj8hqDRDONsHcrDcKxYjGrbAtQMArDcKyNtvysNwrYxU2wMorDcKwQFiQKiMMLbAtQfysNwrI22+9pujUjC82wzBIKg2CpjONsHcrDcKxZYkCqMatsC1AwENtv7DcGuxtt3sNwYu+U1Roxtt/Ybgxd8pqjSNtv422/QAAogSMEe2/jbb8jB3Nv+w3Bqhtt/Iag0yNtv+Q1BoRtt9Kg2CpDbb+Q1BpCNtv+Q1BpGGFthYDwRtt8Kw3CtjC82wz4SQaAkdhuDUjDC2wsB45TVGiGKm2BlFYbhWBfMbbeVhuFdWJAqY228rBUgwV5UGwVRghW2CQMRtt+wAApkSMEe2/jbb8jAx7bCwHcrDcK0MLzbDPsNwagkIbbf2G4NcjDC2wsB3Kw3CuMLzbDMEhDbb+w3BrkYYW2FgPHKao0YwvNsM+ksGoI/Iag0YwwtsLew3Bi4HcrDcKyMLzbDIEjkNQaIbbfyGoNNDbb+Q1BpsYYW2FvIagwcDuVhuFcYFwbYZAkRtt/G238bbfkYXm2GYJHIag0QzjbB3Kw3CsWQ228rDcK8jC82wSASOQ1Bohtt/Ybg10M42wdysNwrFmMLzbBI6Swagj8hqDRDONsHcrDcKxZjFTbysNwrBAWJAqQ22wSOw3BqMRtt+htt/Ybg1yMLzbDIEjkNQaRtt/G237AACuxIwR7b+NtvyMHc2/7DcGqG23SoNgq0NtuchqDTI22/7DcGqGcbYPHabo1FkMm2wR+Q1BoMoZxtg8dpujUWQybbBH5DUGgyhtt0qDYKtDONsHYrDcKxaMm2wSBljONsHcrDcKxdYkCojJtsEgY7DcGsYJFt/G238bbfxtt+RhhbYWA8dpujVjFTbAyisNwrAv1iQKiMm2wSBjsNwakYYW2FgO5WG4Vxipt4F/G236G238pqjTjbb9DONsHYrDcKxZDJtsEjkNQaDMbbfsY1bYFtyGoMHA/lYbhWRttzKw3CuNtsMwSI22/QAAt0SMEe2/jbb8jAx7bCwHjlNUaMbbdKgVAMFUKw3Csjbbl7TdGpGF5thmCQVBsFSGcbYPHKao0FYybbBHGWNtv4SQafYbg1Q22/sNwa7G238JINPsNwakbbf9huDWNtvyNtv+Q1BoRtt/yGoNIwSLb+Ntv422/jbb8jC82wzBH5DUGjGcbYO5WG4Vi6xIFRGNW2BagYHKao0IwwtsLAdisNwrQwvNsEfkNQaAkRtt+RhhbYWA7lYbhWhiptgZRWG4VgX5GNW2BagYBWG4VkbbflYbhXGF5thmCRGDtbfxgkm38bbfxtt+AAC/xIwR7b+Ntv422/Q22/kNQaZG23/Iag0I22/5DUGkbbfxtt+Rtt/yGoNENtv5DUGmRtt/yGoNCNtv+Q1BpG238bbfxtt/G238bbfxtt/G238bbfxtt/G238bbfxtt/G238bbfxtt/G238bbfxtt/G238bbfxtt/G2378AAAG2W3Aj/////78AAIiE/////98AAJEE////4vf+AACZhP/F7xe///8XvF79AACiBP//vwAApkT/////3wAArsT/////3wAAt0T////8fAC9q9GrgBe/AAC/xP/////fAAABtlvgI/////+/AACIhP/////fAACRBP/////fAACZhP/////fAACiBP//vwAApkT/////3wAArsT/////3wAAt0T////8MYOtt+4AXgAAv8T/////3wAAAbZccCP/////vwAAiIT/////3wAAkQT/////3wAAmYT/////3wAAogT//78AAKZE/////98AAK7E/////98AALdE/////cALcAL3AAC/xP/////fAAABtmgwEf/////fAACIhP/////fAACRBP/////fAACZhP/////fAACiBP//vwAApkT/////3wAArsT/////3wAAt0T////8MYOtt+4AXgAAv8T/////3wAAAbZQ8CP/////vwAAiIT/////3wAAkQT/////3wAAmYT/////3wAAogT//78AAKZE/////98AAK7E/////98AALdE//gQYOtt/yGoNP//cAL7AAC/xP/////fAAABtlFgI/////+/AACIhP/////fAACRBP/////fAACZhP/////fAACiBP//vwAApkT/////3wAArsT/////3wAAt0T/+PACxk////cAAL/E/////98AAAG2UfAl/////78AAERCf////+8AAEiCf////+8AAEzCf////+8AAFECf//fAABTIn/////vAABXYn/////vAABbon/9wMbgBH//+wAAX+J/////7wAAAbZSYCP/////vwAAiIT/////3wAAkQT/////3wAAmYT/////3wAAogT//78AAKZE/////98AAK7E/////98AALdE//gQctv+Q1Bo4AX///cAAL/E/////98AAAG2UvAl/////78AAERCf////+8AAEiCf////+8AAEzCf////+8AAFECf//fAABTIn/////vAABXYn/////vAABbon/9wMbgBH//+wAAX+J/////7wAAAbZTYCP/////vwAAiIT/////3wAAkQT/////3wAAmYT/////3wAAogT//78AAKZE/////98AAK7E/////98AALdE//gQctv+Q1Bo4AX///cAAL/E/////98AAAG2U/Al/////78AAERCf////+8AAEiCf////+8AAEzCf////+8AAFECf//fAABTIn/////vAABXYn/////vAABbon/9wMbgBH//+wAAX+J/////7wAAAbMAEQcAAAG2FGBRgj238bbfxtt/G238bbfxtt/G238bbfxtt/G238bbfxtt/G238bbfxtt/G238bbfxtt/G238bbfkbbf9huDWNtv422/jbb8jbb/sNwaobbf2G4NeNtv422/jbb+Ntv422/I22/7DcGsbbfxtt+wAAiISMEe2/jbb9DB3Nv7DcGuRhhbYWA7lYbhWRhebYZgkdhuDWNtvyNtv+w3BqxhhbYW9huDFwO5WG4VoYqbYGV2m6NQL+Mm2wRxmNtv422/I22/7DcGqG239huDXIwwtsLAdysNwrjAuDbDMEiNtv422/jbb9DONsHcrDcKxZjC82wSOksGoJHIag0IwwtsLAdysNwrQwvNsM+w3BqCQRhhbYWA8dpujVjFTbAyisNwrAv1iQKkNtv5TVGmRtt/2G4NUNtv7DcGvG235GGFthYDx2m6NUMVNsDKKw3CsC+IwvNsEgEjkNQaRtt/G2378AAJEEjBHtv422/Ywdzb+EkGn2G4NUM42wdysNwrFiMm2wSBnkNQaIZxtg7lYbhWLEY1bYFqBg8pqjRDC82w0Kg2CoEdDbbnIag0yMMLbCwHcrDcK2MVNsDKKw3CsEBYkCpDJtsEjsNwajBGGFthYDxymqNEMLzbDPkNQaAjxtt/GCRbfxtt/G238bbfkYYW2FgPHabo1QwvNsEjkNQaAjxtt+hk22CRyGoNBkjC82wzBIKg2CpDONsHYrDcKxaMm2wSBkjC82wzBJKg2CpjDC2wLbkNQYOAwO03RqxiptgZJWG4VgX6xIFRGF5tgkAj8hqDQjbb/sNwakbbf9huDWNtv422/fAACZhIwR7b+NtvyMDHtsLAeOU1RohhebYZ9huDUEcjbb/sNwakbbf9huDVjDC2wt7DcGLgdysNwrYwvNsMuEkGgJHYbg1I22/7DcGpGGFthYDuVhuFbG23ew3Bi68pqjRjbb+Q1Bg77TdGsYXm2GQI5GGFthYDx2m6NSNtv+03RrGBcG2GYI8bbfxtt/G235GF5thmCPyGoNEM42wdysNwrFiMatsC1AwCsNwrI22/Kw3CtjFTbAyisNwrBAWJAqIwwtsC1B/Kw3Csjbb72m6NSMLzbDMEgqDYKmM42wdysNwrFliQKoxq2wLUDAQ22/sNwa7G23ew3Bi75TVGjG239huDF3ymqNI22/jbb9AACiBIwR7b+NtvyMHc2/7DcGqG238hqDTI22/5DUGhG230qDYKkNtv5DUGkI22/5DUGkYYW2FgPBG23wrDcK2MLzbDPhJBoCR2G4NSMMLbCwHjlNUaIYqbYGUVhuFYF8xtt5WG4V1YkCpjbbysFSDBXlQbBVGCFbYJAxG237AACmRIwR7b+NtvyMDHtsLAdysNwrQwvNsM+w3BqCQhtt/Ybg1yMMLbCwHcrDcK4wvNsMwSENtv7DcGuRhhbYWA8cpqjRjC82wz6Swagj8hqDRjDC2wt7DcGLgdysNwrIwvNsMgSOQ1Bohtt/Iag00Ntv5DUGmxhhbYW8hqDBwO5WG4VxgXBthkCRG238bbfxtt+RhebYZgkchqDRDONsHcrDcKxZDbbysNwryMLzbBIBI5DUGiG239huDXQzjbB3Kw3CsWYwvNsEjpLBqCPyGoNEM42wdysNwrFmMVNvKw3CsEBYkCpDbbBI7DcGoxG236G239huDXIwvNsMgSOQ1BpG238bbfsAAK7EjBHtv422/Iwdzb/sNwaobbdKg2CrQ225yGoNMjbb/sNwaoZxtg8dpujUWQybbBH5DUGgyhnG2Dx2m6NRZDJtsEfkNQaDKG23SoNgq0M42wdisNwrFoybbBIGWM42wdysNwrF1iQKiMm2wSBjsNwaxgkW38bbfxtt/G235GGFthYDx2m6NWMVNsDKKw3CsC/WJAqIybbBIGOw3BqRhhbYWA7lYbhXGKm3gX8bbfobbfymqNONtv0M42wdisNwrFkMm2wSOQ1BoMxtt+xjVtgW3IagwcD+VhuFZG23MrDcK422wzBIjbb9AAC3RIwR7b+NtvyMDHtsLAeOU1Roxtt0qBUAwVQrDcKyNtuXtN0akYXm2GYJBUGwVIZxtg8cpqjQVjJtsEcZY22/hJBp9huDVDbb+w3Brsbbfwkg0+w3BqRtt/2G4NY22/I22/5DUGhGDtbf8hqDSMCSNv422/jbb+NtvyMLzbDMEfkNQaMZxtg7lYbhWLrEgVEY1bYFqBgcpqjQjDC2wsB2Kw3CtDC82wR+Q1BoCRG235GGFthYDuVhuFaGKm2BlFYbhWBfkY1bYFqBgFYbhWRtt+VhuFcYXm2GYJEbbfxgkm38bbfxtt+/AAC/xIwR7b+Ntv422/Q22/kNQaZG23/Iag0I22/5DUGkbbfxtt+Rtt/yGoNENtv5DUGmRtt/yGoNCNtv+Q1BpG238bbfxtt/G238bbfxtt/G238bbfxtt/G238bbfxtt/G238bbfxtt/G238bbfxtt/G238bbfxtt/G2378AAAG2VPAl/////78AAERCf////+8AAEiCf///8Xv/fwAATMJ/4veL3///i94vfgAAUQJ//98AAFMif////+8AAFdif////+8AAFuif/3AxuAEf//7AABf4n/////vAAABtlVgI/////+/AACIhP/////fAACRBP/////fAACZhP/////fAACiBP//vwAApkT/////3wAArsT/////3wAAt0T/+BBy2/5DUGjgBf//9wAAv8T/////3wAAAbZV8CX/////vwAAREJ/////7wAASIJ/////7wAATMJ/////7wAAUQJ//98AAFMif////+8AAFdif////+8AAFuif/3AxuAEf//7AABf4n/////vAAABtlZgJf////+/AABEQn/////vAABIgn/////vAABMwn/////vAABRAn//3wAAUyJ/////7wAAV2J//H7///C8DEZdq9GvfwAAW6J//HgY+1cZ///7AABf4n/////vAAABtlbwI/////+/AACIhP/////fAACRBP/////fAACZhP/////fAACiBP//vwAApkT/////3wAArsT//H/KtRp//wGOW38hqDTFgBYz3wAAt0T//H/auM///78AAL/E/////98AAAG2V2Aj/////78AAIiE/////98AAJEE/////98AAJmE/////98AAKIE//+/AACmRP/////fAACuxP////wGMHW2/kNQaYsAL7V6Nd8AALdE/////98AAL/E/////98AAAG2V/Aj/////78AAIiE/////98AAJEE/////98AAJmE/////98AAKIE//+/AACmRP/////fAACuxP////xYAWMhYAX2r0a7AAC3RP/////fAAC/xP/////fAAABtlhgI/////+/AACIhP/////fAACRBP/////fAACZhP/////fAACiBP//vwAApkT/////3wAArsT////8BjB1tv5DUGmLACxnvwAAt0T/////3wAAv8T/////3wAAAbZY8CP/////vwAAiIT/////3wAAkQT/////3wAAmYT/////3wAAogT//78AAKZE/////98AAK7E/////FgBYyFgBfavRrsAALdE/////98AAL/E/////98AAAG2WWAj/////78AAIiE/////98AAJEE/////98AAJmE/////98AAKIE//+/AACmRP/////fAACuxP////wGMHW2/kNQaYsALGe/AAC3RP/////fAAC/xP/////fAAABtlnwI/////+/AACIhP/////fAACRBP/////fAACZhP/////fAACiBP//vwAApkT/////3wAArsT////8WAFjIWAF9q9GuwAAt0T/////3wAAv8T/////3wAAAbMAEQcAAAG2GmBRgj238bbfxtt/G238bbfxtt/G238bbfxtt/G238bbfxtt/G238bbfxtt/G238bbfxtt/G238bbfkbbf9huDWNtv422/jbb8jbb/sNwaobbf2G4NeNtv422/jbb+Ntv422/I22/7DcGsbbfxtt+wAAiISMEe2/jbb9DB3Nv7DcGuRhhbYWA7lYbhWRhebYZgkdhuDWNtvyNtv+w3BqxhhbYW9huDFwO5WG4VoYqbYGV2m6NQL+Mm2wRxmNtv422/I22/7DcGqG239huDXIwwtsLAdysNwrjAuDbDMEiNtv422/jbb9DONsHcrDcKxZjC82wSOksGoJHIag0IwwtsLAdysNwrQwvNsM+w3BqCQRhhbYWA8dpujVjFTbAyisNwrAv1iQKkNtv5TVGmRtt/2G4NUNtv7DcGvG235GGFthYDx2m6NUMVNsDKKw3CsC+IwvNsEgEjkNQaRtt/G2378AAJEEjBHtv422/Ywdzb+EkGn2G4NUM42wdysNwrFiMm2wSBnkNQaIZxtg7lYbhWLEY1bYFqBg8pqjRDC82w0Kg2CoEdDbbnIag0yMMLbCwHcrDcK2MVNsDKKw3CsEBYkCpDJtsEjsNwajBGGFthYDxymqNEMLzbDPkNQaAjxtt/GCRbfxtt/G238bbfkYYW2FgPHabo1QwvNsEjkNQaAjxtt+hk22CRyGoNBkjC82wzBIKg2CpDONsHYrDcKxaMm2wSBkjC82wzBJKg2CpjDC2wLbkNQYOAwO03RqxiptgZJWG4VgX6xIFRGF5tgkAj8hqDQjbb/sNwakbbf9huDWNtv422/fAACZhIwR7b+NtvyMDHtsLAeOU1RohhebYZ9huDUEcjbb/sNwakbbf9huDVjDC2wt7DcGLgdysNwrYwvNsMuEkGgJHYbg1I22/7DcGpGGFthYDuVhuFbG23ew3Bi68pqjRjbb+Q1Bg77TdGsYXm2GQI5GGFthYDx2m6NSNtv+03RrGBcG2GYI8bbfxtt/G235GF5thmCPyGoNEM42wdysNwrFiMatsC1AwCsNwrI22/Kw3CtjFTbAyisNwrBAWJAqIwwtsC1B/Kw3Csjbb72m6NSMLzbDMEgqDYKmM42wdysNwrFliQKoxq2wLUDAQ22/sNwa7G23ew3Bi75TVGjG239huDF3ymqNI22/jbb9AACiBIwR7b+NtvyMHc2/7DcGqG238hqDTI22/5DUGhG230qDYKkNtv5DUGkI22/5DUGkYYW2FgPBG23wrDcK2MLzbDPhJBoCR2G4NSMMLbCwHjlNUaIYqbYGUVhuFYF8xtt5WG4V1YkCpjbbysFSDBXlQbBVGCFbYJAxG237AACmRIwR7b+NtvyMDHtsLAdysNwrQwvNsM+w3BqCQhtt/Ybg1yMMLbCwHcrDcK4wvNsMwSENtv7DcGuRhhbYWA8cpqjRjC82wz6Swagj8hqDRjDC2wt7DcGLgdysNwrIwvNsMgSOQ1Bohtt/Iag00Ntv5DUGmxhhbYW8hqDBwO5WG4VxgXBthkCRG238bbfxtt+RhebYZgkchqDRDONsHcrDcKxZDbbysNwryMLzbBIBI5DUGiG239huDXQzjbB3Kw3CsWYwvNsEjpLBqCPyGoNEM42wdysNwrFmMVNvKw3CsEBYkCpDbbBI7DcGoxG236G239huDXIwvNsMgSOQ1BpG238bbfsAAK7EjBHtv422/Iwdzb/sNwaobbdKg2CrQ225yGoNMjbb/sNwaoZxtg8dpujUWQybbBH5DUGgyhnG2Dx2m6NRZDJtsEfkNQaDKG23SoNgq0M42wdisNwrFoybbBIGUM42wdysNwrFoybbBIGYwSLb+Ntv422/jbb8jDC2wsB47TdGrGKm2BlFYbhWBfrEgVEZNtgkDHYbg1IwwtsLAdysNwrjFTbwL+Ntv0Ntv5TVGnG236GcbYOxWG4ViyGTbYJHIag0GY22/QwcLbBI5DUGgzGCSbfxtt/G234AALdEjBHtv422/IwMe2wsB45TVGjG23SoFQDBVCsNwrI225e03RqRhebYZgkFQbBUhnG2DxymqNBWMm2wRxljbb+EkGn2G4NUNtv7DcGuxtt/CSDT7DcGpG23/Ybg1jbb+Ntv422/jBItv422/jbb+NtvyMLzbDMEfkNQaMZxtg7lYbhWLrEgVEY1bYFqBgcpqjQjDC2wsB2Kw3CtDC82wR+Q1BoCRG235GGFthYDuVhuFaGKm2BlFYbhWBfkY1bYFqBgFYbhWRtt+VhuFcYXm2GYJEbbfxtt/G238bbfvwAAv8SMEe2/jbb+Ntv0Ntv5DUGmRtt/yGoNCNtv+Q1BpG238bbfkbbf8hqDRDbb+Q1Bpkbbf8hqDQjbb/kNQaRtt/G238bbfxtt/G238bbfxtt/G238bbfxtt/G238bbfxtt/G238bbfxtt/G238bbfxtt/G238bbfxtt+/AAABtlrwI/////+/AACIhP/////fAACRBP///+L3/gAAmYT/xe8Xv///F7xe/QAAogT//78AAKZE/////98AAK7E/////AY5bfyGoNMWAF9q9Gu/AAC3RP/////fAAC/xP/////fAAABtltgI/////+/AACIhP/////fAACRBP/////fAACZhP/////fAACiBP//vwAApkT/////3wAArsT////8BjB1tv5DUGmLAC+1ejXfAAC3RP/////fAAC/xP/////fAAABtlvwI/////+/AACIhP/////fAACRBP/////fAACZhP/////fAACiBP//vwAApkT/////3wAArsT////8WAFjIWAF9q9GuwAAt0T/////3wAAv8T/////3wAAAbZcYCP/////vwAAiIT/////3wAAkQT/////3wAAmYT/////3wAAogT//78AAKZE/////98AAK7E/////AYwdbb+Q1BpiwAsZ78AALdE/////98AAL/E/////98AAAG2aDgR/////98AAIiE/////98AAJEE/////98AAJmE/////98AAKIE//+/AACmRP/////fAACuxP////xYAWMhYAX2r0a7AAC3RP/////fAAC/xP/////fAAABtlDgI/////+/AACIhP/////fAACRBP/////fAACZhP/////fAACiBP//vwAApkT/////3wAArsT////8BjB1tv5DUGmLACxnvwAAt0T/////3wAAv8T/////3wAAAbZRcCP/////vwAAiIT/////3wAAkQT/////3wAAmYT/////3wAAogT//78AAKZE/////98AAK7E/////FgBYyFgBfavRrsAALdE/////98AAL/E/////98AAAG2UeAj/////78AAIiE/////98AAJEE/////98AAJmE/////98AAKIE//+/AACmRP/////fAACuxP////4sALGeAAC3RP/94AX//+8AAL/E/////98AAAG2UnAj/////78AAIiE/////98AAJEE/////98AAJmE/////98AAKIE//+/AACmRP/////fAACuxP/////fAAC3RP/4Ywdbb8MYJJt////fAAC/xP/////fAAABtlLgJf////+/AABEQn/////vAABIgn/////vAABMwn/////vAABRAn//3wAAUyJ/////7wAAV2J/////7wAAW6J/+4GN////fwAAX+J/////7wAAAbZTcCP/////vwAAiIT/////3wAAkQT/////3wAAmYT/////3wAAogT//78AAKZE/////98AAK7E/////98AALdE//DHLb9wAv///QAAv8T/////3wAAAbMAEUcAAAG2E+BRgj238bbfxtt/G238bbfxtt/G238bbfxtt/G238bbfxtt/G238bbfxtt/G238bbfxtt/G238bbfkbbf9huDWNtv422/jbb8jbb/sNwaobbf2G4NeNtv422/jbb+Ntv422/I22/7DcGsbbfxtt+wAAiISMEe2/jbb9DB3Nv7DcGuRhhbYWA7lYbhWRhebYZgkdhuDWNtvyNtv+w3BqxhhbYW9huDFwO5WG4VoYqbYGV2m6NQL+Mm2wRxmNtv422/I22/7DcGqG239huDXIwwtsLAdysNwrjAuDbDMEiNtv422/jbb9DONsHcrDcKxZjC82wSOksGoJHIag0IwwtsLAdysNwrQwvNsM+w3BqCQRhhbYWA8dpujVjFTbAyisNwrAv1iQKkNtv5TVGmRtt/2G4NUNtv7DcGvG235GGFthYDx2m6NUMVNsDKKw3CsC+IwvNsEgEjkNQaRtt/G2378AAJEEjBHtv422/Ywdzb+EkGn2G4NUM42wdysNwrFiMm2wSBnkNQaIZxtg7lYbhWLEY1bYFqBg8pqjRDC82w0Kg2CoEdDbbnIag0yMMLbCwHcrDcK2MVNsDKKw3CsEBYkCpDJtsEjsNwajBGGFthYDxymqNEMLzbDPkNQaAjxtt/GCRbfxtt/G238bbfkYYW2FgPHabo1QwvNsEjkNQaAjxtt+hk22CRyGoNBkjC82wzBIKg2CpDONsHYrDcKxaMm2wSBkjC82wzBJKg2CpjDC2wLbkNQYOAwO03RqxiptgZJWG4VgX6xIFRGF5tgkAj8hqDQjbb/sNwakbbf9huDWNtv422/fAACZhIwR7b+NtvyMDHtsLAeOU1RohhebYZ9huDUEcjbb/sNwakbbf9huDVjDC2wt7DcGLgdysNwrYwvNsMuEkGgJHYbg1I22/7DcGpGGFthYDuVhuFbG23ew3Bi68pqjRjbb+Q1Bg77TdGsYXm2GQI5GGFthYDx2m6NSNtv+03RrGBcG2GYI8bbfxtt/G235GF5thmCPyGoNEM42wdysNwrFiMatsC1AwCsNwrI22/Kw3CtjFTbAyisNwrBAWJAqIwwtsC1B/Kw3Csjbb72m6NSMLzbDMEgqDYKmM42wdysNwrFliQKoxq2wLUDAQ22/sNwa7G23ew3Bi75TVGjG239huDF3ymqNI22/jbb9AACiBIwR7b+NtvyMHc2/7DcGqG238hqDTI22/5DUGhG230qDYKkNtv5DUGkI22/5DUGkYYW2FgPBG23wrDcK2MLzbDPhJBoCR2G4NSMMLbCwHjlNUaIYqbYGUVhuFYF8xtt5WG4V1YkCpjbbysFSDBXlQbBVGCFbYJAxG237AACmRIwR7b+NtvyMDHtsLAdysNwrQwvNsM+w3BqCQhtt/Ybg1yMMLbCwHcrDcK4wvNsMwSENtv7DcGuRhhbYWA8cpqjRjC82wz6Swagj8hqDRjDC2wt7DcGLgdysNwrIwvNsMgSOQ1Bohtt/Iag00Ntv5DUGmxhhbYW8hqDBwO5WG4VxgXBthkCRG238bbfxtt+RhebYZgkchqDRDONsHcrDcKxZDbbysNwryMLzbBIBI5DUGiG239huDXQzjbB3Kw3CsWYwvNsEjpLBqCPyGoNEM42wdysNwrFmMVNvKw3CsEBYkCpDbbBI7DcGoxG236G239huDXIwvNsMgSOQ1BpG238bbfsAAK7EjBHtv422/Iwdzb/sNwaobbdKg2CrQ225yGoNMjbb/sNwaoZxtg8dpujUWQybbBH5DUGgyhnG2Dx2m6NRZDJtsEfkNQaDKG23SoNgq0M42wdisNwrFoybbBIGUM42wdysNwrFoybbBIGYwSLb+Ntv422/jbb8jDC2wsB47TdGrGKm2BlFYbhWBfrEgVEZNtgkDHYbg1IwwtsLAdysNwrjFTbwL+Ntv0Ntv5TVGnG236GcbYOxWG4ViyGTbYJHIag0GY22/QybbBI5DUGgzG238bbfxtt+AAC3RIwR7b+NtvyMDHtsLAeOU1Roxtt0qBUAwVQrDcKyNtuXtN0akYXm2GYJBUGwVIZxtg8cpqjQVjJtsEcZY22/hJBp9huDVDbb+w3Brsbbfwkg0+w3BqRtt/2G4NY22/jbb+MHa2/jAkjb+Ntv422/jbb8jC82wzBH5DUGjGcbYO5WG4Vi6xIFRGNW2BagYHKao0IwwtsLAdisNwrQwvNsEfkNQaAkRtt+RhhbYWA7lYbhWhiptgZRWG4VgX5GNW2BagYBWG4VkbbflYbhXGF5thmCRG238YJJt/G238bbfgAAv8SMEe2/jbb+Ntv0Ntv5DUGmRtt/yGoNCNtv+Q1BpG238bbfkbbf8hqDRDbb+Q1Bpkbbf8hqDQjbb/kNQaRtt/G238bbfxtt/G238bbfxtt/G238bbfxtt/G238bbfxtt/G238bbfxtt/G238bbfxtt/G238bbfxtt+/AAABtlRwI/////+/AACIhP/////fAACRBP///+L3/gAAmYT/xe8Xv///F7xe/QAAogT//78AAKZE/////98AAK7E/////98AALdE//hjB1tv3ACv//+/AAC/xP/////fAAABtlTgI/////+/AACIhP/////fAACRBP/////fAACZhP/////fAACiBP//vwAApkT/////3wAArsT/////3wAAt0T/+4AW////fwAAv8T/////3wAAAbZVcCP/////vwAAiIT/////3wAAkQT/////3wAAmYT/////3wAAogT//78AAKZE/////98AAK7E/////98AALdE//hjB1tv3ACv//+/AAC/xP/////fAAABtlXgI/////+/AACIhP/////fAACRBP/////fAACZhP/////fAACiBP//vwAApkT/////3wAArsT/////3wAAt0T/+4AW////fwAAv8T/////3wAAAbZWcCP/////vwAAiIT/////3wAAkQT/////3wAAmYT/////3wAAogT//78AAKZE/////98AAK7E/////98AALdE//hjB1tv3ACv//+/AAC/xP/////fAAABtlbgI/////+/AACIhP/////fAACRBP/////fAACZhP/////fAACiBP//vwAApkT/////3wAArsT/////3wAAt0T/+4AW////fwAAv8T/////3wAAAbZXcCP/////vwAAiIT/////3wAAkQT/////3wAAmYT/////3wAAogT//78AAKZE/////98AAK7E/////98AALdE//hjB1tv3ACv//+/AAC/xP/////fAAABtlfgI/////+/AACIhP/////fAACRBP/////fAACZhP/////fAACiBP//vwAApkT/////3wAArsT/////3wAAt0T/+4AW////fwAAv8T/////3wAAAbZYcCP/////vwAAiIT/////3wAAkQT/////3wAAmYT/////3wAAogT//78AAKZE/////98AAK7E/////98AALdE//hjB1tv3ACv//+/AAC/xP/////fAAABtljgI/////+/AACIhP/////fAACRBP/////fAACZhP/////fAACiBP//vwAApkT/////3wAArsT/////3wAAt0T/+4AW////fwAAv8T/////3wAAAbZZcCP/////vwAAiIT/////3wAAkQT/////3wAAmYT/////3wAAogT//78AAKZE/////98AAK7E/////98AALdE//hjB1tv3ACv//+/AAC/xP/////fAAABswARRwAAAbYZ4FGCPbfxtt/G238bbfxtt/G238bbfxtt/G238bbfxtt/G238bbfxtt/G238bbfxtt/G238bbfxtt+Rtt/2G4NY22/jbb+NtvyNtv+w3Bqhtt/Ybg1422/jbb+Ntv422/jbb8jbb/sNwaxtt/G237AACIhIwR7b+Ntv0MHc2/sNwa5GGFthYDuVhuFZGF5thmCR2G4NY22/I22/7DcGrGGFthb2G4MXA7lYbhWhiptgZXabo1Av4ybbBHGY22/jbb8jbb/sNwaobbf2G4NcjDC2wsB3Kw3CuMC4NsMwSI22/jbb+Ntv0M42wdysNwrFmMLzbBI6SwagkchqDQjDC2wsB3Kw3CtDC82wz7DcGoJBGGFthYDx2m6NWMVNsDKKw3CsC/WJAqQ22/lNUaZG23/Ybg1Q22/sNwa8bbfkYYW2FgPHabo1QxU2wMorDcKwL4jC82wSASOQ1BpG238bbfvwAAkQSMEe2/jbb9jB3Nv4SQafYbg1QzjbB3Kw3CsWIybbBIGeQ1BohnG2DuVhuFYsRjVtgWoGDymqNEMLzbDQqDYKgR0NtuchqDTIwwtsLAdysNwrYxU2wMorDcKwQFiQKkMm2wSOw3BqMEYYW2FgPHKao0QwvNsM+Q1BoCPG238YJFt/G238bbfxtt+RhhbYWA8dpujVDC82wSOQ1BoCPG236GTbYJHIag0GSMLzbDMEgqDYKkM42wdisNwrFoybbBIGSMLzbDMEkqDYKmMMLbAtuQ1Bg4DA7TdGrGKm2BklYbhWBfrEgVEYXm2CQCPyGoNCNtv+w3BqRtt/2G4NY22/jbb98AAJmEjBHtv422/IwMe2wsB45TVGiGF5thn2G4NQRyNtv+w3BqRtt/2G4NWMMLbC3sNwYuB3Kw3CtjC82wy4SQaAkdhuDUjbb/sNwakYYW2FgO5WG4Vsbbd7DcGLrymqNGNtv5DUGDvtN0axhebYZAjkYYW2FgPHabo1I22/7TdGsYFwbYZgjxtt/G238bbfkYXm2GYI/Iag0QzjbB3Kw3CsWIxq2wLUDAKw3Csjbb8rDcK2MVNsDKKw3CsEBYkCojDC2wLUH8rDcKyNtvvabo1IwvNsMwSCoNgqYzjbB3Kw3CsWWJAqjGrbAtQMBDbb+w3Brsbbd7DcGLvlNUaMbbf2G4MXfKao0jbb+Ntv0AAKIEjBHtv422/Iwdzb/sNwaobbfyGoNMjbb/kNQaEbbfSoNgqQ22/kNQaQjbb/kNQaRhhbYWA8EbbfCsNwrYwvNsM+EkGgJHYbg1IwwtsLAeOU1RohiptgZRWG4VgXzG23lYbhXViQKmNtvKwVIMFeVBsFUYIVtgkDEbbfsAAKZEjBHtv422/IwMe2wsB3Kw3CtDC82wz7DcGoJCG239huDXIwwtsLAdysNwrjC82wzBIQ22/sNwa5GGFthYDxymqNGMLzbDPpLBqCPyGoNGMMLbC3sNwYuB3Kw3CsjC82wyBI5DUGiG238hqDTQ22/kNQabGGFthbyGoMHA7lYbhXGBcG2GQJEbbfxtt/G235GF5thmCRyGoNEM42wdysNwrFkNtvKw3CvIwvNsEgEjkNQaIbbf2G4NdDONsHcrDcKxZjC82wSOksGoI/Iag0QzjbB3Kw3CsWYxU28rDcKwQFiQKkNtsEjsNwajEbbfobbf2G4NcjC82wyBI5DUGkbbfxtt+wAArsSMEe2/jbb8jB3Nv+w3Bqhtt0qDYKtDbbnIag0yNtv+w3BqhnG2Dx2m6NRZDJtsEfkNQaDKGcbYPHabo1FkMm2wR+Q1BoMobbdKg2CrQzjbB2Kw3CsWjJtsEgZQzjbB3Kw3CsWjJtsEgZjBItv422/jbb+NtvyMMLbCwHjtN0asYqbYGUVhuFYF+sSBURk22CQMdhuDUjDC2wsB3Kw3CuMVNvAv422/Q22/lNUacbbfoZxtg7FYbhWLIZNtgkchqDQZjbb9DJtsEjkNQaDMbbfxtt/G234AALdEjBHtv422/IwMe2wsB45TVGjG23SoFQDBVCsNwrI225e03RqRhebYZgkFQbBUhnG2DxymqNBWMm2wRxljbb+EkGn2G4NUNtv7DcGuxtt/CSDT7DcGpG23/Ybg1jbb+Ntv4wdrb+MCSNv422/jbb+NtvyMLzbDMEfkNQaMZxtg7lYbhWLrEgVEY1bYFqBgcpqjQjDC2wsB2Kw3CtDC82wR+Q1BoCRG235GGFthYDuVhuFaGKm2BlFYbhWBfkY1bYFqBgFYbhWRtt+VhuFcYXm2GYJEbbfxgkm38bbfxtt+AAC/xIwR7b+Ntv422/Q22/kNQaZG23/Iag0I22/5DUGkbbfxtt+Rtt/yGoNENtv5DUGmRtt/yGoNCNtv+Q1BpG238bbfxtt/G238bbfxtt/G238bbfxtt/G238bbfxtt/G238bbfxtt/G238bbfxtt/G238bbfxtt/G2378AAAG2WnAj/////78AAIiE/////98AAJEE////4vf+AACZhP/F7xe///8XvF79AACiBP//vwAApkT/////3wAArsT/////3wAAt0T/+GMHW2/cAK///78AAL/E/////98AAAG2WuAj/////78AAIiE/////98AAJEE/////98AAJmE/////98AAKIE//+/AACmRP/////fAACuxP/////fAAC3RP/7gBb///9/AAC/xP/////fAAABtltwI/////+/AACIhP/////fAACRBP/////fAACZhP/////fAACiBP//vwAApkT/////3wAArsT/////3wAAt0T/+GMHW2/cAK///78AAL/E/////98AAAG2W+Aj/////78AAIiE/////98AAJEE/////98AAJmE/////98AAKIE//+/AACmRP/////fAACuxP/////fAAC3RP/7gBb///9/AAC/xP/////fAAABtlxwI/////+/AACIhP/////fAACRBP/////fAACZhP/////fAACiBP//vwAApkT/////3wAArsT/////3wAAt0T//cAL//94AXcAAL/E/////98AAAG2aDAR/////98AAIiE/////98AAJEE/////98AAJmE/////98AAKIE//+/AACmRP/////fAACuxP/////fAAC3RP////wxg6237wAuAAC/xP/////fAAABtlDwI/////+/AACIhP/////fAACRBP/////fAACZhP/////fAACiBP//vwAApkT/////3wAArsT/////3wAAt0T////94AVwAvcAAL/E/////98AAAG2UWAj/////78AAIiE/////98AAJEE/////98AAJmE/////98AAKIE//+/AACmRP/////fAACuxP/////fAAC3RP////wxg6237gBeAAC/xP/////fAAABtlHwI/////+/AACIhP/////fAACRBP/////fAACZhP/////fAACiBP//vwAApkT/////3wAArsT/////3wAAt0T////9wAtwAvcAAL/E/////98AAAG2UmAj/////78AAIiE/////98AAJEE/////98AAJmE/////98AAKIE//+/AACmRP/////fAACuxP/////fAAC3RP////wxg6237gBeAAC/xP/////fAAABtlLwI/////+/AACIhP/////fAACRBP/////fAACZhP/////fAACiBP//vwAApkT/////3wAArsT/////3wAAt0T////9wAtwAvcAAL/E/////98AAAGzABGHAAABthNgUYI9t/G238bbfxtt/G238bbfxtt/G238bbfxtt/G238bbfxtt/G238bbfxtt/G238bbfxtt/G235G23/Ybg1jbb+Ntv422/I22/7DcGqG239huDXjbb+Ntv422/jbb+NtvyNtv+w3BrG238bbfsAAIiEjBHtv422/Qwdzb+w3BrkYYW2FgO5WG4VkYXm2GYJHYbg1jbb8jbb/sNwasYYW2FvYbgxcDuVhuFaGKm2BldpujUC/jJtsEcZjbb+NtvyNtv+w3Bqhtt/Ybg1yMMLbCwHcrDcK4wLg2wzBIjbb+Ntv422/QzjbB3Kw3CsWYwvNsEjpLBqCRyGoNCMMLbCwHcrDcK0MLzbDPsNwagkEYYW2FgPHabo1YxU2wMorDcKwL9YkCpDbb+U1Rpkbbf9huDVDbb+w3Brxtt+RhhbYWA8dpujVDFTbAyisNwrAviMLzbBIBI5DUGkbbfxtt+/AACRBIwR7b+Ntv2MHc2/hJBp9huDVDONsHcrDcKxYjJtsEgZ5DUGiGcbYO5WG4VixGNW2BagYPKao0QwvNsNCoNgqBHQ225yGoNMjDC2wsB3Kw3CtjFTbAyisNwrBAWJAqQybbBI7DcGowRhhbYWA8cpqjRDC82wz5DUGgI8bbfxgkW38bbfxtt/G235GGFthYDx2m6NUMLzbBI5DUGgI8bbfoZNtgkchqDQZIwvNsMwSCoNgqQzjbB2Kw3CsWjJtsEgZIwvNsMwSSoNgqYwwtsC25DUGDgMDtN0asYqbYGSVhuFYF+sSBURhebYJAI/Iag0I22/7DcGpG23/Ybg1jbb+Ntv3wAAmYSMEe2/jbb8jAx7bCwHjlNUaIYXm2GfYbg1BHI22/7DcGpG23/Ybg1YwwtsLew3Bi4HcrDcK2MLzbDLhJBoCR2G4NSNtv+w3BqRhhbYWA7lYbhWxtt3sNwYuvKao0Y22/kNQYO+03RrGF5thkCORhhbYWA8dpujUjbb/tN0axgXBthmCPG238bbfxtt+RhebYZgj8hqDRDONsHcrDcKxYjGrbAtQMArDcKyNtvysNwrYxU2wMorDcKwQFiQKiMMLbAtQfysNwrI22+9pujUjC82wzBIKg2CpjONsHcrDcKxZYkCqMatsC1AwENtv7DcGuxtt3sNwYu+U1Roxtt/Ybgxd8pqjSNtv422/QAAogSMEe2/jbb8jB3Nv+w3Bqhtt/Iag0yNtv+Q1BoRtt9Kg2CpDbb+Q1BpCNtv+Q1BpGGFthYDwRtt8Kw3CtjC82wz4SQaAkdhuDUjDC2wsB45TVGiGKm2BlFYbhWBfMbbeVhuFdWJAqY228rBUgwV5UGwVRghW2CQMRtt+wAApkSMEe2/jbb8jAx7bCwHcrDcK0MLzbDPsNwagkIbbf2G4NcjDC2wsB3Kw3CuMLzbDMEhDbb+w3BrkYYW2FgPHKao0YwvNsM+ksGoI/Iag0YwwtsLew3Bi4HcrDcKyMLzbDIEjkNQaIbbfyGoNNDbb+Q1BpsYYW2FvIagwcDuVhuFcYFwbYZAkRtt/G238bbfkYXm2GYJHIag0QzjbB3Kw3CsWQ228rDcK8jC82wSASOQ1Bohtt/Ybg10M42wdysNwrFmMLzbBI6Swagj8hqDRDONsHcrDcKxZjFTbysNwrBAWJAqQ22wSOw3BqMRtt+htt/Ybg1yMLzbDIEjkNQaRtt/G237AACuxIwR7b+NtvyMHc2/7DcGqG23SoNgq0NtuchqDTI22/7DcGqGcbYPHabo1FkMm2wR+Q1BoMoZxtg8dpujUWQybbBH5DUGgyhtt0qDYKtDONsHYrDcKxaMm2wSBlDONsHcrDcKxaMm2wSBmMEi2/jbb+Ntv422/IwwtsLAeO03RqxiptgZRWG4VgX6xIFRGTbYJAx2G4NSMMLbCwHcrDcK4xU28C/jbb9Dbb+U1Rpxtt+hnG2DsVhuFYshk22CRyGoNBmNtv0Mm2wSOQ1BoMxtt/G238bbfgAAt0SMEe2/jbb8jAx7bCwHjlNUaMbbdKgVAMFUKw3Csjbbl7TdGpGF5thmCQVBsFSGcbYPHKao0FYybbBHGWNtv4SQafYbg1Q22/sNwa7G238JINPsNwakbbf9huDWNtv422/jbb+MEi2/jbb+Ntv422/IwvNsMwR+Q1BoxnG2DuVhuFYusSBURjVtgWoGBymqNCMMLbCwHYrDcK0MLzbBH5DUGgJEbbfkYYW2FgO5WG4VoYqbYGUVhuFYF+RjVtgWoGAVhuFZG235WG4VxhebYZgkRg7W38YJJt/G238bbfsAAL/EjBHtv422/jbb9Dbb+Q1Bpkbbf8hqDQjbb/kNQaRtt/G235G23/Iag0Q22/kNQaZG23/Iag0I22/5DUGkbbfxtt/G238bbfxtt/G238bbfxtt/G238bbfxtt/G238bbfxtt/G238bbfxtt/G238bbfxtt/G238bbfvwAAAbZT8CP/////vwAAiIT/////3wAAkQT////i9/4AAJmE/8XvF7///xe8Xv0AAKIE//+/AACmRP/////fAACuxP/////fAAC3RP/4Ywdbb///3gBeAAC/xP/////fAAABtlRgI/////+/AACIhP/////fAACRBP/////fAACZhP/////fAACiBP//vwAApkT/////3wAArsT/////3wAAt0T/+LgBe1ejUMYOtt////cAAL/E/////98AAAG2VPAj/////78AAIiE/////98AAJEE/////98AAJmE/////98AAKIE//+/AACmRP/////fAACuxP/////fAAC3RP/4Ywdbb9wAr///vwAAv8T/////3wAAAbZVYCP/////vwAAiIT/////3wAAkQT/////3wAAmYT/////3wAAogT//78AAKZE/////98AAK7E/////98AALdE//uAFv///38AAL/E/////98AAAG2VfAj/////78AAIiE/////98AAJEE/////98AAJmE/////98AAKIE//+/AACmRP/////fAACuxP/////fAAC3RP/4Ywdbb9wAr///vwAAv8T/////3wAAAbZWYCX/////vwAAREJ/////7wAASIJ/////7wAATMJ/////7wAAUQJ//98AAFMif////+8AAFdif////+8AAFuif/uBjf///38AAF/if////+8AAAG2VvAj/////78AAIiE/////98AAJEE/////98AAJmE/////98AAKIE//+/AACmRP/////fAACuxP/////fAAC3RP/wxy2/cAL///0AAL/E/////98AAAG2V2Aj/////78AAIiE/////98AAJEE/////98AAJmE/////98AAKIE//+/AACmRP/////fAACuxP/////fAAC3RP/7gBb///9/AAC/xP/////fAAABtlfwI/////+/AACIhP/////fAACRBP/////fAACZhP/////fAACiBP//vwAApkT/////3wAArsT/////3wAAt0T/+GMHW2/cAK///78AAL/E/////98AAAG2WGAj/////78AAIiE/////98AAJEE/////98AAJmE/////98AAKIE//+/AACmRP/////fAACuxP/////fAAC3RP/7gBb///9/AAC/xP/////fAAABtljwI/////+/AACIhP/////fAACRBP/////fAACZhP/////fAACiBP//vwAApkT/////3wAArsT/////3wAAt0T/+GMHW2/cAK///78AAL/E/////98AAAGzABGHAAABthlgUYI9t/G238bbfxtt/G238bbfxtt/G238bbfxtt/G238bbfxtt/G238bbfxtt/G238bbfxtt/G235G23/Ybg1jbb+Ntv422/I22/7DcGqG239huDXjbb+Ntv422/jbb+NtvyNtv+w3BrG238bbfsAAIiEjBHtv422/Qwdzb+w3BrkYYW2FgO5WG4VkYXm2GYJHYbg1jbb8jbb/sNwasYYW2FvYbgxcDuVhuFaGKm2BldpujUC/jJtsEcZjbb+NtvyNtv+w3Bqhtt/Ybg1yMMLbCwHcrDcK4wLg2wzBIjbb+Ntv422/QzjbB3Kw3CsWYwvNsEjpLBqCRyGoNCMMLbCwHcrDcK0MLzbDPsNwagkEYYW2FgPHabo1YxU2wMorDcKwL9YkCpDbb+U1Rpkbbf9huDVDbb+w3Brxtt+RhhbYWA8dpujVDFTbAyisNwrAviMLzbBIBI5DUGkbbfxtt+/AACRBIwR7b+Ntv2MHc2/hJBp9huDVDONsHcrDcKxYjJtsEgZ5DUGiGcbYO5WG4VixGNW2BagYPKao0QwvNsNCoNgqBHQ225yGoNMjDC2wsB3Kw3CtjFTbAyisNwrBAWJAqQybbBI7DcGowRhhbYWA8cpqjRDC82wz5DUGgI8bbfxgkW38bbfxtt/G235GGFthYDx2m6NUMLzbBI5DUGgI8bbfoZNtgkchqDQZIwvNsMwSCoNgqQzjbB2Kw3CsWjJtsEgZIwvNsMwSSoNgqYwwtsC25DUGDgMDtN0asYqbYGSVhuFYF+sSBURhebYJAI/Iag0I22/7DcGpG23/Ybg1jbb+Ntv3wAAmYSMEe2/jbb8jAx7bCwHjlNUaIYXm2GfYbg1BHI22/7DcGpG23/Ybg1YwwtsLew3Bi4HcrDcK2MLzbDLhJBoCR2G4NSNtv+w3BqRhhbYWA7lYbhWxtt3sNwYuvKao0Y22/kNQYO+03RrGF5thkCORhhbYWA8dpujUjbb/tN0axgXBthmCPG238bbfxtt+RhebYZgj8hqDRDONsHcrDcKxYjGrbAtQMArDcKyNtvysNwrYxU2wMorDcKwQFiQKiMMLbAtQfysNwrI22+9pujUjC82wzBIKg2CpjONsHcrDcKxZYkCqMatsC1AwENtv7DcGuxtt3sNwYu+U1Roxtt/Ybgxd8pqjSNtv422/QAAogSMEe2/jbb8jB3Nv+w3Bqhtt/Iag0yNtv+Q1BoRtt9Kg2CpDbb+Q1BpCNtv+Q1BpGGFthYDwRtt8Kw3CtjC82wz4SQaAkdhuDUjDC2wsB45TVGiGKm2BlFYbhWBfMbbeVhuFdWJAqY228rBUgwV5UGwVRghW2CQMRtt+wAApkSMEe2/jbb8jAx7bCwHcrDcK0MLzbDPsNwagkIbbf2G4NcjDC2wsB3Kw3CuMLzbDMEhDbb+w3BrkYYW2FgPHKao0YwvNsM+ksGoI/Iag0YwwtsLew3Bi4HcrDcKyMLzbDIEjkNQaIbbfyGoNNDbb+Q1BpsYYW2FvIagwcDuVhuFcYFwbYZAkRtt/G238bbfkYXm2GYJHIag0QzjbB3Kw3CsWQ228rDcK8jC82wSASOQ1Bohtt/Ybg10M42wdysNwrFmMLzbBI6Swagj8hqDRDONsHcrDcKxZjFTbysNwrBAWJAqQ22wSOw3BqMRtt+htt/Ybg1yMLzbDIEjkNQaRtt/G237AACuxIwR7b+NtvyMHc2/7DcGqG23SoNgq0NtuchqDTI22/7DcGqGcbYPHabo1FkMm2wR+Q1BoMoZxtg8dpujUWQybbBH5DUGgyhtt0qDYKtDONsHYrDcKxaMm2wSBlDONsHcrDcKxaMm2wSBmMEi2/jbb+Ntv422/IwwtsLAeO03RqxiptgZRWG4VgX6xIFRGTbYJAx2G4NSMMLbCwHcrDcK4xU28C/jbb9Dbb+U1Rpxtt+hnG2DsVhuFYshk22CRyGoNBmNtv0Mm2wSOQ1BoMxtt/G238bbfgAAt0SMEe2/jbb8jAx7bCwHjlNUaMbbdKgVAMFUKw3Csjbbl7TdGpGF5thmCQVBsFSGcbYPHKao0FYybbBHGWNtv4SQafYbg1Q22/sNwa7G238JINPsNwakbbf9huDWNtv422/jB2tv4wJI2/jbb+Ntv422/IwvNsMwR+Q1BoxnG2DuVhuFYusSBURjVtgWoGBymqNCMMLbCwHYrDcK0MLzbBH5DUGgJEbbfkYYW2FgO5WG4VoYqbYGUVhuFYF+RjVtgWoGAVhuFZG235WG4VxhebYZgkRtt/GCSbfxtt/G234AAL/EjBHtv422/jbb9Dbb+Q1Bpkbbf8hqDQjbb/kNQaRtt/G235G23/Iag0Q22/kNQaZG23/Iag0I22/5DUGkbbfxtt/G238bbfxtt/G238bbfxtt/G238bbfxtt/G238bbfxtt/G238bbfxtt/G238bbfxtt/G238bbfvwAAAbZZ8CP/////vwAAiIT/////3wAAkQT////i9/4AAJmE/8XvF7///xe8Xv0AAKIE//+/AACmRP/////fAACuxP/////fAAC3RP/4Ywdbb9wAr///vwAAv8T/////3wAAAbZaYCP/////vwAAiIT/////3wAAkQT/////3wAAmYT/////3wAAogT//78AAKZE/////98AAK7E/////98AALdE//uAFv///38AAL/E/////98AAAG2WvAj/////78AAIiE/////98AAJEE/////98AAJmE/////98AAKIE//+/AACmRP/////fAACuxP/////fAAC3RP/4Ywdbb9wAr///vwAAv8T/////3wAAAbZbYCP/////vwAAiIT/////3wAAkQT/////3wAAmYT/////3wAAogT//78AAKZE/////98AAK7E/////98AALdE//uAFv///38AAL/E/////98AAAG2W/Aj/////78AAIiE/////98AAJEE/////98AAJmE/////98AAKIE//+/AACmRP/////fAACuxP////4Ywdbb/QAAt0T//cAL///vAAC/xP/////fAAABtlxgI/////+/AACIhP/////fAACRBP/////fAACZhP/////fAACiBP//vwAApkT/////3wAArsT////8BjB1tv5DUGm8ALsAALdE/////98AAL/E/////98AAAG2aDgR/////98AAIiE/////98AAJEE/////98AAJmE/////98AAKIE//+/AACmRP/////fAACuxP////wGOW38hqDTFgBfavRrvwAAt0T/////3wAAv8T/////3wAAAbZQ4CP/////vwAAiIT/////3wAAkQT/////3wAAmYT/////3wAAogT//78AAKZE/////98AAK7E//wxg623///iwAvtXo13AAC3RP/////fAAC/xP/////fAAABtlFwI/////+/AACIhP/////fAACRBP/////fAACZhP/////fAACiBP//vwAApkT/////3wAArsT//DHLb///3gBdAAC3RP/////fAAC/xP/////fAAABtlHgI/////+/AACIhP/////fAACRBP/////fAACZhP/////fAACiBP//vwAApkT/////3wAArsT////8BjB1tv5DUGm8ALsAALdE/////98AAL/E/////98AAAG2UnAj/////78AAIiE/////98AAJEE/////98AAJmE/////98AAKIE//+/AACmRP/////fAACuxP////wGOW38hqDTFgBfavRrvwAAt0T/////3wAAv8T/////3wAAAbMAEccAAAG2EuBRgj238bbfxtt/G238bbfxtt/G238bbfxtt/G238bbfxtt/G238bbfxtt/G238bbfxtt/G238bbfkbbf9huDWNtv422/jbb8jbb/sNwaobbf2G4NeNtv422/jbb+Ntv422/I22/7DcGsbbfxtt+wAAiISMEe2/jbb9DB3Nv7DcGuRhhbYWA7lYbhWRhebYZgkdhuDWNtvyNtv+w3BqxhhbYW9huDFwO5WG4VoYqbYGV2m6NQL+Mm2wRxmNtv422/I22/7DcGqG239huDXIwwtsLAdysNwrjAuDbDMEiNtv422/jbb9DONsHcrDcKxZjC82wSOksGoJHIag0IwwtsLAdysNwrQwvNsM+w3BqCQRhhbYWA8dpujVjFTbAyisNwrAv1iQKkNtv5TVGmRtt/2G4NUNtv7DcGvG235GGFthYDx2m6NUMVNsDKKw3CsC+IwvNsEgEjkNQaRtt/G2378AAJEEjBHtv422/Ywdzb+EkGn2G4NUM42wdysNwrFiMm2wSBnkNQaIZxtg7lYbhWLEY1bYFqBg8pqjRDC82w0Kg2CoEdDbbnIag0yMMLbCwHcrDcK2MVNsDKKw3CsEBYkCpDJtsEjsNwajBGGFthYDxymqNEMLzbDPkNQaAjxtt/GCRbfxtt/G238bbfkYYW2FgPHabo1QwvNsEjkNQaAjxtt+hk22CRyGoNBkjC82wzBIKg2CpDONsHYrDcKxaMm2wSBkjC82wzBJKg2CpjDC2wLbkNQYOAwO03RqxiptgZJWG4VgX6xIFRGF5tgkAj8hqDQjbb/sNwakbbf9huDWNtv422/fAACZhIwR7b+NtvyMDHtsLAeOU1RohhebYZ9huDUEcjbb/sNwakbbf9huDVjDC2wt7DcGLgdysNwrYwvNsMuEkGgJHYbg1I22/7DcGpGGFthYDuVhuFbG23ew3Bi68pqjRjbb+Q1Bg77TdGsYXm2GQI5GGFthYDx2m6NSNtv+03RrGBcG2GYI8bbfxtt/G235GF5thmCPyGoNEM42wdysNwrFiMatsC1AwCsNwrI22/Kw3CtjFTbAyisNwrBAWJAqIwwtsC1B/Kw3Csjbb72m6NSMLzbDMEgqDYKmM42wdysNwrFliQKoxq2wLUDAQ22/sNwa7G23ew3Bi75TVGjG239huDF3ymqNI22/jbb9AACiBIwR7b+NtvyMHc2/7DcGqG238hqDTI22/5DUGhG230qDYKkNtv5DUGkI22/5DUGkYYW2FgPBG23wrDcK2MLzbDPhJBoCR2G4NSMMLbCwHjlNUaIYqbYGUVhuFYF8xtt5WG4V1YkCpjbbysFSDBXlQbBVGCFbYJAxG237AACmRIwR7b+NtvyMDHtsLAdysNwrQwvNsM+w3BqCQhtt/Ybg1yMMLbCwHcrDcK4wvNsMwSENtv7DcGuRhhbYWA8cpqjRjC82wz6Swagj8hqDRjDC2wt7DcGLgdysNwrIwvNsMgSOQ1Bohtt/Iag00Ntv5DUGmxhhbYW8hqDBwO5WG4VxgXBthkCRG238bbfxtt+RhebYZgkchqDRDONsHcrDcKxZDbbysNwryMLzbBIBI5DUGiG239huDXQzjbB3Kw3CsWYwvNsEjpLBqCPyGoNEM42wdysNwrFmMVNvKw3CsEBYkCpDbbBI7DcGoxG236G239huDXIwvNsMgSOQ1BpG238bbfsAAK7EjBHtv422/Iwdzb/sNwaobbdKg2CrQ225yGoNMjbb/sNwaoZxtg8dpujUWQybbBH5DUGgyhnG2Dx2m6NRZDJtsEfkNQaDKG23SoNgq0M42wdisNwrFoybbBIGUM42wdysNwrFoybbBIGYwSLb+Ntv422/jbb8jDC2wsB47TdGrGKm2BlFYbhWBfrEgVEZNtgkDHYbg1IwwtsLAdysNwrjFTbwL+Ntv0Ntv5TVGnG236GcbYOxWG4ViyGTbYJHIag0GY22/QwcLbBI5DUGgzGCSbfxtt/G234AALdEjBHtv422/IwMe2wsB45TVGjG23SoFQDBVCsNwrI225e03RqRhebYZgkFQbBUhnG2DxymqNBWMm2wRxljbb+EkGn2G4NUNtv7DcGuxtt/CSDT7DcGpG23/Ybg1jbb+Ntv422/jBItv422/jbb+NtvyMLzbDMEfkNQaMZxtg7lYbhWLrEgVEY1bYFqBgcpqjQjDC2wsB2Kw3CtDC82wR+Q1BoCRG235GGFthYDuVhuFaGKm2BlFYbhWBfkY1bYFqBgFYbhWRtt+VhuFcYXm2GYJEbbfxtt/G238bbfvwAAv8SMEe2/jbb+Ntv0Ntv5DUGmRtt/yGoNCNtv+Q1BpG238bbfkbbf8hqDRDbb+Q1Bpkbbf8hqDQjbb/kNQaRtt/G238bbfxtt/G238bbfxtt/G238bbfxtt/G238bbfxtt/G238bbfxtt/G238bbfxtt/G238bbfxtt+/AAABtlNwI/////+/AACIhP/////fAACRBP///+L3/gAAmYT/xe8Xv///F7xe/QAAogT//78AAKZE/////98AAK7E/////AY5bfyGoNMWAF9q9Gu/AAC3RP/////fAAC/xP/////fAAABtlPgI/////+/AACIhP/////fAACRBP/////fAACZhP/////fAACiBP//vwAApkT/////3wAArsT////8BjB1tv5DUGmLAC+1ejXfAAC3RP/////fAAC/xP/////fAAABtlRwI/////+/AACIhP/////fAACRBP/////fAACZhP/////fAACiBP//vwAApkT/////3wAArsT////8WAFjIWAF9q9GuwAAt0T/////3wAAv8T/////3wAAAbZU4CP/////vwAAiIT/////3wAAkQT/////3wAAmYT/////3wAAogT//78AAKZE/////98AAK7E/////AYwdbb+Q1BpiwAsZ78AALdE/////98AAL/E/////98AAAG2VXAj/////78AAIiE/////98AAJEE/////98AAJmE/////98AAKIE//+/AACmRP/////fAACuxP////xYAWMhYAX2r0a7AAC3RP/////fAAC/xP/////fAAABtlXgI/////+/AACIhP/////fAACRBP/////fAACZhP/////fAACiBP//vwAApkT/////3wAArsT////8BjB1tv5DUGmLACxnvwAAt0T/////3wAAv8T/////3wAAAbZWcCP/////vwAAiIT/////3wAAkQT/////3wAAmYT/////3wAAogT//78AAKZE/////98AAK7E/////FgBYyFgBfavRrsAALdE/////98AAL/E/////98AAAG2VuAj/////78AAIiE/////98AAJEE/////98AAJmE/////98AAKIE//+/AACmRP/////fAACuxP////wGMHW2/kNQaYsALGe/AAC3RP/////fAAC/xP/////fAAABtldwI/////+/AACIhP/////fAACRBP/////fAACZhP/////fAACiBP//vwAApkT/////3wAArsT////8WAFjIWAF9q9GuwAAt0T/////3wAAv8T/////3wAAAbZX4CP/////vwAAiIT/////3wAAkQT/////3wAAmYT/////3wAAogT//78AAKZE/////98AAK7E/////AYwdbb+Q1BpiwAsZ78AALdE/////98AAL/E/////98AAAG2WHAj/////78AAIiE/////98AAJEE/////98AAJmE/////98AAKIE//+/AACmRP/////fAACuxP////xYAWMhYAX2r0a7AAC3RP/////fAAC/xP/////fAAABswARxwAAAbYY4FGCPbfxtt/G238bbfxtt/G238bbfxtt/G238bbfxtt/G238bbfxtt/G238bbfxtt/G238bbfxtt+Rtt/2G4NY22/jbb+NtvyNtv+w3Bqhtt/Ybg1422/jbb+Ntv422/jbb8jbb/sNwaxtt/G237AACIhIwR7b+Ntv0MHc2/sNwa5GGFthYDuVhuFZGF5thmCR2G4NY22/I22/7DcGrGGFthb2G4MXA7lYbhWhiptgZXabo1Av4ybbBHGY22/jbb8jbb/sNwaobbf2G4NcjDC2wsB3Kw3CuMC4NsMwSI22/jbb+Ntv0M42wdysNwrFmMLzbBI6SwagkchqDQjDC2wsB3Kw3CtDC82wz7DcGoJBGGFthYDx2m6NWMVNsDKKw3CsC/WJAqQ22/lNUaZG23/Ybg1Q22/sNwa8bbfkYYW2FgPHabo1QxU2wMorDcKwL4jC82wSASOQ1BpG238bbfvwAAkQSMEe2/jbb9jB3Nv4SQafYbg1QzjbB3Kw3CsWIybbBIGeQ1BohnG2DuVhuFYsRjVtgWoGDymqNEMLzbDQqDYKgR0NtuchqDTIwwtsLAdysNwrYxU2wMorDcKwQFiQKkMm2wSOw3BqMEYYW2FgPHKao0QwvNsM+Q1BoCPG238YJFt/G238bbfxtt+RhhbYWA8dpujVDC82wSOQ1BoCPG236GTbYJHIag0GSMLzbDMEgqDYKkM42wdisNwrFoybbBIGSMLzbDMEkqDYKmMMLbAtuQ1Bg4DA7TdGrGKm2BklYbhWBfrEgVEYXm2CQCPyGoNCNtv+w3BqRtt/2G4NY22/jbb98AAJmEjBHtv422/IwMe2wsB45TVGiGF5thn2G4NQRyNtv+w3BqRtt/2G4NWMMLbC3sNwYuB3Kw3CtjC82wy4SQaAkdhuDUjbb/sNwakYYW2FgO5WG4Vsbbd7DcGLrymqNGNtv5DUGDvtN0axhebYZAjkYYW2FgPHabo1I22/7TdGsYFwbYZgjxtt/G238bbfkYXm2GYI/Iag0QzjbB3Kw3CsWIxq2wLUDAKw3Csjbb8rDcK2MVNsDKKw3CsEBYkCojDC2wLUH8rDcKyNtvvabo1IwvNsMwSCoNgqYzjbB3Kw3CsWWJAqjGrbAtQMBDbb+w3Brsbbd7DcGLvlNUaMbbf2G4MXfKao0jbb+Ntv0AAKIEjBHtv422/Iwdzb/sNwaobbfyGoNMjbb/kNQaEbbfSoNgqQ22/kNQaQjbb/kNQaRhhbYWA8EbbfCsNwrYwvNsM+EkGgJHYbg1IwwtsLAeOU1RohiptgZRWG4VgXzG23lYbhXViQKmNtvKwVIMFeVBsFUYIVtgkDEbbfsAAKZEjBHtv422/IwMe2wsB3Kw3CtDC82wz7DcGoJCG239huDXIwwtsLAdysNwrjC82wzBIQ22/sNwa5GGFthYDxymqNGMLzbDPpLBqCPyGoNGMMLbC3sNwYuB3Kw3CsjC82wyBI5DUGiG238hqDTQ22/kNQabGGFthbyGoMHA7lYbhXGBcG2GQJEbbfxtt/G235GF5thmCRyGoNEM42wdysNwrFkNtvKw3CvIwvNsEgEjkNQaIbbf2G4NdDONsHcrDcKxZjC82wSOksGoI/Iag0QzjbB3Kw3CsWYxU28rDcKwQFiQKkNtsEjsNwajEbbfobbf2G4NcjC82wyBI5DUGkbbfxtt+wAArsSMEe2/jbb8jB3Nv+w3Bqhtt0qDYKtDbbnIag0yNtv+w3BqhnG2Dx2m6NRZDJtsEfkNQaDKGcbYPHabo1FkMm2wR+Q1BoMobbdKg2CrQzjbB2Kw3CsWjJtsEgZQzjbB3Kw3CsWjJtsEgZjBItv422/jbb+NtvyMMLbCwHjtN0asYqbYGUVhuFYF+sSBURk22CQMdhuDUjDC2wsB3Kw3CuMVNvAv422/Q22/lNUacbbfoZxtg7FYbhWLIZNtgkchqDQZjbb9DBwtsEjkNQaDMYJJt/G238bbfgAAt0SMEe2/jbb8jAx7bCwHjlNUaMbbdKgVAMFUKw3Csjbbl7TdGpGF5thmCQVBsFSGcbYPHKao0FYybbBHGWNtv4SQafYbg1Q22/sNwa7G238JINPsNwakbbf9huDWNtv422/jbb+MEi2/jbb+Ntv422/IwvNsMwR+Q1BoxnG2DuVhuFYusSBURjVtgWoGBymqNCMMLbCwHYrDcK0MLzbBH5DUGgJEbbfkYYW2FgO5WG4VoYqbYGUVhuFYF+RjVtgWoGAVhuFZG235WG4VxhebYZgkRtt/G238bbfxtt+/AAC/xIwR7b+Ntv422/Q22/kNQaZG23/Iag0I22/5DUGkbbfxtt+Rtt/yGoNENtv5DUGmRtt/yGoNCNtv+Q1BpG238bbfxtt/G238bbfxtt/G238bbfxtt/G238bbfxtt/G238bbfxtt/G238bbfxtt/G238bbfxtt/G2378AAAG2WXAj/////78AAIiE/////98AAJEE////4vf+AACZhP/F7xe///8XvF79AACiBP//vwAApkT/////3wAArsT////8Bjlt/Iag0xYAX2r0a78AALdE/////98AAL/E/////98AAAG2WeAj/////78AAIiE/////98AAJEE/////98AAJmE/////98AAKIE//+/AACmRP/////fAACuxP////wGMHW2/kNQaYsAL7V6Nd8AALdE/////98AAL/E/////98AAAG2WnAj/////78AAIiE/////98AAJEE/////98AAJmE/////98AAKIE//+/AACmRP/////fAACuxP////xYAWMhYAX2r0a7AAC3RP/////fAAC/xP/////fAAABtlrgI/////+/AACIhP/////fAACRBP/////fAACZhP/////fAACiBP//vwAApkT/////3wAArsT////8BjB1tv5DUGmLACxnvwAAt0T/////3wAAv8T/////3wAAAbZbcCX/////vwAAREJ/////7wAASIJ/////7wAATMJ/////7wAAUQJ//98AAFMif////i/lWo07AABXYn/8XAx7V6Nf//eBj38AAFuif////+8AAF/if////+8AAAG2W+Al/////78AAERCf////+8AAEiCf////+8AAEzCf////+8AAFECf//fAABTIn/////vAABXYn/7gY3///9/AABbon/////vAABf4n/////vAAABtlxwI/////+/AACIhP/////fAACRBP/////fAACZhP/////fAACiBP//vwAApkT/////3wAArsT/8Mctv3AC///9AAC3RP/////fAAC/xP/////fAAABtmgwEf/////fAACIhP/////fAACRBP/////fAACZhP/////fAACiBP//vwAApkT/////3wAArsT/+4AW////fwAAt0T/////3wAAv8T/////3wAAAbZQ8Cf//+P+VajTj/lWo0F/KtRp8f8q1Gm/AAAiITcF+4L8MYI9t+7QX3x/yrDIX8qwyfffffH/KsMvfcF+8DO8F94L4+C/yrDIXBf5Vhk8F94L7wX3gvvBfHwX+VYZbwAAJEE3BfuC/DGCPbfhjbb8Mbbfhjbb8Mbbfhjbb8Mbbfhjbb8Mbbfhjbb9wW/vuC/DG234Y22/DG234Y22/DG234Y22/DG234Y22/DG234Y22/cFvvAAAmYTcF+GMEe2/DG234Y22/DG234Y22/DG234Y22/DG234Y22/DG234Y22/cFtnuC/cDPcBPcALwxgj234Y22/DG234Y22/DG234Y22/DG234Y22/cFvgAAKIE3BfhjBHtvwxtt+GNtvwxtt+GNtvwxtt+GNtvwxtt+GNtvwxtt+GNtvwxtt/sAACmRNwX4YwR7b8Mbbfhjbb8Mbbfhjbb8Mbbfhjbb8Mbbfhjbb8Mbbfhjbb9wW/uC/cDPcBPDGCPbfhjbb8Mbbfhjbb8Mbbfhjbb8Mbbfhjbb8MbbfuC33wAAK7E3BfhjBHtvwxtt+GNtvwxtt+GNtvwxtt+GNtvwxtt+GNtvwxtt+GNtvwxtt/7gvwxtt+GNtvwxtt+GNtvwxtt+GNtvwxtt+GNtvwxtt+GNtvwxtt+4LfcAAC3RNwX4YwR7b8Mbbfhjbb8Mbbfhjbb8Mbbfhjbb8Mbbfhjbb8Mbbfhjbb9wW/uC/DG234Y22/Hgvgt9q9Go8F8FvtXo1DGCPbfhjbb8Mbbfhjbb8Mbbfhjbb8MbbfuC338AAC/xOL+1ejUf9q9Go/7V6Ncf9q9Gov7V6NR/2r0aj/tXo1///98AAAaZbW9vdgAAAGxtdmhkAAAAAAAAAAAAAAAAAAAD6AAAH5AAAQAAAQAAAAAAAAAAAAAAAAEAAAAAAAAAAAAAAAAAAAABAAAAAAAAAAAAAAAAAABAAAAAAAAAAAAAAAAAAAAAAAAAAAAAAAAAAAAAAAAAAgAABcN0cmFrAAAAXHRraGQAAAADAAAAAAAAAAAAAAABAAAAAAAAH5AAAAAAAAAAAAAAAAAAAAAAAAEAAAAAAAAAAAAAAAAAAAABAAAAAAAAAAAAAAAAAABAAAAAARAAAAEQAAAAAAAkZWR0cwAAABxlbHN0AAAAAAAAAAEAAB+QAAAAAAABAAAAAAU7bWRpYQAAACBtZGhkAAAAAAAAAAAAAAAAAAAyAAABlABVxAAAAAAALWhkbHIAAAAAAAAAAHZpZGUAAAAAAAAAAAAAAABWaWRlb0hhbmRsZXIAAAAE5m1pbmYAAAAUdm1oZAAAAAEAAAAAAAAAAAAAACRkaW5mAAAAHGRyZWYAAAAAAAAAAQAAAAx1cmwgAAAAAQAABKZzdGJsAAAAxnN0c2QAAAAAAAAAAQAAALZtcDR2AAAAAAAAAAEAAAAAAAAAAAAAAAAAAAAAARABEABIAAAASAAAAAAAAAABAAAAAAAAAAAAAAAAAAAAAAAAAAAAAAAAAAAAAAAAAAAAGP//AAAAYGVzZHMAAAAAA4CAgE8AAQAEgICAQSARAAAAAAMNQAAAvV4FgICALwAAAbABAAABtYkTAAABAAAAASAAxI2IAM0IhCIUQwAAAbJMYXZjNTguMTguMTAwBoCAgAECAAAAGHN0dHMAAAAAAAAAAQAAAMoAAAIAAAAAVHN0c3MAAAAAAAAAEQAAAAEAAAANAAAAGQAAACUAAAAxAAAAPQAAAEkAAABVAAAAYQAAAG0AAAB5AAAAhQAAAJEAAACdAAAAqQAAALUAAADBAAAAHHN0c2MAAAAAAAAAAQAAAAEAAADKAAAAAQAAAzxzdHN6AAAAAAAAAAAAAADKAAAHcgAAAHEAAABmAAAAYwAAAF0AAABaAAAAYgAAAFkAAABbAAAAXQAAAFwAAABaAAAHVgAAAGEAAABYAAAAVgAAAFgAAABWAAAAWAAAAFYAAABYAAAAVgAAAFgAAABWAAAHVgAAAGEAAABYAAAAVgAAAFgAAABWAAAAWAAAAFYAAABYAAAAVgAAAFgAAABWAAAHVgAAAGEAAABYAAAAVgAAAFgAAABWAAAAWAAAAFYAAABYAAAAVgAAAFgAAABWAAAHVgAAAGEAAABYAAAAVgAAAFgAAABWAAAAWAAAAFYAAABYAAAAVgAAAFgAAABWAAAHVgAAAGcAAABbAAAAVgAAAFsAAABWAAAAWwAAAFYAAABbAAAAVgAAAFsAAABWAAAHVwAAAGEAAABcAAAAWgAAAFgAAABWAAAAXAAAAFYAAABbAAAAVgAAAFsAAABWAAAHVwAAAF4AAABbAAAAVgAAAFsAAABWAAAAXwAAAFoAAABYAAAAVgAAAFgAAABWAAAHVgAAAGEAAABYAAAAVgAAAFgAAABcAAAAVgAAAFYAAABbAAAAVgAAAFsAAABWAAAHVwAAAF4AAABbAAAAVgAAAGAAAABlAAAAYAAAAFsAAABeAAAAWwAAAF4AAABbAAAHPQAAAGYAAABgAAAAWwAAAF4AAABbAAAAXgAAAFsAAABXAAAAWwAAAFUAAABXAAAHPQAAAGAAAABVAAAAWQAAAFUAAABZAAAAVQAAAFkAAABVAAAAWQAAAFUAAABZAAAHPQAAAGAAAABVAAAAWQAAAFUAAABWAAAAWAAAAFYAAABYAAAAVgAAAFgAAABWAAAHPQAAAF8AAABcAAAAWQAAAFUAAABZAAAAVQAAAFcAAABVAAAAWQAAAFUAAABZAAAHPQAAAGAAAABVAAAAWQAAAFUAAABYAAAAXAAAAF8AAABcAAAAVwAAAFwAAABfAAAHPQAAAGYAAABgAAAAWwAAAF4AAABbAAAAXgAAAFsAAABeAAAAWwAAAF4AAABbAAAHPQAAAGYAAABgAAAAWwAAAF4AAABeAAAAVQAAAFcAAABVAAACgAAAABRzdGNvAAAAAAAAAAEAAAAsAAAAYnVkdGEAAABabWV0YQAAAAAAAAAhaGRscgAAAAAAAAAAbWRpcmFwcGwAAAAAAAAAAAAAAAAtaWxzdAAAACWpdG9vAAAAHWRhdGEAAAABAAAAAExhdmY1OC4xMi4xMDA=\" type=\"video/mp4\" />\n",
       "             </video>"
      ],
      "text/plain": [
       "<IPython.core.display.HTML object>"
      ]
     },
     "execution_count": 96,
     "metadata": {},
     "output_type": "execute_result"
    }
   ],
   "source": [
    "HTML(display_videos('fc_test10.mp4'))"
   ]
  },
  {
   "cell_type": "markdown",
   "metadata": {},
   "source": []
  },
  {
   "cell_type": "markdown",
   "metadata": {},
   "source": [
    "***\n",
    "\n",
    "The algorithm tends to not explore the map which can be an issue. We propose two ideas in order to encourage exploration:\n",
    "1. Incorporating a decreasing $\\epsilon$-greedy exploration. You can use the method ```set_epsilon```\n",
    "2. Append via the environment a new state that describes if a cell has been visited or not\n",
    "\n",
    "***\n",
    "__Question 10__ Design a new ```train_explore``` function and environment class ```EnvironmentExploring``` to tackle the issue of exploration.\n",
    "\n"
   ]
  },
  {
   "cell_type": "code",
   "execution_count": 180,
   "metadata": {},
   "outputs": [],
   "source": [
    "def train_explore(agent, env, epoch, epsilon=0.1, decay_rate=0.99, prefix=''):\n",
    "    # Number of won games\n",
    "    score = 0\n",
    "\n",
    "    for e in range(epoch):\n",
    "        # At each epoch, we restart to a fresh game and get the initial state\n",
    "        state = env.reset()\n",
    "        # This assumes that the games will terminate\n",
    "        game_over = False\n",
    "        win, lose = 0, 0\n",
    "        agent.set_epsilon(epsilon)\n",
    "        while not game_over:\n",
    "            # The agent performs an action\n",
    "            action = agent.act(state)\n",
    "            agent.update_epsilon(decay_rate) # Decreasing rate of the exploration rate\n",
    "            # Apply an action to the environment, get the next state, the reward\n",
    "            # and if the games end\n",
    "            prev_state = state\n",
    "            state, reward, game_over = env.act(action, train=True)\n",
    "            # Update the counters\n",
    "            if reward > 0:\n",
    "                win += reward\n",
    "            if reward < 0:\n",
    "                lose -= reward\n",
    "            # Apply the reinforcement strategy\n",
    "            loss = agent.reinforce(prev_state, state, action, reward, game_over)\n",
    "        # Save as a mp4\n",
    "        if e % 10 == 0:\n",
    "            env.draw(prefix+str(e))\n",
    "        # Update stats\n",
    "        score += win-lose\n",
    "        print(\"Epoch {:03d}/{:03d} | Loss {:.4f} | Win/lose count {:3.2f}/{:3.2f} ({:3.2f})\"\n",
    "              .format(e, epoch, loss, win, lose, win-lose))\n",
    "        agent.save(name_weights=prefix+'model.h5',name_model=prefix+'model.json')\n",
    "        \n",
    "        \n",
    "class EnvironmentExploring(object):\n",
    "    def __init__(self, grid_size=10, max_time=500, temperature=0.1):\n",
    "        grid_size = grid_size+4\n",
    "        self.grid_size = grid_size\n",
    "        self.max_time = max_time\n",
    "        self.temperature = temperature\n",
    "        #board on which one plays\n",
    "        self.board = np.zeros((grid_size,grid_size))\n",
    "        self.position = np.zeros((grid_size,grid_size))\n",
    "        self.malus_position = np.zeros((grid_size,grid_size)) ## initialization of the cases already seen\n",
    "        # coordinate of the rat\n",
    "        self.x = 0\n",
    "        self.y = 1\n",
    "        # self time\n",
    "        self.t = 0\n",
    "        self.scale=16\n",
    "        self.to_draw = np.zeros((max_time+2, grid_size*self.scale, grid_size*self.scale, 3))\n",
    "\n",
    "    def draw(self,e):\n",
    "        skvideo.io.vwrite(str(e) + '.mp4', self.to_draw)\n",
    "\n",
    "    def get_frame(self,t):\n",
    "        b = np.zeros((self.grid_size,self.grid_size,3))+128\n",
    "        b[self.board>0,0]    = 256\n",
    "        b[self.board<0, 2] = 256\n",
    "        b[self.x,self.y,:]   = 256\n",
    "        b[-2:,:,:] = 0\n",
    "        b[:,-2:,:] = 0\n",
    "        b[:2,:,:]  = 0\n",
    "        b[:,:2,:]  = 0\n",
    "        b =  cv2.resize(b, None, fx=self.scale, fy=self.scale, interpolation=cv2.INTER_NEAREST)\n",
    "        self.to_draw[t,:,:,:]=b\n",
    "\n",
    "\n",
    "    def act(self, action, train=False):\n",
    "        \"\"\"This function returns the new state, reward and decides if the\n",
    "        game ends.\"\"\"\n",
    "        self.get_frame(int(self.t))\n",
    "        self.position = np.zeros((self.grid_size, self.grid_size))\n",
    "        self.position[0:2,:]= -1\n",
    "        self.position[:,0:2] = -1\n",
    "        self.position[-2:, :] = -1 \n",
    "        self.position[:, -2:] = -1\n",
    "        self.position[self.x, self.y] = 1\n",
    "        if action == 0:\n",
    "            if self.x == self.grid_size-3:\n",
    "                self.x = self.x-1\n",
    "            else:\n",
    "                self.x = self.x + 1\n",
    "        elif action == 1:\n",
    "            if self.x == 2:\n",
    "                self.x = self.x+1\n",
    "            else:\n",
    "                self.x = self.x-1\n",
    "        elif action == 2:\n",
    "            if self.y == self.grid_size - 3:\n",
    "                self.y = self.y - 1\n",
    "            else:\n",
    "                self.y = self.y + 1\n",
    "        elif action == 3:\n",
    "            if self.y == 2:\n",
    "                self.y = self.y + 1\n",
    "            else:\n",
    "                self.y = self.y - 1\n",
    "        else:\n",
    "            RuntimeError('Error: action not recognized')\n",
    "\n",
    "        self.t = self.t + 1\n",
    "        \n",
    "        reward = 0\n",
    "        if train:\n",
    "            reward = -self.malus_position[self.x, self.y]\n",
    "            \n",
    "        self.malus_position[self.x, self.y] += 0.1\n",
    "        reward = reward + self.board[self.x, self.y]   \n",
    "        \n",
    "        self.board[self.x, self.y] = 0 # erase reward from board\n",
    "        game_over = self.t > self.max_time # game over if more than 500 steps\n",
    "\n",
    "        state = np.concatenate((self.malus_position.reshape(self.grid_size, self.grid_size,1),\n",
    "                                self.board.reshape(self.grid_size, self.grid_size,1),\n",
    "                                self.position.reshape(self.grid_size, self.grid_size,1)),axis=2)\n",
    "        \n",
    "        state = state[self.x-2:self.x+3,self.y-2:self.y+3,:]\n",
    "\n",
    "        return state, reward, game_over\n",
    "\n",
    "    def reset(self):\n",
    "        \"\"\"This function resets the game and returns the initial state\"\"\"\n",
    "\n",
    "        self.x = np.random.randint(3, self.grid_size-3, size=1)[0]\n",
    "        self.y = np.random.randint(3, self.grid_size-3, size=1)[0]\n",
    "\n",
    "        # add 0.5 of reward in some cases of the board\n",
    "        bonus = 0.5*np.random.binomial(1,self.temperature,size=self.grid_size**2)\n",
    "        bonus = bonus.reshape(self.grid_size,self.grid_size)\n",
    "\n",
    "        # add -1 reward in some cases of the board\n",
    "        malus = -1.0*np.random.binomial(1,self.temperature,size=self.grid_size**2)\n",
    "        malus = malus.reshape(self.grid_size, self.grid_size)\n",
    "\n",
    "        self.to_draw = np.zeros((self.max_time+2, self.grid_size*self.scale, self.grid_size*self.scale, 3))\n",
    "\n",
    "\n",
    "        malus[bonus>0]=0 # if both malus and bonus on the same case -> put 0\n",
    "\n",
    "        self.board = bonus + malus # board is 0 if no reward, -0.5 if malus, 1 if positive reward\n",
    "        \n",
    "        # lines added (put 0 poison/cheese outside the border)\n",
    "        self.board[:2,:] = 0\n",
    "        self.board[-2:,:] = 0\n",
    "        self.board[:, :2] = 0\n",
    "        self.board[:, -2:] = 0\n",
    "\n",
    "        self.position = np.zeros((self.grid_size, self.grid_size))\n",
    "        self.position[0:2,:]= -1\n",
    "        self.position[:,0:2] = -1\n",
    "        self.position[-2:, :] = -1\n",
    "        self.position[:, -2:] = -1\n",
    "        self.board[self.x,self.y] = 0\n",
    "        self.t = 0\n",
    "        \n",
    "        self.malus_position = np.zeros((self.grid_size, self.grid_size))\n",
    "\n",
    "        state = np.concatenate((self.malus_position.reshape(self.grid_size, self.grid_size,1),\n",
    "                                self.board.reshape(self.grid_size, self.grid_size,1),\n",
    "                                self.position.reshape(self.grid_size, self.grid_size,1)),axis=2)\n",
    "\n",
    "        state = state[self.x - 2:self.x + 3, self.y - 2:self.y + 3, :]\n",
    "        return state"
   ]
  },
  {
   "cell_type": "code",
   "execution_count": 219,
   "metadata": {},
   "outputs": [
    {
     "name": "stdout",
     "output_type": "stream",
     "text": [
      "Model: \"sequential_109\"\n",
      "_________________________________________________________________\n",
      "Layer (type)                 Output Shape              Param #   \n",
      "=================================================================\n",
      "conv2d_121 (Conv2D)          (None, 3, 3, 64)          1792      \n",
      "_________________________________________________________________\n",
      "conv2d_122 (Conv2D)          (None, 1, 1, 128)         73856     \n",
      "_________________________________________________________________\n",
      "flatten_95 (Flatten)         (None, 128)               0         \n",
      "_________________________________________________________________\n",
      "dense_198 (Dense)            (None, 4)                 516       \n",
      "_________________________________________________________________\n",
      "dropout_87 (Dropout)         (None, 4)                 0         \n",
      "_________________________________________________________________\n",
      "dense_199 (Dense)            (None, 4)                 20        \n",
      "=================================================================\n",
      "Total params: 76,184\n",
      "Trainable params: 76,184\n",
      "Non-trainable params: 0\n",
      "_________________________________________________________________\n",
      "None\n",
      "Epoch 000/041 | Loss 0.2239 | Win/lose count 8.00/185.50 (-177.50)\n",
      "Epoch 001/041 | Loss 0.0089 | Win/lose count 8.00/115.40 (-107.40)\n",
      "Epoch 002/041 | Loss 0.0006 | Win/lose count 5.00/209.60 (-204.60)\n",
      "Epoch 003/041 | Loss 0.0050 | Win/lose count 3.50/196.80 (-193.30)\n",
      "Epoch 004/041 | Loss 0.0012 | Win/lose count 4.00/203.00 (-199.00)\n",
      "Epoch 005/041 | Loss 0.0076 | Win/lose count 6.50/82.90 (-76.40)\n",
      "Epoch 006/041 | Loss 0.0436 | Win/lose count 11.00/117.70 (-106.70)\n"
     ]
    },
    {
     "ename": "KeyboardInterrupt",
     "evalue": "",
     "output_type": "error",
     "traceback": [
      "\u001b[0;31m---------------------------------------------------------------------------\u001b[0m",
      "\u001b[0;31mKeyboardInterrupt\u001b[0m                         Traceback (most recent call last)",
      "\u001b[0;32m<ipython-input-219-3198aba09183>\u001b[0m in \u001b[0;36m<module>\u001b[0;34m\u001b[0m\n\u001b[1;32m      2\u001b[0m \u001b[0menv\u001b[0m \u001b[0;34m=\u001b[0m \u001b[0mEnvironmentExploring\u001b[0m\u001b[0;34m(\u001b[0m\u001b[0mgrid_size\u001b[0m\u001b[0;34m=\u001b[0m\u001b[0msize\u001b[0m\u001b[0;34m,\u001b[0m \u001b[0mmax_time\u001b[0m\u001b[0;34m=\u001b[0m\u001b[0mT\u001b[0m\u001b[0;34m,\u001b[0m \u001b[0mtemperature\u001b[0m\u001b[0;34m=\u001b[0m\u001b[0;36m0.3\u001b[0m\u001b[0;34m)\u001b[0m\u001b[0;34m\u001b[0m\u001b[0;34m\u001b[0m\u001b[0m\n\u001b[1;32m      3\u001b[0m \u001b[0magent\u001b[0m \u001b[0;34m=\u001b[0m \u001b[0mDQN_CNN\u001b[0m\u001b[0;34m(\u001b[0m\u001b[0msize\u001b[0m\u001b[0;34m,\u001b[0m \u001b[0mlr\u001b[0m\u001b[0;34m=\u001b[0m\u001b[0;36m.1\u001b[0m\u001b[0;34m,\u001b[0m \u001b[0mepsilon\u001b[0m \u001b[0;34m=\u001b[0m \u001b[0;36m0.1\u001b[0m\u001b[0;34m,\u001b[0m \u001b[0mmemory_size\u001b[0m\u001b[0;34m=\u001b[0m\u001b[0;36m2000\u001b[0m\u001b[0;34m,\u001b[0m \u001b[0mbatch_size\u001b[0m \u001b[0;34m=\u001b[0m \u001b[0;36m32\u001b[0m\u001b[0;34m,\u001b[0m \u001b[0mn_state\u001b[0m\u001b[0;34m=\u001b[0m\u001b[0;36m3\u001b[0m\u001b[0;34m)\u001b[0m\u001b[0;34m\u001b[0m\u001b[0;34m\u001b[0m\u001b[0m\n\u001b[0;32m----> 4\u001b[0;31m \u001b[0mtrain_explore\u001b[0m\u001b[0;34m(\u001b[0m\u001b[0magent\u001b[0m\u001b[0;34m,\u001b[0m \u001b[0menv\u001b[0m\u001b[0;34m,\u001b[0m \u001b[0mepochs_train\u001b[0m\u001b[0;34m,\u001b[0m \u001b[0mepsilon\u001b[0m\u001b[0;34m=\u001b[0m\u001b[0;36m0.1\u001b[0m\u001b[0;34m,\u001b[0m \u001b[0mdecay_rate\u001b[0m\u001b[0;34m=\u001b[0m\u001b[0;36m0.02\u001b[0m\u001b[0;34m,\u001b[0m \u001b[0mprefix\u001b[0m\u001b[0;34m=\u001b[0m\u001b[0;34m'train_explore'\u001b[0m\u001b[0;34m)\u001b[0m\u001b[0;34m\u001b[0m\u001b[0;34m\u001b[0m\u001b[0m\n\u001b[0m\u001b[1;32m      5\u001b[0m \u001b[0mHTML\u001b[0m\u001b[0;34m(\u001b[0m\u001b[0mdisplay_videos\u001b[0m\u001b[0;34m(\u001b[0m\u001b[0;34m'cnn_train_explore10.mp4'\u001b[0m\u001b[0;34m)\u001b[0m\u001b[0;34m)\u001b[0m\u001b[0;34m\u001b[0m\u001b[0;34m\u001b[0m\u001b[0m\n",
      "\u001b[0;32m<ipython-input-180-2790f39a218c>\u001b[0m in \u001b[0;36mtrain_explore\u001b[0;34m(agent, env, epoch, epsilon, decay_rate, prefix)\u001b[0m\n\u001b[1;32m     23\u001b[0m                 \u001b[0mlose\u001b[0m \u001b[0;34m-=\u001b[0m \u001b[0mreward\u001b[0m\u001b[0;34m\u001b[0m\u001b[0;34m\u001b[0m\u001b[0m\n\u001b[1;32m     24\u001b[0m             \u001b[0;31m# Apply the reinforcement strategy\u001b[0m\u001b[0;34m\u001b[0m\u001b[0;34m\u001b[0m\u001b[0;34m\u001b[0m\u001b[0m\n\u001b[0;32m---> 25\u001b[0;31m             \u001b[0mloss\u001b[0m \u001b[0;34m=\u001b[0m \u001b[0magent\u001b[0m\u001b[0;34m.\u001b[0m\u001b[0mreinforce\u001b[0m\u001b[0;34m(\u001b[0m\u001b[0mprev_state\u001b[0m\u001b[0;34m,\u001b[0m \u001b[0mstate\u001b[0m\u001b[0;34m,\u001b[0m \u001b[0maction\u001b[0m\u001b[0;34m,\u001b[0m \u001b[0mreward\u001b[0m\u001b[0;34m,\u001b[0m \u001b[0mgame_over\u001b[0m\u001b[0;34m)\u001b[0m\u001b[0;34m\u001b[0m\u001b[0;34m\u001b[0m\u001b[0m\n\u001b[0m\u001b[1;32m     26\u001b[0m         \u001b[0;31m# Save as a mp4\u001b[0m\u001b[0;34m\u001b[0m\u001b[0;34m\u001b[0m\u001b[0;34m\u001b[0m\u001b[0m\n\u001b[1;32m     27\u001b[0m         \u001b[0;32mif\u001b[0m \u001b[0me\u001b[0m \u001b[0;34m%\u001b[0m \u001b[0;36m10\u001b[0m \u001b[0;34m==\u001b[0m \u001b[0;36m0\u001b[0m\u001b[0;34m:\u001b[0m\u001b[0;34m\u001b[0m\u001b[0;34m\u001b[0m\u001b[0m\n",
      "\u001b[0;32m<ipython-input-190-3c0fad5bfe9c>\u001b[0m in \u001b[0;36mreinforce\u001b[0;34m(self, s_, n_s_, a_, r_, game_over_)\u001b[0m\n\u001b[1;32m     34\u001b[0m             \u001b[0minput_states\u001b[0m\u001b[0;34m[\u001b[0m\u001b[0mi\u001b[0m\u001b[0;34m]\u001b[0m \u001b[0;34m=\u001b[0m \u001b[0ms_\u001b[0m\u001b[0;34m\u001b[0m\u001b[0;34m\u001b[0m\u001b[0m\n\u001b[1;32m     35\u001b[0m \u001b[0;34m\u001b[0m\u001b[0m\n\u001b[0;32m---> 36\u001b[0;31m             \u001b[0mtarget_q\u001b[0m\u001b[0;34m[\u001b[0m\u001b[0mi\u001b[0m\u001b[0;34m]\u001b[0m \u001b[0;34m=\u001b[0m \u001b[0mself\u001b[0m\u001b[0;34m.\u001b[0m\u001b[0mmodel\u001b[0m\u001b[0;34m.\u001b[0m\u001b[0mpredict\u001b[0m\u001b[0;34m(\u001b[0m\u001b[0ms_\u001b[0m\u001b[0;34m[\u001b[0m\u001b[0mnp\u001b[0m\u001b[0;34m.\u001b[0m\u001b[0mnewaxis\u001b[0m\u001b[0;34m,\u001b[0m \u001b[0;34m:\u001b[0m\u001b[0;34m]\u001b[0m\u001b[0;34m)\u001b[0m\u001b[0;34m\u001b[0m\u001b[0;34m\u001b[0m\u001b[0m\n\u001b[0m\u001b[1;32m     37\u001b[0m \u001b[0;34m\u001b[0m\u001b[0m\n\u001b[1;32m     38\u001b[0m             \u001b[0;32mif\u001b[0m \u001b[0mgame_over_\u001b[0m\u001b[0;34m:\u001b[0m\u001b[0;34m\u001b[0m\u001b[0;34m\u001b[0m\u001b[0m\n",
      "\u001b[0;32m~/anaconda3/lib/python3.7/site-packages/keras/engine/training.py\u001b[0m in \u001b[0;36mpredict\u001b[0;34m(self, x, batch_size, verbose, steps, callbacks, max_queue_size, workers, use_multiprocessing)\u001b[0m\n\u001b[1;32m   1460\u001b[0m                                             \u001b[0mverbose\u001b[0m\u001b[0;34m=\u001b[0m\u001b[0mverbose\u001b[0m\u001b[0;34m,\u001b[0m\u001b[0;34m\u001b[0m\u001b[0;34m\u001b[0m\u001b[0m\n\u001b[1;32m   1461\u001b[0m                                             \u001b[0msteps\u001b[0m\u001b[0;34m=\u001b[0m\u001b[0msteps\u001b[0m\u001b[0;34m,\u001b[0m\u001b[0;34m\u001b[0m\u001b[0;34m\u001b[0m\u001b[0m\n\u001b[0;32m-> 1462\u001b[0;31m                                             callbacks=callbacks)\n\u001b[0m\u001b[1;32m   1463\u001b[0m \u001b[0;34m\u001b[0m\u001b[0m\n\u001b[1;32m   1464\u001b[0m     def train_on_batch(self, x, y,\n",
      "\u001b[0;31mKeyboardInterrupt\u001b[0m: "
     ]
    }
   ],
   "source": [
    "# Training\n",
    "env = EnvironmentExploring(grid_size=size, max_time=T, temperature=0.3)\n",
    "agent = DQN_CNN(size, lr=.1, epsilon = 0.1, memory_size=2000, batch_size = 32, n_state=3)\n",
    "train_explore(agent, env, epochs_train, epsilon=0.1, decay_rate=0.02, prefix='train_explore')\n",
    "HTML(display_videos('cnn_train_explore10.mp4'))"
   ]
  },
  {
   "cell_type": "code",
   "execution_count": null,
   "metadata": {
    "collapsed": true
   },
   "outputs": [],
   "source": [
    "# Evaluation\n",
    "test(agent,env,epochs_test,prefix='cnn_test_explore')\n",
    "HTML(display_videos('cnn_test_explore10.mp4'))"
   ]
  },
  {
   "cell_type": "markdown",
   "metadata": {},
   "source": [
    "***\n",
    "***\n",
    "__BONUS question__ Use the expert DQN from the previous question to generate some winning games. Train a model that mimicks its behavior. Compare the performances."
   ]
  },
  {
   "cell_type": "markdown",
   "metadata": {},
   "source": []
  },
  {
   "cell_type": "markdown",
   "metadata": {},
   "source": [
    "***"
   ]
  }
 ],
 "metadata": {
  "kernelspec": {
   "display_name": "Python 3",
   "language": "python",
   "name": "python3"
  },
  "language_info": {
   "codemirror_mode": {
    "name": "ipython",
    "version": 3
   },
   "file_extension": ".py",
   "mimetype": "text/x-python",
   "name": "python",
   "nbconvert_exporter": "python",
   "pygments_lexer": "ipython3",
   "version": "3.7.3"
  }
 },
 "nbformat": 4,
 "nbformat_minor": 2
}
